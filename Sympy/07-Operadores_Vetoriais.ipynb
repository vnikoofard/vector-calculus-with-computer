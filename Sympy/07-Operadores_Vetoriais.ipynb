{
 "cells": [
  {
   "source": [
    "# Operadores Vetoriais"
   ],
   "cell_type": "markdown",
   "metadata": {}
  },
  {
   "source": [
    "## Preamble"
   ],
   "cell_type": "markdown",
   "metadata": {}
  },
  {
   "cell_type": "code",
   "execution_count": 1,
   "metadata": {},
   "outputs": [],
   "source": [
    "import sympy.vector as sv\n",
    "import sympy as sp\n",
    "import plotly.graph_objects as go\n",
    "import numpy as np\n",
    "import av_utils as av"
   ]
  },
  {
   "cell_type": "code",
   "execution_count": 2,
   "metadata": {},
   "outputs": [],
   "source": [
    "x,y,z,t = sp.symbols('x y z t', real=True)"
   ]
  },
  {
   "cell_type": "code",
   "execution_count": 3,
   "metadata": {},
   "outputs": [],
   "source": [
    "R = sv.CoordSys3D(\"R\")"
   ]
  },
  {
   "cell_type": "markdown",
   "metadata": {},
   "source": [
    "## Gradiente"
   ]
  },
  {
   "source": [
    "O Gradiente está relacionado com a derivada direcional, ou seja, a variação de uma função  em uma direção especifica. O Gradiente de uma função é a direção que a função tem a maior variação. Pela definição o vetor gradiente da função $f(x,y,z)$ é \n",
    "\n",
    "$$\n",
    "\\begin{align}\n",
    "\\vec \\nabla f(x,y,z) &= \\frac{\\partial f(x,y,z)}{\\partial x} \\hat i + \\frac{\\partial f(x,y,z)}{\\partial y} \\hat j +\\frac{\\partial f(x,y,z)}{\\partial z} \\hat k \\\\\n",
    "&= \\partial_x f(x,y,z) \\hat i + \\partial_y f(x,y,z) \\hat j + \\partial_z f(x,y,z) \\hat k \\\\\n",
    "&= f_x(x,y,z) \\hat i + f_y(x,y,z) \\hat j + f_z(x,y,z) \\hat k\n",
    "\\end{align} \n",
    "$$\n",
    "Tendo o vector gradiente na mão é facil calcular a derivada da função na direção de um vector $\\vec u$\n",
    "$$\n",
    "\\vec D_u f(x,y,z)= \\vec \\nabla f(x,y,z) \\cdot \\hat u\n",
    "$$\n",
    "Onde $\\hat u$ é o vetor unitario do vetor $\\vec u$"
   ],
   "cell_type": "markdown",
   "metadata": {}
  },
  {
   "source": [
    "**EXEMPLO**\n",
    "\n",
    "Se $f(x, y, z) = x \\sin (yz)$, \n",
    "- (a) determine o gradiente de f e \n",
    "- (b) determine a derivada direcional de f em (1, 3, 0) na direção de $v = \\hat i + 2 \\hat j - \\hat k$."
   ],
   "cell_type": "markdown",
   "metadata": {}
  },
  {
   "source": [
    "Para resolver esse e tem o metodo `gradient` no modulo `av_utils`"
   ],
   "cell_type": "markdown",
   "metadata": {}
  },
  {
   "cell_type": "code",
   "execution_count": 4,
   "metadata": {},
   "outputs": [],
   "source": [
    "def f(x,y,z):\n",
    "    return x*sp.sin(y*z)"
   ]
  },
  {
   "cell_type": "code",
   "execution_count": 5,
   "metadata": {},
   "outputs": [
    {
     "output_type": "execute_result",
     "data": {
      "text/plain": [
       "(sin(y*z))*R.i + (x*z*cos(y*z))*R.j + (x*y*cos(y*z))*R.k"
      ],
      "text/latex": "$\\displaystyle (\\sin{\\left(y z \\right)})\\mathbf{\\hat{i}_{R}} + (x z \\cos{\\left(y z \\right)})\\mathbf{\\hat{j}_{R}} + (x y \\cos{\\left(y z \\right)})\\mathbf{\\hat{k}_{R}}$"
     },
     "metadata": {},
     "execution_count": 5
    }
   ],
   "source": [
    "av.gradient(f(x,y,z))"
   ]
  },
  {
   "source": [
    "Para para a derivada direcional no ponto dado temos que calcular o gradiente naquele ponto"
   ],
   "cell_type": "markdown",
   "metadata": {}
  },
  {
   "cell_type": "code",
   "execution_count": 6,
   "metadata": {},
   "outputs": [
    {
     "output_type": "execute_result",
     "data": {
      "text/plain": [
       "-sqrt(6)/2"
      ],
      "text/latex": "$\\displaystyle - \\frac{\\sqrt{6}}{2}$"
     },
     "metadata": {},
     "execution_count": 6
    }
   ],
   "source": [
    "av.gradient(f(x,y,z), (1,3,0)) & av.Unit_Vector(R.i + 2*R.j - R.k)"
   ]
  },
  {
   "source": [
    "### Intepretação Geometrica do Gradiente"
   ],
   "cell_type": "markdown",
   "metadata": {}
  },
  {
   "source": [
    "Gradiente de uma função, $z=f(x,y)$ pode ser interpretado como um campo vetorial. Esse campo vetorial é perpendicular as curvas de nivel da função em todos os pontos\n",
    "\n",
    "![\"Gradientee Curvas de Nivel\"](./images/gradiente.png)\n",
    "\n",
    "Para uma superfície com a equação $F(x, y, z) = k$, ou seja, uma superfície de nível de uma função $F$ de três variáveis, $w=F(x,y,z)$ e o ponto $(x_0,y_0,z_0)$ na superfície, o vetor gradiente é o vetor normal da superfície no ponto. Portanto, podemos usar o vetor tangente para achar a equação do **plano tangente** a superfícieno ponto.\n",
    "$$\n",
    " F_x(x_0,y_0,z_0) (x-x_0) + F_y(x_0,y_0,z_0) (y-y_0) + F_z(x_0,y_0,z_0) (z-z_0) = 0\n",
    "$$\n",
    "\n",
    "![](./images/gradiente3d.png)\n",
    "\n",
    "\n"
   ],
   "cell_type": "markdown",
   "metadata": {}
  },
  {
   "source": [
    "**EXEMPLO**: Determine as equações do plano tangente e da reta normal no ponto\n",
    "(-2, 1, -3) ao elipsoide \n",
    "$$\n",
    "\\frac{x^2}{2} + y^2 + \\frac{z^2}{9} = 3 \n",
    "$$\n",
    "\n",
    "**RESOLUÇÃO**:\n",
    "O elipsoide é a superfície de nível (com $k = 3$) da função\n",
    "$$\n",
    "F(x,y,z) = \\frac{x^2}{2} + y^2 + \\frac{z^2}{9}\n",
    "$$"
   ],
   "cell_type": "markdown",
   "metadata": {}
  },
  {
   "cell_type": "code",
   "execution_count": 7,
   "metadata": {},
   "outputs": [],
   "source": [
    "def F(x,y,z):\n",
    "    return x**2/4+y**2+z**2/9"
   ]
  },
  {
   "cell_type": "code",
   "execution_count": 8,
   "metadata": {},
   "outputs": [
    {
     "output_type": "execute_result",
     "data": {
      "text/plain": [
       "x**2/4 + y**2 + z**2/9"
      ],
      "text/latex": "$\\displaystyle \\frac{x^{2}}{4} + y^{2} + \\frac{z^{2}}{9}$"
     },
     "metadata": {},
     "execution_count": 8
    }
   ],
   "source": [
    "F(x,y,z)"
   ]
  },
  {
   "cell_type": "code",
   "execution_count": 9,
   "metadata": {},
   "outputs": [
    {
     "output_type": "execute_result",
     "data": {
      "text/plain": [
       "x/2*R.i + 2*y*R.j + 2*z/9*R.k"
      ],
      "text/latex": "$\\displaystyle (\\frac{x}{2})\\mathbf{\\hat{i}_{R}} + (2 y)\\mathbf{\\hat{j}_{R}} + (\\frac{2 z}{9})\\mathbf{\\hat{k}_{R}}$"
     },
     "metadata": {},
     "execution_count": 9
    }
   ],
   "source": [
    " av.gradient(F(x,y,z))"
   ]
  },
  {
   "cell_type": "code",
   "execution_count": 11,
   "metadata": {},
   "outputs": [],
   "source": [
    "gradF = av.gradient(F(x,y,z), (-2,1,-3))"
   ]
  },
  {
   "cell_type": "code",
   "execution_count": 12,
   "metadata": {},
   "outputs": [
    {
     "output_type": "execute_result",
     "data": {
      "text/plain": [
       "(-1)*R.i + 2*R.j + (-2/3)*R.k"
      ],
      "text/latex": "$\\displaystyle - \\mathbf{\\hat{i}_{R}} + (2)\\mathbf{\\hat{j}_{R}} + (- \\frac{2}{3})\\mathbf{\\hat{k}_{R}}$"
     },
     "metadata": {},
     "execution_count": 12
    }
   ],
   "source": [
    "gradF"
   ]
  },
  {
   "cell_type": "code",
   "execution_count": 15,
   "metadata": {},
   "outputs": [],
   "source": [
    "Fx = gradF & R.i\n",
    "Fy = gradF & R.j\n",
    "Fz = gradF & R.k"
   ]
  },
  {
   "cell_type": "code",
   "execution_count": 16,
   "metadata": {},
   "outputs": [],
   "source": [
    "plano = sp.Eq(Fx*(x+2)+ Fy*(y-1) + Fz*(z+3),0)"
   ]
  },
  {
   "source": [
    "Então a equação do plano tangente no ponto dado é "
   ],
   "cell_type": "markdown",
   "metadata": {}
  },
  {
   "cell_type": "code",
   "execution_count": 17,
   "metadata": {},
   "outputs": [
    {
     "output_type": "execute_result",
     "data": {
      "text/plain": [
       "Eq(-x + 2*y - 2*z/3 - 6, 0)"
      ],
      "text/latex": "$\\displaystyle - x + 2 y - \\frac{2 z}{3} - 6 = 0$"
     },
     "metadata": {},
     "execution_count": 17
    }
   ],
   "source": [
    "plano"
   ]
  },
  {
   "source": [
    "## Rotacional"
   ],
   "cell_type": "markdown",
   "metadata": {}
  },
  {
   "source": [
    "Se $\\vec F = P \\hat i + Q \\hat j + R \\hat k$ é um campo vetorial em $R^3$ e as derivadas parciais de $P$, $Q$ e $R$ existem, então o rotacional de $\\vec F$ é o campo vetorial em $R^3$ definido por\n",
    "\n",
    "$$\n",
    "\\text{rot}\\; \\vec F = (\\frac{\\partial R}{\\partial y} - \\frac{\\partial Q}{\\partial z})\\hat i + (\\frac{\\partial P}{\\partial z} - \\frac{\\partial R}{\\partial x})\\hat j + (\\frac{\\partial Q}{\\partial x} - \\frac{\\partial P}{\\partial y})\\hat k\n",
    "$$\n",
    "\n",
    "Se definirmos o operador vetorial $\\vec \\nabla$ como\n",
    "\n",
    "$$\n",
    "\\vec \\nabla = \\hat i \\frac{\\partial}{\\partial x} + \\hat j \\frac{\\partial}{\\partial y} + \\hat k \\frac{\\partial}{\\partial z}\n",
    "$$\n",
    "\n",
    "Podemos escrever o *rotacional* como o produto vetorial de $\\vec \\nabla$ pelo campo vetorial $\\vec F$ como segue\n",
    "$$\n",
    "\\vec \\nabla \\times \\vec F = \\begin{vmatrix}\n",
    "\\hat i & \\hat j & \\hat k\\\\ \n",
    "\\frac{\\partial}{\\partial x} & \\frac{\\partial}{\\partial y} & \\frac{\\partial}{\\partial z}\\\\ \n",
    "P & Q & R \\notag\n",
    "\\end{vmatrix}\n",
    "$$\n",
    "Assim, o modo mais fácil de lembrar a Definição do rotacional é pela expressão simbólica\n",
    "$$\n",
    "\\text{rot} \\; \\vec F = \\vec\\nabla \\times \\vec F\n",
    "$$"
   ],
   "cell_type": "markdown",
   "metadata": {}
  },
  {
   "cell_type": "code",
   "execution_count": 20,
   "metadata": {},
   "outputs": [],
   "source": [
    "def field(x,y,z):\n",
    "    return x*R.i + x*y*R.j + z*R.k"
   ]
  },
  {
   "cell_type": "code",
   "execution_count": 26,
   "metadata": {},
   "outputs": [
    {
     "output_type": "execute_result",
     "data": {
      "text/plain": [
       "y*R.k"
      ],
      "text/latex": "$\\displaystyle (y)\\mathbf{\\hat{k}_{R}}$"
     },
     "metadata": {},
     "execution_count": 26
    }
   ],
   "source": [
    "av.rotacional(field(x,y,z))"
   ]
  },
  {
   "cell_type": "code",
   "execution_count": 35,
   "metadata": {},
   "outputs": [
    {
     "output_type": "execute_result",
     "data": {
      "text/plain": [
       "3*R.k"
      ],
      "text/latex": "$\\displaystyle (3)\\mathbf{\\hat{k}_{R}}$"
     },
     "metadata": {},
     "execution_count": 35
    }
   ],
   "source": [
    "rotacional(field(x,y,z), point=(2,3,4))"
   ]
  },
  {
   "source": [
    "### Teoremas"
   ],
   "cell_type": "markdown",
   "metadata": {}
  },
  {
   "source": [
    "- Se $f$ é uma função de três variáveis que tem derivadas parciais de segunda ordem contínuas, então  \n",
    "$$\n",
    "\\text{rot}(\\vec\\nabla f) = 0\n",
    "$$\n",
    "- Se $\\vec F$ for um campo vetorial definido sobre todo $R^3$ cujas funções componentes tenham derivadas parciais de segunda ordem contínuas e $\\text{rot}\\; \\vec F = 0$, $\\vec F$ será um **campo vetorial conservativo**."
   ],
   "cell_type": "markdown",
   "metadata": {}
  },
  {
   "source": [
    "### Interpretação Geometrica\n",
    "\n",
    "\n",
    "A razão para o nome rotacional é que o vetor rotacional está associado com rotações. Uma conexão será explicada no Exercício 37 (Calculo, Vol2, J.Stewart, Ed. 7). Outra ocorre quando $\\vec F$ representa um campo de velocidade em mecânica dos fluidos (veja o Exemplo 3 na Seção 16.1). Partículas perto de $(x, y, z)$ no fluido tendem a rodar em torno do eixo que aponta na direção de $\\text{rot}\\; \\vec F (x, y,z)$, e o comprimento do vetor rotacional é a medida de quão rápido as partículas se movem\n",
    "em torno desse eixo (veja a Figura ). Se $\\text{rot} \\;\\vec F = 0$ no ponto $P$, então o fluido é isento de rotações em $P$ e $\\vec F$ é chamado **irrotacional em $P$**. Em outras palavras, não há nenhum turbilhão ou redemoinho em $P$. Se $\\text{rot}\\;\\vec F = 0$, uma pequena roda de pás move-se com o líquido, mas não roda em torno do seu eixo. Se $\\text{rot}\\;\\vec F \\neq 0$, a roda com pás giraria em torno de seu eixo. Veremos mais detalhes sobre essa explanação como consequência do Teorema de Stokes.\n",
    "\n",
    "!['rotacional'](./images/rotacional.png)"
   ],
   "cell_type": "markdown",
   "metadata": {}
  },
  {
   "source": [
    "## Divergente"
   ],
   "cell_type": "markdown",
   "metadata": {}
  },
  {
   "source": [
    "Se $\\vec F = P \\hat i + Q \\hat j + R \\hat k$ é um campo vetorial em $R^3$ e $\\frac{\\partial P}{\\partial x}$, $\\frac{\\partial Q}{\\partial y}$ e $\\frac{\\partial R}{\\partial z}$ existem, então o divergente de $\\vec F$ é a função de três variáveis definida por\n",
    "$$\n",
    "\\text{div} \\; \\vec F = \\frac{\\partial P}{\\partial x} +\\frac{\\partial Q}{\\partial y} + \\frac{\\partial R}{\\partial z}\n",
    "$$\n",
    "Observe que $ \\text{rot}\\; \\vec F$ é um campo vetorial, mas $ \\text{div}\\; \\vec F$ é um campo escalar. Em termos do operador gradiente, o divergente de $vec F$ pode ser escrito simbolicamente como o produto escalar de $\\vec \\nabla$ e $\\vec F$:\n",
    "$$\n",
    "\\text{div} \\; \\vec F = \\vec\\nabla \\cdot \\vec F\n",
    "$$"
   ],
   "cell_type": "markdown",
   "metadata": {}
  },
  {
   "cell_type": "code",
   "execution_count": 40,
   "metadata": {},
   "outputs": [
    {
     "output_type": "execute_result",
     "data": {
      "text/plain": [
       "x + 2"
      ],
      "text/latex": "$\\displaystyle x + 2$"
     },
     "metadata": {},
     "execution_count": 40
    }
   ],
   "source": [
    "av.divergente(field(x,y,z))"
   ]
  },
  {
   "cell_type": "code",
   "execution_count": 41,
   "metadata": {},
   "outputs": [
    {
     "output_type": "execute_result",
     "data": {
      "text/plain": [
       "4"
      ],
      "text/latex": "$\\displaystyle 4$"
     },
     "metadata": {},
     "execution_count": 41
    }
   ],
   "source": [
    "av.divergente(field(x,y,z), (2,3,4))"
   ]
  },
  {
   "source": [
    "### Teorema\n",
    "\n",
    "- Se $\\vec F = P \\hat i + Q \\hat j + R \\hat k$ é um campo vetorial sobre $R^3$ e $P$, $Q$ e $R$ têm derivadas parciais de segunda ordem contínuas, então\n",
    "\n",
    "$$\n",
    "\\text{div rot} \\;\\vec F = 0\n",
    "$$"
   ],
   "cell_type": "markdown",
   "metadata": {}
  },
  {
   "source": [
    "### Interpretação Geometrica\n",
    "\n",
    "Novamente, a razão para o nome divergente pode ser entendida no contexto da mecânica dos fluidos. Se $\\vec F(x, y, z)$ é a velocidade de um fluido (ou gás), então $\\text{div} \\;\\vec F(x, y, z)$ representa a taxa de variação total (com relação ao tempo) da massa do fluido (ou gás) escoando do ponto $(x, y, z)$ por unidade de volume. Em outras palavras, $\\text{div} \\;\\vec F(x, y, z)$ mede a tendência de o fluido divergir do ponto $(x, y, z)$. Se $\\vec F = 0$, então $\\vec F$ é dito *incompressível*.\n"
   ],
   "cell_type": "markdown",
   "metadata": {}
  },
  {
   "source": [
    "## Laplaciano\n",
    "\n",
    "Outro operador diferencial aparece quando calculamos o divergente do gradiente de um campo vetorial  $\\vec\\nabla f$. Se $f$ é uma função de três variáveis, temos\n",
    "$$\n",
    "\\text{div}(\\vec\\nabla f) = \\vec\\nabla \\cdot (\\vec\\nabla f) = \\frac{\\partial^2 f}{\\partial x^2} + \\frac{\\partial^2 f}{\\partial y^2} + \\frac{\\partial^2 f}{\\partial z^2}\n",
    "$$\n",
    "e essa expressão aparece tão frequentemente que vamos abreviá-la como $\\vec\\nabla^2 f$. Esse operador\n",
    "$$\n",
    "\\vec\\nabla^2 = \\vec\\nabla \\cdot \\vec\\nabla \n",
    "$$\n",
    "é chamado operador de Laplace por sua relação com a **equação de Laplace**\n",
    "$$\n",
    "\\vec\\nabla^2 f =  \\frac{\\partial^2 f}{\\partial x^2} + \\frac{\\partial^2 f}{\\partial y^2} + \\frac{\\partial^2 f}{\\partial z^2} = 0\n",
    "$$\n",
    "Podemos também aplicar o laplaciano $\\vec\\nabla^2$ a um campo vetorial\n",
    "$$\n",
    "\\vec F = P \\hat i + Q \\hat j + R \\hat k\n",
    "$$\n",
    "em termos de suas componentes:\n",
    "$$\n",
    "\\vec\\nabla^2 F = \\vec\\nabla^2 P \\; \\hat i + \\vec\\nabla^2 Q \\;\\hat j + \\vec\\nabla^2 R \\;\\hat k\n",
    "$$"
   ],
   "cell_type": "markdown",
   "metadata": {}
  }
 ],
 "metadata": {
  "kernelspec": {
   "display_name": "Python 3",
   "language": "python",
   "name": "python3"
  },
  "language_info": {
   "codemirror_mode": {
    "name": "ipython",
    "version": 3
   },
   "file_extension": ".py",
   "mimetype": "text/x-python",
   "name": "python",
   "nbconvert_exporter": "python",
   "pygments_lexer": "ipython3",
   "version": "3.7.8-final"
  }
 },
 "nbformat": 4,
 "nbformat_minor": 4
}