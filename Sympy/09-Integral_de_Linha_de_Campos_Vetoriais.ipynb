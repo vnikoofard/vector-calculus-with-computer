{
 "cells": [
  {
   "cell_type": "markdown",
   "metadata": {},
   "source": [
    "# Integral de Linha de Campos Vetoriais"
   ]
  },
  {
   "cell_type": "markdown",
   "metadata": {},
   "source": [
    "## Preamble"
   ]
  },
  {
   "cell_type": "code",
   "execution_count": 1,
   "metadata": {},
   "outputs": [],
   "source": [
    "import av_utils as av\n",
    "import numpy as np\n",
    "import sympy as sp\n",
    "import sympy.vector as sv\n",
    "import plotly.graph_objects as go\n",
    "from sympy.plotting.plot import plot3d, plot3d_parametric_line, plot3d_parametric_surface, plot_parametric\n",
    "import matplotlib.pyplot as plt"
   ]
  },
  {
   "cell_type": "markdown",
   "metadata": {},
   "source": [
    "Preparandndo o ambiente de plotagem"
   ]
  },
  {
   "cell_type": "code",
   "execution_count": 2,
   "metadata": {},
   "outputs": [],
   "source": [
    "sp.init_printing()"
   ]
  },
  {
   "cell_type": "markdown",
   "metadata": {},
   "source": [
    "Definir algumas variaveis para usar"
   ]
  },
  {
   "cell_type": "code",
   "execution_count": 3,
   "metadata": {},
   "outputs": [],
   "source": [
    "x,y,z,t,s,u,v, phi, theta = sp.symbols('x y z t s u v phi theta',real=True)"
   ]
  },
  {
   "cell_type": "markdown",
   "metadata": {},
   "source": [
    "Definir um sistema de coordenadas"
   ]
  },
  {
   "cell_type": "code",
   "execution_count": 4,
   "metadata": {},
   "outputs": [],
   "source": [
    "R = sv.CoordSys3D('R')"
   ]
  },
  {
   "cell_type": "markdown",
   "metadata": {},
   "source": [
    "## Introdução"
   ]
  },
  {
   "cell_type": "markdown",
   "metadata": {},
   "source": [
    "Desta vez, estamos olhando para algo que é relacionado, mas distinto do chapter anterior: integrais de linha de campos vetoriais. Você deve separar claramente esses dois conceitos em sua mente, e pergunte a si mesmo, cada vez que for calcular uma integral de linha, \"Que tipo de função estou integrando?\" Seu livro didático geralmente ajuda escrevendo integrais de linha de funções escalares com o diferencial $ds$, e integrais de linha de campos vetoriais com o diferencial $dr$ ou $d\\vec r$ Útil, não é? \n",
    "Por outro lado, você não deve se deixar confundir pelos símbolos $\\int_C$ e $\\oint_C$ - eles significam quase a mesma coisa! O símbolo $\\int_C$ sempre pode ser usado no lugar de $\\oint_C$. Escrevemos $\\oint_C$ quando queremos um lembrete extra de que C é um caminho fechado (termina no mesmo ponto em que começou). É claro que não escrevemos $\\oint_C$ se C não está fechado!\n",
    "Finalmente, esteja avisado que, em alguns livros, \"integral de linha\" e \"integral de caminho\" são sinônimos, enquanto outros livros os chamam de \"integrais de linha de campos de vetores\" e integrais de linha de funções escalares\", respetivamente.\n",
    "$$\n",
    "\\int_C \\vec F \\cdot d\\vec r = \\int_a^b \\vec F (\\vec r(t))\\cdot \\vec{r^\\prime}(t) dt.\n",
    "$$\n",
    "Tem outra forma de escrever essa integral de linha expressando os vetores em termo dos seus componentes. $d\\vec r = dx \\hat i + dy \\hat j$, e $\\vec F(x,y) = P(x,y)\\hat i + Q(x,y) \\hat j$. Nesta forma podemos reescrever a integral na seguinte maneira \n",
    "$$\n",
    "\\begin{align}\n",
    "\\int_C \\vec F \\cdot d\\vec r &= \\int_C(P(x,y)\\hat i + Q(x,y) \\hat j)\\cdot(dx \\hat i + dy \\hat j) \\\\ \n",
    "&=\\int_C P(x,y) dx + Q(x,y) dy.\n",
    "\\end{align}\n",
    "$$\n",
    "A parametrização da integral acima é dada por\n",
    "$$\n",
    "\\int_C P(x,y) dx + Q(x,y) dy = \\int_a^b P(x(t),y(t)) x^\\prime(t) dt + Q(x(t),y(t)) y^\\prime(t)dt.\n",
    "$$"
   ]
  },
  {
   "cell_type": "markdown",
   "metadata": {},
   "source": [
    "**Exemplo:**\n",
    "Calcule a integral $ \\int_C \\vec F \\cdot d\\vec r$ onde $\\vec F(x,y,z) = <z^3,y^2,x>$ e $C$ é a curva parametrizada $\\vec r(t) = (t,\\sin(t),1), \\;0\\leq t \\leq \\pi$ \n",
    "\n",
    "**Resolução:**\n",
    "Primeiro vamos resolver sem computador e depois implementamos no Python.\n",
    "* 1-\n",
    "O primeiro passo é determinar a equação parametrica da curva. Nesta questão, a equação é dada. O segundo passo é escrever a equação do campo vetorial que tambem é dada nesta questão. Agora temos que parametrizar o campo vetorial usando a equação da curva. \n",
    "$$\n",
    "\\vec F(x,y,z) \\rightarrow \\vec F(x(t),y(t),z(t)) = (1^3, \\sin^2(t),t).\n",
    "$$\n",
    "O proximo passo é calcular $d\\vec r$,\n",
    "$$\n",
    "d\\vec r = x^\\prime(t) dt \\hat i + y^\\prime(t) dt \\hat j+ z^\\prime(t) dt \\hat k= 1 dt \\hat i + \\cos(t) dt \\hat j + 0 dt \\hat k.\n",
    "$$\n",
    "Agora temos todos os ingredientes prontos para resolver a integral,\n",
    "\n",
    "$$\n",
    "\\begin{align}\n",
    "\\int_C \\vec F \\cdot d\\vec r &= \\int^\\pi_0 (1^3, \\sin^2(t),t^3) \\cdot (1 dt \\hat i + \\cos(t) dt \\hat j + 0 dt \\hat k)\\\\\n",
    "&= \\int^\\pi_0 dt + \\cos(t)\\sin^2(t) dt + 0 \\\\\n",
    "&= t \\big\\rvert^\\pi_0 + \\frac{\\sin^3(t)}{3}\\big\\rvert^\\pi_0 =\\pi.\n",
    "\\end{align}\n",
    "$$\n",
    "* 2- \n",
    "Agora vamos implementar esse procedimento no Python. Obviamente, primeiro temos que definir a curva e o campo como uma função. "
   ]
  },
  {
   "cell_type": "code",
   "execution_count": 5,
   "metadata": {},
   "outputs": [],
   "source": [
    "def curve1(t): return t*R.i + sp.sin(t)*R.j + R.k"
   ]
  },
  {
   "cell_type": "code",
   "execution_count": 6,
   "metadata": {},
   "outputs": [
    {
     "output_type": "execute_result",
     "data": {
      "text/plain": [
       "t*R.i + (sin(t))*R.j + R.k"
      ],
      "image/png": "[encoded data removed]",
      "text/latex": "$\\displaystyle (t)\\mathbf{\\hat{i}_{R}} + (\\sin{\\left(t \\right)})\\mathbf{\\hat{j}_{R}} + \\mathbf{\\hat{k}_{R}}$"
     },
     "metadata": {},
     "execution_count": 6
    }
   ],
   "source": [
    "curve1(t)"
   ]
  },
  {
   "cell_type": "code",
   "execution_count": 7,
   "metadata": {},
   "outputs": [],
   "source": [
    "def field1(x,y,z): return z**3*R.i + y**2*R.j + x*R.k"
   ]
  },
  {
   "cell_type": "code",
   "execution_count": 8,
   "metadata": {
    "scrolled": true
   },
   "outputs": [
    {
     "output_type": "execute_result",
     "data": {
      "text/plain": [
       "z**3*R.i + y**2*R.j + x*R.k"
      ],
      "image/png": "[encoded data removed]",
      "text/latex": "$\\displaystyle (z^{3})\\mathbf{\\hat{i}_{R}} + (y^{2})\\mathbf{\\hat{j}_{R}} + (x)\\mathbf{\\hat{k}_{R}}$"
     },
     "metadata": {},
     "execution_count": 8
    }
   ],
   "source": [
    "field1(x,y,z)"
   ]
  },
  {
   "cell_type": "markdown",
   "metadata": {},
   "source": [
    "Antes de começar a calcular a integral vamos dar uma olhada no grafico da curva e do compo"
   ]
  },
  {
   "cell_type": "code",
   "execution_count": 20,
   "metadata": {},
   "outputs": [],
   "source": [
    "fig = av.plot3d_vector_field(field1(x,y,z),(x,-2,2),(y,-2,2),(z,-2,2),points=5)"
   ]
  },
  {
   "cell_type": "code",
   "execution_count": 21,
   "metadata": {},
   "outputs": [
    {
     "output_type": "display_data",
     "data": {
      "application/vnd.plotly.v1+json": {
       "config": {
        "plotlyServerURL": "https://plot.ly"
       },
       "data": [
        {
         "colorscale": [
          [
           0,
           "rgb(247,251,255)"
          ],
          [
           0.125,
           "rgb(222,235,247)"
          ],
          [
           0.25,
           "rgb(198,219,239)"
          ],
          [
           0.375,
           "rgb(158,202,225)"
          ],
          [
           0.5,
           "rgb(107,174,214)"
          ],
          [
           0.625,
           "rgb(66,146,198)"
          ],
          [
           0.75,
           "rgb(33,113,181)"
          ],
          [
           0.875,
           "rgb(8,81,156)"
          ],
          [
           1,
           "rgb(8,48,107)"
          ]
         ],
         "sizeref": 1,
         "type": "cone",
         "u": [
          -0.5,
          -0.0625,
          0,
          0.0625,
          0.5,
          -0.5,
          -0.0625,
          0,
          0.0625,
          0.5,
          -0.5,
          -0.0625,
          0,
          0.0625,
          0.5,
          -0.5,
          -0.0625,
          0,
          0.0625,
          0.5,
          -0.5,
          -0.0625,
          0,
          0.0625,
          0.5,
          -0.5,
          -0.0625,
          0,
          0.0625,
          0.5,
          -0.5,
          -0.0625,
          0,
          0.0625,
          0.5,
          -0.5,
          -0.0625,
          0,
          0.0625,
          0.5,
          -0.5,
          -0.0625,
          0,
          0.0625,
          0.5,
          -0.5,
          -0.0625,
          0,
          0.0625,
          0.5,
          -0.5,
          -0.0625,
          0,
          0.0625,
          0.5,
          -0.5,
          -0.0625,
          0,
          0.0625,
          0.5,
          -0.5,
          -0.0625,
          0,
          0.0625,
          0.5,
          -0.5,
          -0.0625,
          0,
          0.0625,
          0.5,
          -0.5,
          -0.0625,
          0,
          0.0625,
          0.5,
          -0.5,
          -0.0625,
          0,
          0.0625,
          0.5,
          -0.5,
          -0.0625,
          0,
          0.0625,
          0.5,
          -0.5,
          -0.0625,
          0,
          0.0625,
          0.5,
          -0.5,
          -0.0625,
          0,
          0.0625,
          0.5,
          -0.5,
          -0.0625,
          0,
          0.0625,
          0.5,
          -0.5,
          -0.0625,
          0,
          0.0625,
          0.5,
          -0.5,
          -0.0625,
          0,
          0.0625,
          0.5,
          -0.5,
          -0.0625,
          0,
          0.0625,
          0.5,
          -0.5,
          -0.0625,
          0,
          0.0625,
          0.5,
          -0.5,
          -0.0625,
          0,
          0.0625,
          0.5
         ],
         "v": [
          0.5,
          0.5,
          0.5,
          0.5,
          0.5,
          -0.25,
          -0.25,
          -0.25,
          -0.25,
          -0.25,
          -0.5,
          -0.5,
          -0.5,
          -0.5,
          -0.5,
          -0.25,
          -0.25,
          -0.25,
          -0.25,
          -0.25,
          0.5,
          0.5,
          0.5,
          0.5,
          0.5,
          0.5,
          0.5,
          0.5,
          0.5,
          0.5,
          -0.25,
          -0.25,
          -0.25,
          -0.25,
          -0.25,
          -0.5,
          -0.5,
          -0.5,
          -0.5,
          -0.5,
          -0.25,
          -0.25,
          -0.25,
          -0.25,
          -0.25,
          0.5,
          0.5,
          0.5,
          0.5,
          0.5,
          0.5,
          0.5,
          0.5,
          0.5,
          0.5,
          -0.25,
          -0.25,
          -0.25,
          -0.25,
          -0.25,
          -0.5,
          -0.5,
          -0.5,
          -0.5,
          -0.5,
          -0.25,
          -0.25,
          -0.25,
          -0.25,
          -0.25,
          0.5,
          0.5,
          0.5,
          0.5,
          0.5,
          0.5,
          0.5,
          0.5,
          0.5,
          0.5,
          -0.25,
          -0.25,
          -0.25,
          -0.25,
          -0.25,
          -0.5,
          -0.5,
          -0.5,
          -0.5,
          -0.5,
          -0.25,
          -0.25,
          -0.25,
          -0.25,
          -0.25,
          0.5,
          0.5,
          0.5,
          0.5,
          0.5,
          0.5,
          0.5,
          0.5,
          0.5,
          0.5,
          -0.25,
          -0.25,
          -0.25,
          -0.25,
          -0.25,
          -0.5,
          -0.5,
          -0.5,
          -0.5,
          -0.5,
          -0.25,
          -0.25,
          -0.25,
          -0.25,
          -0.25,
          0.5,
          0.5,
          0.5,
          0.5,
          0.5
         ],
         "w": [
          -0.5,
          -0.5,
          -0.5,
          -0.5,
          -0.5,
          -0.5,
          -0.5,
          -0.5,
          -0.5,
          -0.5,
          -0.5,
          -0.5,
          -0.5,
          -0.5,
          -0.5,
          -0.5,
          -0.5,
          -0.5,
          -0.5,
          -0.5,
          -0.5,
          -0.5,
          -0.5,
          -0.5,
          -0.5,
          -0.25,
          -0.25,
          -0.25,
          -0.25,
          -0.25,
          -0.25,
          -0.25,
          -0.25,
          -0.25,
          -0.25,
          -0.25,
          -0.25,
          -0.25,
          -0.25,
          -0.25,
          -0.25,
          -0.25,
          -0.25,
          -0.25,
          -0.25,
          -0.25,
          -0.25,
          -0.25,
          -0.25,
          -0.25,
          0,
          0,
          0,
          0,
          0,
          0,
          0,
          0,
          0,
          0,
          0,
          0,
          0,
          0,
          0,
          0,
          0,
          0,
          0,
          0,
          0,
          0,
          0,
          0,
          0,
          0.25,
          0.25,
          0.25,
          0.25,
          0.25,
          0.25,
          0.25,
          0.25,
          0.25,
          0.25,
          0.25,
          0.25,
          0.25,
          0.25,
          0.25,
          0.25,
          0.25,
          0.25,
          0.25,
          0.25,
          0.25,
          0.25,
          0.25,
          0.25,
          0.25,
          0.5,
          0.5,
          0.5,
          0.5,
          0.5,
          0.5,
          0.5,
          0.5,
          0.5,
          0.5,
          0.5,
          0.5,
          0.5,
          0.5,
          0.5,
          0.5,
          0.5,
          0.5,
          0.5,
          0.5,
          0.5,
          0.5,
          0.5,
          0.5,
          0.5
         ],
         "x": [
          -2,
          -2,
          -2,
          -2,
          -2,
          -2,
          -2,
          -2,
          -2,
          -2,
          -2,
          -2,
          -2,
          -2,
          -2,
          -2,
          -2,
          -2,
          -2,
          -2,
          -2,
          -2,
          -2,
          -2,
          -2,
          -1,
          -1,
          -1,
          -1,
          -1,
          -1,
          -1,
          -1,
          -1,
          -1,
          -1,
          -1,
          -1,
          -1,
          -1,
          -1,
          -1,
          -1,
          -1,
          -1,
          -1,
          -1,
          -1,
          -1,
          -1,
          0,
          0,
          0,
          0,
          0,
          0,
          0,
          0,
          0,
          0,
          0,
          0,
          0,
          0,
          0,
          0,
          0,
          0,
          0,
          0,
          0,
          0,
          0,
          0,
          0,
          1,
          1,
          1,
          1,
          1,
          1,
          1,
          1,
          1,
          1,
          1,
          1,
          1,
          1,
          1,
          1,
          1,
          1,
          1,
          1,
          1,
          1,
          1,
          1,
          1,
          2,
          2,
          2,
          2,
          2,
          2,
          2,
          2,
          2,
          2,
          2,
          2,
          2,
          2,
          2,
          2,
          2,
          2,
          2,
          2,
          2,
          2,
          2,
          2,
          2
         ],
         "y": [
          -2,
          -2,
          -2,
          -2,
          -2,
          -1,
          -1,
          -1,
          -1,
          -1,
          0,
          0,
          0,
          0,
          0,
          1,
          1,
          1,
          1,
          1,
          2,
          2,
          2,
          2,
          2,
          -2,
          -2,
          -2,
          -2,
          -2,
          -1,
          -1,
          -1,
          -1,
          -1,
          0,
          0,
          0,
          0,
          0,
          1,
          1,
          1,
          1,
          1,
          2,
          2,
          2,
          2,
          2,
          -2,
          -2,
          -2,
          -2,
          -2,
          -1,
          -1,
          -1,
          -1,
          -1,
          0,
          0,
          0,
          0,
          0,
          1,
          1,
          1,
          1,
          1,
          2,
          2,
          2,
          2,
          2,
          -2,
          -2,
          -2,
          -2,
          -2,
          -1,
          -1,
          -1,
          -1,
          -1,
          0,
          0,
          0,
          0,
          0,
          1,
          1,
          1,
          1,
          1,
          2,
          2,
          2,
          2,
          2,
          -2,
          -2,
          -2,
          -2,
          -2,
          -1,
          -1,
          -1,
          -1,
          -1,
          0,
          0,
          0,
          0,
          0,
          1,
          1,
          1,
          1,
          1,
          2,
          2,
          2,
          2,
          2
         ],
         "z": [
          -2,
          -1,
          0,
          1,
          2,
          -2,
          -1,
          0,
          1,
          2,
          -2,
          -1,
          0,
          1,
          2,
          -2,
          -1,
          0,
          1,
          2,
          -2,
          -1,
          0,
          1,
          2,
          -2,
          -1,
          0,
          1,
          2,
          -2,
          -1,
          0,
          1,
          2,
          -2,
          -1,
          0,
          1,
          2,
          -2,
          -1,
          0,
          1,
          2,
          -2,
          -1,
          0,
          1,
          2,
          -2,
          -1,
          0,
          1,
          2,
          -2,
          -1,
          0,
          1,
          2,
          -2,
          -1,
          0,
          1,
          2,
          -2,
          -1,
          0,
          1,
          2,
          -2,
          -1,
          0,
          1,
          2,
          -2,
          -1,
          0,
          1,
          2,
          -2,
          -1,
          0,
          1,
          2,
          -2,
          -1,
          0,
          1,
          2,
          -2,
          -1,
          0,
          1,
          2,
          -2,
          -1,
          0,
          1,
          2,
          -2,
          -1,
          0,
          1,
          2,
          -2,
          -1,
          0,
          1,
          2,
          -2,
          -1,
          0,
          1,
          2,
          -2,
          -1,
          0,
          1,
          2,
          -2,
          -1,
          0,
          1,
          2
         ]
        }
       ],
       "layout": {
        "template": {
         "data": {
          "bar": [
           {
            "error_x": {
             "color": "#2a3f5f"
            },
            "error_y": {
             "color": "#2a3f5f"
            },
            "marker": {
             "line": {
              "color": "#E5ECF6",
              "width": 0.5
             }
            },
            "type": "bar"
           }
          ],
          "barpolar": [
           {
            "marker": {
             "line": {
              "color": "#E5ECF6",
              "width": 0.5
             }
            },
            "type": "barpolar"
           }
          ],
          "carpet": [
           {
            "aaxis": {
             "endlinecolor": "#2a3f5f",
             "gridcolor": "white",
             "linecolor": "white",
             "minorgridcolor": "white",
             "startlinecolor": "#2a3f5f"
            },
            "baxis": {
             "endlinecolor": "#2a3f5f",
             "gridcolor": "white",
             "linecolor": "white",
             "minorgridcolor": "white",
             "startlinecolor": "#2a3f5f"
            },
            "type": "carpet"
           }
          ],
          "choropleth": [
           {
            "colorbar": {
             "outlinewidth": 0,
             "ticks": ""
            },
            "type": "choropleth"
           }
          ],
          "contour": [
           {
            "colorbar": {
             "outlinewidth": 0,
             "ticks": ""
            },
            "colorscale": [
             [
              0,
              "#0d0887"
             ],
             [
              0.1111111111111111,
              "#46039f"
             ],
             [
              0.2222222222222222,
              "#7201a8"
             ],
             [
              0.3333333333333333,
              "#9c179e"
             ],
             [
              0.4444444444444444,
              "#bd3786"
             ],
             [
              0.5555555555555556,
              "#d8576b"
             ],
             [
              0.6666666666666666,
              "#ed7953"
             ],
             [
              0.7777777777777778,
              "#fb9f3a"
             ],
             [
              0.8888888888888888,
              "#fdca26"
             ],
             [
              1,
              "#f0f921"
             ]
            ],
            "type": "contour"
           }
          ],
          "contourcarpet": [
           {
            "colorbar": {
             "outlinewidth": 0,
             "ticks": ""
            },
            "type": "contourcarpet"
           }
          ],
          "heatmap": [
           {
            "colorbar": {
             "outlinewidth": 0,
             "ticks": ""
            },
            "colorscale": [
             [
              0,
              "#0d0887"
             ],
             [
              0.1111111111111111,
              "#46039f"
             ],
             [
              0.2222222222222222,
              "#7201a8"
             ],
             [
              0.3333333333333333,
              "#9c179e"
             ],
             [
              0.4444444444444444,
              "#bd3786"
             ],
             [
              0.5555555555555556,
              "#d8576b"
             ],
             [
              0.6666666666666666,
              "#ed7953"
             ],
             [
              0.7777777777777778,
              "#fb9f3a"
             ],
             [
              0.8888888888888888,
              "#fdca26"
             ],
             [
              1,
              "#f0f921"
             ]
            ],
            "type": "heatmap"
           }
          ],
          "heatmapgl": [
           {
            "colorbar": {
             "outlinewidth": 0,
             "ticks": ""
            },
            "colorscale": [
             [
              0,
              "#0d0887"
             ],
             [
              0.1111111111111111,
              "#46039f"
             ],
             [
              0.2222222222222222,
              "#7201a8"
             ],
             [
              0.3333333333333333,
              "#9c179e"
             ],
             [
              0.4444444444444444,
              "#bd3786"
             ],
             [
              0.5555555555555556,
              "#d8576b"
             ],
             [
              0.6666666666666666,
              "#ed7953"
             ],
             [
              0.7777777777777778,
              "#fb9f3a"
             ],
             [
              0.8888888888888888,
              "#fdca26"
             ],
             [
              1,
              "#f0f921"
             ]
            ],
            "type": "heatmapgl"
           }
          ],
          "histogram": [
           {
            "marker": {
             "colorbar": {
              "outlinewidth": 0,
              "ticks": ""
             }
            },
            "type": "histogram"
           }
          ],
          "histogram2d": [
           {
            "colorbar": {
             "outlinewidth": 0,
             "ticks": ""
            },
            "colorscale": [
             [
              0,
              "#0d0887"
             ],
             [
              0.1111111111111111,
              "#46039f"
             ],
             [
              0.2222222222222222,
              "#7201a8"
             ],
             [
              0.3333333333333333,
              "#9c179e"
             ],
             [
              0.4444444444444444,
              "#bd3786"
             ],
             [
              0.5555555555555556,
              "#d8576b"
             ],
             [
              0.6666666666666666,
              "#ed7953"
             ],
             [
              0.7777777777777778,
              "#fb9f3a"
             ],
             [
              0.8888888888888888,
              "#fdca26"
             ],
             [
              1,
              "#f0f921"
             ]
            ],
            "type": "histogram2d"
           }
          ],
          "histogram2dcontour": [
           {
            "colorbar": {
             "outlinewidth": 0,
             "ticks": ""
            },
            "colorscale": [
             [
              0,
              "#0d0887"
             ],
             [
              0.1111111111111111,
              "#46039f"
             ],
             [
              0.2222222222222222,
              "#7201a8"
             ],
             [
              0.3333333333333333,
              "#9c179e"
             ],
             [
              0.4444444444444444,
              "#bd3786"
             ],
             [
              0.5555555555555556,
              "#d8576b"
             ],
             [
              0.6666666666666666,
              "#ed7953"
             ],
             [
              0.7777777777777778,
              "#fb9f3a"
             ],
             [
              0.8888888888888888,
              "#fdca26"
             ],
             [
              1,
              "#f0f921"
             ]
            ],
            "type": "histogram2dcontour"
           }
          ],
          "mesh3d": [
           {
            "colorbar": {
             "outlinewidth": 0,
             "ticks": ""
            },
            "type": "mesh3d"
           }
          ],
          "parcoords": [
           {
            "line": {
             "colorbar": {
              "outlinewidth": 0,
              "ticks": ""
             }
            },
            "type": "parcoords"
           }
          ],
          "pie": [
           {
            "automargin": true,
            "type": "pie"
           }
          ],
          "scatter": [
           {
            "marker": {
             "colorbar": {
              "outlinewidth": 0,
              "ticks": ""
             }
            },
            "type": "scatter"
           }
          ],
          "scatter3d": [
           {
            "line": {
             "colorbar": {
              "outlinewidth": 0,
              "ticks": ""
             }
            },
            "marker": {
             "colorbar": {
              "outlinewidth": 0,
              "ticks": ""
             }
            },
            "type": "scatter3d"
           }
          ],
          "scattercarpet": [
           {
            "marker": {
             "colorbar": {
              "outlinewidth": 0,
              "ticks": ""
             }
            },
            "type": "scattercarpet"
           }
          ],
          "scattergeo": [
           {
            "marker": {
             "colorbar": {
              "outlinewidth": 0,
              "ticks": ""
             }
            },
            "type": "scattergeo"
           }
          ],
          "scattergl": [
           {
            "marker": {
             "colorbar": {
              "outlinewidth": 0,
              "ticks": ""
             }
            },
            "type": "scattergl"
           }
          ],
          "scattermapbox": [
           {
            "marker": {
             "colorbar": {
              "outlinewidth": 0,
              "ticks": ""
             }
            },
            "type": "scattermapbox"
           }
          ],
          "scatterpolar": [
           {
            "marker": {
             "colorbar": {
              "outlinewidth": 0,
              "ticks": ""
             }
            },
            "type": "scatterpolar"
           }
          ],
          "scatterpolargl": [
           {
            "marker": {
             "colorbar": {
              "outlinewidth": 0,
              "ticks": ""
             }
            },
            "type": "scatterpolargl"
           }
          ],
          "scatterternary": [
           {
            "marker": {
             "colorbar": {
              "outlinewidth": 0,
              "ticks": ""
             }
            },
            "type": "scatterternary"
           }
          ],
          "surface": [
           {
            "colorbar": {
             "outlinewidth": 0,
             "ticks": ""
            },
            "colorscale": [
             [
              0,
              "#0d0887"
             ],
             [
              0.1111111111111111,
              "#46039f"
             ],
             [
              0.2222222222222222,
              "#7201a8"
             ],
             [
              0.3333333333333333,
              "#9c179e"
             ],
             [
              0.4444444444444444,
              "#bd3786"
             ],
             [
              0.5555555555555556,
              "#d8576b"
             ],
             [
              0.6666666666666666,
              "#ed7953"
             ],
             [
              0.7777777777777778,
              "#fb9f3a"
             ],
             [
              0.8888888888888888,
              "#fdca26"
             ],
             [
              1,
              "#f0f921"
             ]
            ],
            "type": "surface"
           }
          ],
          "table": [
           {
            "cells": {
             "fill": {
              "color": "#EBF0F8"
             },
             "line": {
              "color": "white"
             }
            },
            "header": {
             "fill": {
              "color": "#C8D4E3"
             },
             "line": {
              "color": "white"
             }
            },
            "type": "table"
           }
          ]
         },
         "layout": {
          "annotationdefaults": {
           "arrowcolor": "#2a3f5f",
           "arrowhead": 0,
           "arrowwidth": 1
          },
          "coloraxis": {
           "colorbar": {
            "outlinewidth": 0,
            "ticks": ""
           }
          },
          "colorscale": {
           "diverging": [
            [
             0,
             "#8e0152"
            ],
            [
             0.1,
             "#c51b7d"
            ],
            [
             0.2,
             "#de77ae"
            ],
            [
             0.3,
             "#f1b6da"
            ],
            [
             0.4,
             "#fde0ef"
            ],
            [
             0.5,
             "#f7f7f7"
            ],
            [
             0.6,
             "#e6f5d0"
            ],
            [
             0.7,
             "#b8e186"
            ],
            [
             0.8,
             "#7fbc41"
            ],
            [
             0.9,
             "#4d9221"
            ],
            [
             1,
             "#276419"
            ]
           ],
           "sequential": [
            [
             0,
             "#0d0887"
            ],
            [
             0.1111111111111111,
             "#46039f"
            ],
            [
             0.2222222222222222,
             "#7201a8"
            ],
            [
             0.3333333333333333,
             "#9c179e"
            ],
            [
             0.4444444444444444,
             "#bd3786"
            ],
            [
             0.5555555555555556,
             "#d8576b"
            ],
            [
             0.6666666666666666,
             "#ed7953"
            ],
            [
             0.7777777777777778,
             "#fb9f3a"
            ],
            [
             0.8888888888888888,
             "#fdca26"
            ],
            [
             1,
             "#f0f921"
            ]
           ],
           "sequentialminus": [
            [
             0,
             "#0d0887"
            ],
            [
             0.1111111111111111,
             "#46039f"
            ],
            [
             0.2222222222222222,
             "#7201a8"
            ],
            [
             0.3333333333333333,
             "#9c179e"
            ],
            [
             0.4444444444444444,
             "#bd3786"
            ],
            [
             0.5555555555555556,
             "#d8576b"
            ],
            [
             0.6666666666666666,
             "#ed7953"
            ],
            [
             0.7777777777777778,
             "#fb9f3a"
            ],
            [
             0.8888888888888888,
             "#fdca26"
            ],
            [
             1,
             "#f0f921"
            ]
           ]
          },
          "colorway": [
           "#636efa",
           "#EF553B",
           "#00cc96",
           "#ab63fa",
           "#FFA15A",
           "#19d3f3",
           "#FF6692",
           "#B6E880",
           "#FF97FF",
           "#FECB52"
          ],
          "font": {
           "color": "#2a3f5f"
          },
          "geo": {
           "bgcolor": "white",
           "lakecolor": "white",
           "landcolor": "#E5ECF6",
           "showlakes": true,
           "showland": true,
           "subunitcolor": "white"
          },
          "hoverlabel": {
           "align": "left"
          },
          "hovermode": "closest",
          "mapbox": {
           "style": "light"
          },
          "paper_bgcolor": "white",
          "plot_bgcolor": "#E5ECF6",
          "polar": {
           "angularaxis": {
            "gridcolor": "white",
            "linecolor": "white",
            "ticks": ""
           },
           "bgcolor": "#E5ECF6",
           "radialaxis": {
            "gridcolor": "white",
            "linecolor": "white",
            "ticks": ""
           }
          },
          "scene": {
           "xaxis": {
            "backgroundcolor": "#E5ECF6",
            "gridcolor": "white",
            "gridwidth": 2,
            "linecolor": "white",
            "showbackground": true,
            "ticks": "",
            "zerolinecolor": "white"
           },
           "yaxis": {
            "backgroundcolor": "#E5ECF6",
            "gridcolor": "white",
            "gridwidth": 2,
            "linecolor": "white",
            "showbackground": true,
            "ticks": "",
            "zerolinecolor": "white"
           },
           "zaxis": {
            "backgroundcolor": "#E5ECF6",
            "gridcolor": "white",
            "gridwidth": 2,
            "linecolor": "white",
            "showbackground": true,
            "ticks": "",
            "zerolinecolor": "white"
           }
          },
          "shapedefaults": {
           "line": {
            "color": "#2a3f5f"
           }
          },
          "ternary": {
           "aaxis": {
            "gridcolor": "white",
            "linecolor": "white",
            "ticks": ""
           },
           "baxis": {
            "gridcolor": "white",
            "linecolor": "white",
            "ticks": ""
           },
           "bgcolor": "#E5ECF6",
           "caxis": {
            "gridcolor": "white",
            "linecolor": "white",
            "ticks": ""
           }
          },
          "title": {
           "x": 0.05
          },
          "xaxis": {
           "automargin": true,
           "gridcolor": "white",
           "linecolor": "white",
           "ticks": "",
           "title": {
            "standoff": 15
           },
           "zerolinecolor": "white",
           "zerolinewidth": 2
          },
          "yaxis": {
           "automargin": true,
           "gridcolor": "white",
           "linecolor": "white",
           "ticks": "",
           "title": {
            "standoff": 15
           },
           "zerolinecolor": "white",
           "zerolinewidth": 2
          }
         }
        }
       }
      }
     },
     "metadata": {}
    }
   ],
   "source": [
    "fig"
   ]
  },
  {
   "cell_type": "code",
   "execution_count": 22,
   "metadata": {},
   "outputs": [
    {
     "output_type": "display_data",
     "data": {
      "application/vnd.plotly.v1+json": {
       "config": {
        "plotlyServerURL": "https://plot.ly"
       },
       "data": [
        {
         "colorscale": [
          [
           0,
           "rgb(247,251,255)"
          ],
          [
           0.125,
           "rgb(222,235,247)"
          ],
          [
           0.25,
           "rgb(198,219,239)"
          ],
          [
           0.375,
           "rgb(158,202,225)"
          ],
          [
           0.5,
           "rgb(107,174,214)"
          ],
          [
           0.625,
           "rgb(66,146,198)"
          ],
          [
           0.75,
           "rgb(33,113,181)"
          ],
          [
           0.875,
           "rgb(8,81,156)"
          ],
          [
           1,
           "rgb(8,48,107)"
          ]
         ],
         "sizeref": 1,
         "type": "cone",
         "u": [
          -0.5,
          -0.0625,
          0,
          0.0625,
          0.5,
          -0.5,
          -0.0625,
          0,
          0.0625,
          0.5,
          -0.5,
          -0.0625,
          0,
          0.0625,
          0.5,
          -0.5,
          -0.0625,
          0,
          0.0625,
          0.5,
          -0.5,
          -0.0625,
          0,
          0.0625,
          0.5,
          -0.5,
          -0.0625,
          0,
          0.0625,
          0.5,
          -0.5,
          -0.0625,
          0,
          0.0625,
          0.5,
          -0.5,
          -0.0625,
          0,
          0.0625,
          0.5,
          -0.5,
          -0.0625,
          0,
          0.0625,
          0.5,
          -0.5,
          -0.0625,
          0,
          0.0625,
          0.5,
          -0.5,
          -0.0625,
          0,
          0.0625,
          0.5,
          -0.5,
          -0.0625,
          0,
          0.0625,
          0.5,
          -0.5,
          -0.0625,
          0,
          0.0625,
          0.5,
          -0.5,
          -0.0625,
          0,
          0.0625,
          0.5,
          -0.5,
          -0.0625,
          0,
          0.0625,
          0.5,
          -0.5,
          -0.0625,
          0,
          0.0625,
          0.5,
          -0.5,
          -0.0625,
          0,
          0.0625,
          0.5,
          -0.5,
          -0.0625,
          0,
          0.0625,
          0.5,
          -0.5,
          -0.0625,
          0,
          0.0625,
          0.5,
          -0.5,
          -0.0625,
          0,
          0.0625,
          0.5,
          -0.5,
          -0.0625,
          0,
          0.0625,
          0.5,
          -0.5,
          -0.0625,
          0,
          0.0625,
          0.5,
          -0.5,
          -0.0625,
          0,
          0.0625,
          0.5,
          -0.5,
          -0.0625,
          0,
          0.0625,
          0.5,
          -0.5,
          -0.0625,
          0,
          0.0625,
          0.5
         ],
         "v": [
          0.5,
          0.5,
          0.5,
          0.5,
          0.5,
          -0.25,
          -0.25,
          -0.25,
          -0.25,
          -0.25,
          -0.5,
          -0.5,
          -0.5,
          -0.5,
          -0.5,
          -0.25,
          -0.25,
          -0.25,
          -0.25,
          -0.25,
          0.5,
          0.5,
          0.5,
          0.5,
          0.5,
          0.5,
          0.5,
          0.5,
          0.5,
          0.5,
          -0.25,
          -0.25,
          -0.25,
          -0.25,
          -0.25,
          -0.5,
          -0.5,
          -0.5,
          -0.5,
          -0.5,
          -0.25,
          -0.25,
          -0.25,
          -0.25,
          -0.25,
          0.5,
          0.5,
          0.5,
          0.5,
          0.5,
          0.5,
          0.5,
          0.5,
          0.5,
          0.5,
          -0.25,
          -0.25,
          -0.25,
          -0.25,
          -0.25,
          -0.5,
          -0.5,
          -0.5,
          -0.5,
          -0.5,
          -0.25,
          -0.25,
          -0.25,
          -0.25,
          -0.25,
          0.5,
          0.5,
          0.5,
          0.5,
          0.5,
          0.5,
          0.5,
          0.5,
          0.5,
          0.5,
          -0.25,
          -0.25,
          -0.25,
          -0.25,
          -0.25,
          -0.5,
          -0.5,
          -0.5,
          -0.5,
          -0.5,
          -0.25,
          -0.25,
          -0.25,
          -0.25,
          -0.25,
          0.5,
          0.5,
          0.5,
          0.5,
          0.5,
          0.5,
          0.5,
          0.5,
          0.5,
          0.5,
          -0.25,
          -0.25,
          -0.25,
          -0.25,
          -0.25,
          -0.5,
          -0.5,
          -0.5,
          -0.5,
          -0.5,
          -0.25,
          -0.25,
          -0.25,
          -0.25,
          -0.25,
          0.5,
          0.5,
          0.5,
          0.5,
          0.5
         ],
         "w": [
          -0.5,
          -0.5,
          -0.5,
          -0.5,
          -0.5,
          -0.5,
          -0.5,
          -0.5,
          -0.5,
          -0.5,
          -0.5,
          -0.5,
          -0.5,
          -0.5,
          -0.5,
          -0.5,
          -0.5,
          -0.5,
          -0.5,
          -0.5,
          -0.5,
          -0.5,
          -0.5,
          -0.5,
          -0.5,
          -0.25,
          -0.25,
          -0.25,
          -0.25,
          -0.25,
          -0.25,
          -0.25,
          -0.25,
          -0.25,
          -0.25,
          -0.25,
          -0.25,
          -0.25,
          -0.25,
          -0.25,
          -0.25,
          -0.25,
          -0.25,
          -0.25,
          -0.25,
          -0.25,
          -0.25,
          -0.25,
          -0.25,
          -0.25,
          0,
          0,
          0,
          0,
          0,
          0,
          0,
          0,
          0,
          0,
          0,
          0,
          0,
          0,
          0,
          0,
          0,
          0,
          0,
          0,
          0,
          0,
          0,
          0,
          0,
          0.25,
          0.25,
          0.25,
          0.25,
          0.25,
          0.25,
          0.25,
          0.25,
          0.25,
          0.25,
          0.25,
          0.25,
          0.25,
          0.25,
          0.25,
          0.25,
          0.25,
          0.25,
          0.25,
          0.25,
          0.25,
          0.25,
          0.25,
          0.25,
          0.25,
          0.5,
          0.5,
          0.5,
          0.5,
          0.5,
          0.5,
          0.5,
          0.5,
          0.5,
          0.5,
          0.5,
          0.5,
          0.5,
          0.5,
          0.5,
          0.5,
          0.5,
          0.5,
          0.5,
          0.5,
          0.5,
          0.5,
          0.5,
          0.5,
          0.5
         ],
         "x": [
          -2,
          -2,
          -2,
          -2,
          -2,
          -2,
          -2,
          -2,
          -2,
          -2,
          -2,
          -2,
          -2,
          -2,
          -2,
          -2,
          -2,
          -2,
          -2,
          -2,
          -2,
          -2,
          -2,
          -2,
          -2,
          -1,
          -1,
          -1,
          -1,
          -1,
          -1,
          -1,
          -1,
          -1,
          -1,
          -1,
          -1,
          -1,
          -1,
          -1,
          -1,
          -1,
          -1,
          -1,
          -1,
          -1,
          -1,
          -1,
          -1,
          -1,
          0,
          0,
          0,
          0,
          0,
          0,
          0,
          0,
          0,
          0,
          0,
          0,
          0,
          0,
          0,
          0,
          0,
          0,
          0,
          0,
          0,
          0,
          0,
          0,
          0,
          1,
          1,
          1,
          1,
          1,
          1,
          1,
          1,
          1,
          1,
          1,
          1,
          1,
          1,
          1,
          1,
          1,
          1,
          1,
          1,
          1,
          1,
          1,
          1,
          1,
          2,
          2,
          2,
          2,
          2,
          2,
          2,
          2,
          2,
          2,
          2,
          2,
          2,
          2,
          2,
          2,
          2,
          2,
          2,
          2,
          2,
          2,
          2,
          2,
          2
         ],
         "y": [
          -2,
          -2,
          -2,
          -2,
          -2,
          -1,
          -1,
          -1,
          -1,
          -1,
          0,
          0,
          0,
          0,
          0,
          1,
          1,
          1,
          1,
          1,
          2,
          2,
          2,
          2,
          2,
          -2,
          -2,
          -2,
          -2,
          -2,
          -1,
          -1,
          -1,
          -1,
          -1,
          0,
          0,
          0,
          0,
          0,
          1,
          1,
          1,
          1,
          1,
          2,
          2,
          2,
          2,
          2,
          -2,
          -2,
          -2,
          -2,
          -2,
          -1,
          -1,
          -1,
          -1,
          -1,
          0,
          0,
          0,
          0,
          0,
          1,
          1,
          1,
          1,
          1,
          2,
          2,
          2,
          2,
          2,
          -2,
          -2,
          -2,
          -2,
          -2,
          -1,
          -1,
          -1,
          -1,
          -1,
          0,
          0,
          0,
          0,
          0,
          1,
          1,
          1,
          1,
          1,
          2,
          2,
          2,
          2,
          2,
          -2,
          -2,
          -2,
          -2,
          -2,
          -1,
          -1,
          -1,
          -1,
          -1,
          0,
          0,
          0,
          0,
          0,
          1,
          1,
          1,
          1,
          1,
          2,
          2,
          2,
          2,
          2
         ],
         "z": [
          -2,
          -1,
          0,
          1,
          2,
          -2,
          -1,
          0,
          1,
          2,
          -2,
          -1,
          0,
          1,
          2,
          -2,
          -1,
          0,
          1,
          2,
          -2,
          -1,
          0,
          1,
          2,
          -2,
          -1,
          0,
          1,
          2,
          -2,
          -1,
          0,
          1,
          2,
          -2,
          -1,
          0,
          1,
          2,
          -2,
          -1,
          0,
          1,
          2,
          -2,
          -1,
          0,
          1,
          2,
          -2,
          -1,
          0,
          1,
          2,
          -2,
          -1,
          0,
          1,
          2,
          -2,
          -1,
          0,
          1,
          2,
          -2,
          -1,
          0,
          1,
          2,
          -2,
          -1,
          0,
          1,
          2,
          -2,
          -1,
          0,
          1,
          2,
          -2,
          -1,
          0,
          1,
          2,
          -2,
          -1,
          0,
          1,
          2,
          -2,
          -1,
          0,
          1,
          2,
          -2,
          -1,
          0,
          1,
          2,
          -2,
          -1,
          0,
          1,
          2,
          -2,
          -1,
          0,
          1,
          2,
          -2,
          -1,
          0,
          1,
          2,
          -2,
          -1,
          0,
          1,
          2,
          -2,
          -1,
          0,
          1,
          2
         ]
        },
        {
         "line": {
          "width": 5
         },
         "mode": "lines",
         "showlegend": false,
         "type": "scatter3d",
         "x": [
          -3.141592653589793,
          -2.9492502462271526,
          -2.7569078388645125,
          -2.564565431501872,
          -2.3722230241392315,
          -2.1798806167765914,
          -1.9875382094139509,
          -1.7951958020513104,
          -1.60285339468867,
          -1.4105109873260298,
          -1.2181685799633892,
          -1.0258261726007487,
          -0.8334837652381086,
          -0.6411413578754681,
          -0.4487989505128276,
          -0.2564565431501875,
          -0.06411413578754699,
          0.12822827157509353,
          0.3205706789377336,
          0.5129130863003741,
          0.7052554936630147,
          0.8975979010256552,
          1.0899403083882957,
          1.2822827157509353,
          1.4746251231135759,
          1.6669675304762164,
          1.859309937838857,
          2.0516523452014974,
          2.243994752564138,
          2.4363371599267776,
          2.628679567289418,
          2.8210219746520586,
          3.013364382014699,
          3.2057067893773397,
          3.39804919673998,
          3.5903916041026207,
          3.7827340114652603,
          3.975076418827901,
          4.167418826190541,
          4.359761233553182,
          4.552103640915822,
          4.744446048278463,
          4.9367884556411035,
          5.129130863003743,
          5.3214732703663845,
          5.513815677729024,
          5.706158085091664,
          5.898500492454305,
          6.090842899816945,
          6.283185307179586
         ],
         "y": [
          -1.2246467991473532e-16,
          -0.19115862870137254,
          -0.37526700487937403,
          -0.5455349012105487,
          -0.6956825506034865,
          -0.8201722545969558,
          -0.9144126230158125,
          -0.9749279121818236,
          -0.9994862162006879,
          -0.9871817834144502,
          -0.9384684220497604,
          -0.8551427630053461,
          -0.7402779970753157,
          -0.5981105304912161,
          -0.4338837391175581,
          -0.2536545839095077,
          -0.0640702199807131,
          0.12787716168450594,
          0.3151082180236203,
          0.49071755200393763,
          0.6482283953077883,
          0.7818314824680298,
          0.8865993063730001,
          0.9586678530366605,
          0.9953791129491981,
          0.9953791129491982,
          0.9586678530366607,
          0.8865993063730001,
          0.7818314824680299,
          0.6482283953077891,
          0.4907175520039385,
          0.31510821802362127,
          0.1278771616845065,
          -0.06407021998071255,
          -0.2536545839095071,
          -0.433883739117558,
          -0.5981105304912152,
          -0.740277997075315,
          -0.8551427630053459,
          -0.9384684220497602,
          -0.9871817834144501,
          -0.9994862162006879,
          -0.9749279121818236,
          -0.9144126230158128,
          -0.8201722545969559,
          -0.6956825506034869,
          -0.5455349012105499,
          -0.3752670048793746,
          -0.19115862870137354,
          -2.4492935982947064e-16
         ],
         "z": [
          1,
          1,
          1,
          1,
          1,
          1,
          1,
          1,
          1,
          1,
          1,
          1,
          1,
          1,
          1,
          1,
          1,
          1,
          1,
          1,
          1,
          1,
          1,
          1,
          1,
          1,
          1,
          1,
          1,
          1,
          1,
          1,
          1,
          1,
          1,
          1,
          1,
          1,
          1,
          1,
          1,
          1,
          1,
          1,
          1,
          1,
          1,
          1,
          1,
          1
         ]
        }
       ],
       "layout": {
        "scene": {
         "aspectmode": "data",
         "aspectratio": {
          "x": 1,
          "y": 1,
          "z": 0.95
         },
         "camera": {
          "eye": {
           "x": 1.15,
           "y": 1.15,
           "z": 0.8
          }
         }
        },
        "template": {
         "data": {
          "bar": [
           {
            "error_x": {
             "color": "#2a3f5f"
            },
            "error_y": {
             "color": "#2a3f5f"
            },
            "marker": {
             "line": {
              "color": "#E5ECF6",
              "width": 0.5
             }
            },
            "type": "bar"
           }
          ],
          "barpolar": [
           {
            "marker": {
             "line": {
              "color": "#E5ECF6",
              "width": 0.5
             }
            },
            "type": "barpolar"
           }
          ],
          "carpet": [
           {
            "aaxis": {
             "endlinecolor": "#2a3f5f",
             "gridcolor": "white",
             "linecolor": "white",
             "minorgridcolor": "white",
             "startlinecolor": "#2a3f5f"
            },
            "baxis": {
             "endlinecolor": "#2a3f5f",
             "gridcolor": "white",
             "linecolor": "white",
             "minorgridcolor": "white",
             "startlinecolor": "#2a3f5f"
            },
            "type": "carpet"
           }
          ],
          "choropleth": [
           {
            "colorbar": {
             "outlinewidth": 0,
             "ticks": ""
            },
            "type": "choropleth"
           }
          ],
          "contour": [
           {
            "colorbar": {
             "outlinewidth": 0,
             "ticks": ""
            },
            "colorscale": [
             [
              0,
              "#0d0887"
             ],
             [
              0.1111111111111111,
              "#46039f"
             ],
             [
              0.2222222222222222,
              "#7201a8"
             ],
             [
              0.3333333333333333,
              "#9c179e"
             ],
             [
              0.4444444444444444,
              "#bd3786"
             ],
             [
              0.5555555555555556,
              "#d8576b"
             ],
             [
              0.6666666666666666,
              "#ed7953"
             ],
             [
              0.7777777777777778,
              "#fb9f3a"
             ],
             [
              0.8888888888888888,
              "#fdca26"
             ],
             [
              1,
              "#f0f921"
             ]
            ],
            "type": "contour"
           }
          ],
          "contourcarpet": [
           {
            "colorbar": {
             "outlinewidth": 0,
             "ticks": ""
            },
            "type": "contourcarpet"
           }
          ],
          "heatmap": [
           {
            "colorbar": {
             "outlinewidth": 0,
             "ticks": ""
            },
            "colorscale": [
             [
              0,
              "#0d0887"
             ],
             [
              0.1111111111111111,
              "#46039f"
             ],
             [
              0.2222222222222222,
              "#7201a8"
             ],
             [
              0.3333333333333333,
              "#9c179e"
             ],
             [
              0.4444444444444444,
              "#bd3786"
             ],
             [
              0.5555555555555556,
              "#d8576b"
             ],
             [
              0.6666666666666666,
              "#ed7953"
             ],
             [
              0.7777777777777778,
              "#fb9f3a"
             ],
             [
              0.8888888888888888,
              "#fdca26"
             ],
             [
              1,
              "#f0f921"
             ]
            ],
            "type": "heatmap"
           }
          ],
          "heatmapgl": [
           {
            "colorbar": {
             "outlinewidth": 0,
             "ticks": ""
            },
            "colorscale": [
             [
              0,
              "#0d0887"
             ],
             [
              0.1111111111111111,
              "#46039f"
             ],
             [
              0.2222222222222222,
              "#7201a8"
             ],
             [
              0.3333333333333333,
              "#9c179e"
             ],
             [
              0.4444444444444444,
              "#bd3786"
             ],
             [
              0.5555555555555556,
              "#d8576b"
             ],
             [
              0.6666666666666666,
              "#ed7953"
             ],
             [
              0.7777777777777778,
              "#fb9f3a"
             ],
             [
              0.8888888888888888,
              "#fdca26"
             ],
             [
              1,
              "#f0f921"
             ]
            ],
            "type": "heatmapgl"
           }
          ],
          "histogram": [
           {
            "marker": {
             "colorbar": {
              "outlinewidth": 0,
              "ticks": ""
             }
            },
            "type": "histogram"
           }
          ],
          "histogram2d": [
           {
            "colorbar": {
             "outlinewidth": 0,
             "ticks": ""
            },
            "colorscale": [
             [
              0,
              "#0d0887"
             ],
             [
              0.1111111111111111,
              "#46039f"
             ],
             [
              0.2222222222222222,
              "#7201a8"
             ],
             [
              0.3333333333333333,
              "#9c179e"
             ],
             [
              0.4444444444444444,
              "#bd3786"
             ],
             [
              0.5555555555555556,
              "#d8576b"
             ],
             [
              0.6666666666666666,
              "#ed7953"
             ],
             [
              0.7777777777777778,
              "#fb9f3a"
             ],
             [
              0.8888888888888888,
              "#fdca26"
             ],
             [
              1,
              "#f0f921"
             ]
            ],
            "type": "histogram2d"
           }
          ],
          "histogram2dcontour": [
           {
            "colorbar": {
             "outlinewidth": 0,
             "ticks": ""
            },
            "colorscale": [
             [
              0,
              "#0d0887"
             ],
             [
              0.1111111111111111,
              "#46039f"
             ],
             [
              0.2222222222222222,
              "#7201a8"
             ],
             [
              0.3333333333333333,
              "#9c179e"
             ],
             [
              0.4444444444444444,
              "#bd3786"
             ],
             [
              0.5555555555555556,
              "#d8576b"
             ],
             [
              0.6666666666666666,
              "#ed7953"
             ],
             [
              0.7777777777777778,
              "#fb9f3a"
             ],
             [
              0.8888888888888888,
              "#fdca26"
             ],
             [
              1,
              "#f0f921"
             ]
            ],
            "type": "histogram2dcontour"
           }
          ],
          "mesh3d": [
           {
            "colorbar": {
             "outlinewidth": 0,
             "ticks": ""
            },
            "type": "mesh3d"
           }
          ],
          "parcoords": [
           {
            "line": {
             "colorbar": {
              "outlinewidth": 0,
              "ticks": ""
             }
            },
            "type": "parcoords"
           }
          ],
          "pie": [
           {
            "automargin": true,
            "type": "pie"
           }
          ],
          "scatter": [
           {
            "marker": {
             "colorbar": {
              "outlinewidth": 0,
              "ticks": ""
             }
            },
            "type": "scatter"
           }
          ],
          "scatter3d": [
           {
            "line": {
             "colorbar": {
              "outlinewidth": 0,
              "ticks": ""
             }
            },
            "marker": {
             "colorbar": {
              "outlinewidth": 0,
              "ticks": ""
             }
            },
            "type": "scatter3d"
           }
          ],
          "scattercarpet": [
           {
            "marker": {
             "colorbar": {
              "outlinewidth": 0,
              "ticks": ""
             }
            },
            "type": "scattercarpet"
           }
          ],
          "scattergeo": [
           {
            "marker": {
             "colorbar": {
              "outlinewidth": 0,
              "ticks": ""
             }
            },
            "type": "scattergeo"
           }
          ],
          "scattergl": [
           {
            "marker": {
             "colorbar": {
              "outlinewidth": 0,
              "ticks": ""
             }
            },
            "type": "scattergl"
           }
          ],
          "scattermapbox": [
           {
            "marker": {
             "colorbar": {
              "outlinewidth": 0,
              "ticks": ""
             }
            },
            "type": "scattermapbox"
           }
          ],
          "scatterpolar": [
           {
            "marker": {
             "colorbar": {
              "outlinewidth": 0,
              "ticks": ""
             }
            },
            "type": "scatterpolar"
           }
          ],
          "scatterpolargl": [
           {
            "marker": {
             "colorbar": {
              "outlinewidth": 0,
              "ticks": ""
             }
            },
            "type": "scatterpolargl"
           }
          ],
          "scatterternary": [
           {
            "marker": {
             "colorbar": {
              "outlinewidth": 0,
              "ticks": ""
             }
            },
            "type": "scatterternary"
           }
          ],
          "surface": [
           {
            "colorbar": {
             "outlinewidth": 0,
             "ticks": ""
            },
            "colorscale": [
             [
              0,
              "#0d0887"
             ],
             [
              0.1111111111111111,
              "#46039f"
             ],
             [
              0.2222222222222222,
              "#7201a8"
             ],
             [
              0.3333333333333333,
              "#9c179e"
             ],
             [
              0.4444444444444444,
              "#bd3786"
             ],
             [
              0.5555555555555556,
              "#d8576b"
             ],
             [
              0.6666666666666666,
              "#ed7953"
             ],
             [
              0.7777777777777778,
              "#fb9f3a"
             ],
             [
              0.8888888888888888,
              "#fdca26"
             ],
             [
              1,
              "#f0f921"
             ]
            ],
            "type": "surface"
           }
          ],
          "table": [
           {
            "cells": {
             "fill": {
              "color": "#EBF0F8"
             },
             "line": {
              "color": "white"
             }
            },
            "header": {
             "fill": {
              "color": "#C8D4E3"
             },
             "line": {
              "color": "white"
             }
            },
            "type": "table"
           }
          ]
         },
         "layout": {
          "annotationdefaults": {
           "arrowcolor": "#2a3f5f",
           "arrowhead": 0,
           "arrowwidth": 1
          },
          "coloraxis": {
           "colorbar": {
            "outlinewidth": 0,
            "ticks": ""
           }
          },
          "colorscale": {
           "diverging": [
            [
             0,
             "#8e0152"
            ],
            [
             0.1,
             "#c51b7d"
            ],
            [
             0.2,
             "#de77ae"
            ],
            [
             0.3,
             "#f1b6da"
            ],
            [
             0.4,
             "#fde0ef"
            ],
            [
             0.5,
             "#f7f7f7"
            ],
            [
             0.6,
             "#e6f5d0"
            ],
            [
             0.7,
             "#b8e186"
            ],
            [
             0.8,
             "#7fbc41"
            ],
            [
             0.9,
             "#4d9221"
            ],
            [
             1,
             "#276419"
            ]
           ],
           "sequential": [
            [
             0,
             "#0d0887"
            ],
            [
             0.1111111111111111,
             "#46039f"
            ],
            [
             0.2222222222222222,
             "#7201a8"
            ],
            [
             0.3333333333333333,
             "#9c179e"
            ],
            [
             0.4444444444444444,
             "#bd3786"
            ],
            [
             0.5555555555555556,
             "#d8576b"
            ],
            [
             0.6666666666666666,
             "#ed7953"
            ],
            [
             0.7777777777777778,
             "#fb9f3a"
            ],
            [
             0.8888888888888888,
             "#fdca26"
            ],
            [
             1,
             "#f0f921"
            ]
           ],
           "sequentialminus": [
            [
             0,
             "#0d0887"
            ],
            [
             0.1111111111111111,
             "#46039f"
            ],
            [
             0.2222222222222222,
             "#7201a8"
            ],
            [
             0.3333333333333333,
             "#9c179e"
            ],
            [
             0.4444444444444444,
             "#bd3786"
            ],
            [
             0.5555555555555556,
             "#d8576b"
            ],
            [
             0.6666666666666666,
             "#ed7953"
            ],
            [
             0.7777777777777778,
             "#fb9f3a"
            ],
            [
             0.8888888888888888,
             "#fdca26"
            ],
            [
             1,
             "#f0f921"
            ]
           ]
          },
          "colorway": [
           "#636efa",
           "#EF553B",
           "#00cc96",
           "#ab63fa",
           "#FFA15A",
           "#19d3f3",
           "#FF6692",
           "#B6E880",
           "#FF97FF",
           "#FECB52"
          ],
          "font": {
           "color": "#2a3f5f"
          },
          "geo": {
           "bgcolor": "white",
           "lakecolor": "white",
           "landcolor": "#E5ECF6",
           "showlakes": true,
           "showland": true,
           "subunitcolor": "white"
          },
          "hoverlabel": {
           "align": "left"
          },
          "hovermode": "closest",
          "mapbox": {
           "style": "light"
          },
          "paper_bgcolor": "white",
          "plot_bgcolor": "#E5ECF6",
          "polar": {
           "angularaxis": {
            "gridcolor": "white",
            "linecolor": "white",
            "ticks": ""
           },
           "bgcolor": "#E5ECF6",
           "radialaxis": {
            "gridcolor": "white",
            "linecolor": "white",
            "ticks": ""
           }
          },
          "scene": {
           "xaxis": {
            "backgroundcolor": "#E5ECF6",
            "gridcolor": "white",
            "gridwidth": 2,
            "linecolor": "white",
            "showbackground": true,
            "ticks": "",
            "zerolinecolor": "white"
           },
           "yaxis": {
            "backgroundcolor": "#E5ECF6",
            "gridcolor": "white",
            "gridwidth": 2,
            "linecolor": "white",
            "showbackground": true,
            "ticks": "",
            "zerolinecolor": "white"
           },
           "zaxis": {
            "backgroundcolor": "#E5ECF6",
            "gridcolor": "white",
            "gridwidth": 2,
            "linecolor": "white",
            "showbackground": true,
            "ticks": "",
            "zerolinecolor": "white"
           }
          },
          "shapedefaults": {
           "line": {
            "color": "#2a3f5f"
           }
          },
          "ternary": {
           "aaxis": {
            "gridcolor": "white",
            "linecolor": "white",
            "ticks": ""
           },
           "baxis": {
            "gridcolor": "white",
            "linecolor": "white",
            "ticks": ""
           },
           "bgcolor": "#E5ECF6",
           "caxis": {
            "gridcolor": "white",
            "linecolor": "white",
            "ticks": ""
           }
          },
          "title": {
           "x": 0.05
          },
          "xaxis": {
           "automargin": true,
           "gridcolor": "white",
           "linecolor": "white",
           "ticks": "",
           "title": {
            "standoff": 15
           },
           "zerolinecolor": "white",
           "zerolinewidth": 2
          },
          "yaxis": {
           "automargin": true,
           "gridcolor": "white",
           "linecolor": "white",
           "ticks": "",
           "title": {
            "standoff": 15
           },
           "zerolinecolor": "white",
           "zerolinewidth": 2
          }
         }
        },
        "title": {
         "text": "3D Curve Plot"
        },
        "xaxis": {
         "title": {
          "text": "X"
         }
        },
        "yaxis": {
         "title": {
          "text": "Y"
         }
        }
       }
      }
     },
     "metadata": {}
    }
   ],
   "source": [
    "av.plot3d_parametric_curve(curve1(t),(t,-np.pi,2*np.pi), fig=fig)"
   ]
  },
  {
   "cell_type": "markdown",
   "metadata": {},
   "source": [
    "Parametrizando o campo,"
   ]
  },
  {
   "cell_type": "code",
   "execution_count": 11,
   "metadata": {},
   "outputs": [],
   "source": [
    "paramet_field = field1(*curve1(t).components.values())"
   ]
  },
  {
   "cell_type": "code",
   "execution_count": 12,
   "metadata": {},
   "outputs": [
    {
     "data": {
      "image/png": "[encoded data removed]",
      "text/latex": [
       "$\\displaystyle \\mathbf{\\hat{i}_{R}} + (\\sin^{2}{\\left(t \\right)})\\mathbf{\\hat{j}_{R}} + (t)\\mathbf{\\hat{k}_{R}}$"
      ],
      "text/plain": [
       "R.i + (sin(t)**2)*R.j + t*R.k"
      ]
     },
     "execution_count": 12,
     "metadata": {},
     "output_type": "execute_result"
    }
   ],
   "source": [
    "paramet_field"
   ]
  },
  {
   "cell_type": "code",
   "execution_count": 13,
   "metadata": {},
   "outputs": [],
   "source": [
    "dr = curve1(t).diff()"
   ]
  },
  {
   "cell_type": "code",
   "execution_count": 14,
   "metadata": {},
   "outputs": [
    {
     "data": {
      "image/png": "[encoded data removed]",
      "text/latex": [
       "$\\displaystyle \\mathbf{\\hat{i}_{R}} + (\\cos{\\left(t \\right)})\\mathbf{\\hat{j}_{R}}$"
      ],
      "text/plain": [
       "R.i + (cos(t))*R.j"
      ]
     },
     "execution_count": 14,
     "metadata": {},
     "output_type": "execute_result"
    }
   ],
   "source": [
    "dr"
   ]
  },
  {
   "cell_type": "markdown",
   "metadata": {},
   "source": [
    "O integrando é o produto escalar entre campo vetorial parametrizado e elemento da linha ($d\\vec r$) "
   ]
  },
  {
   "cell_type": "code",
   "execution_count": 15,
   "metadata": {},
   "outputs": [],
   "source": [
    "integrand = paramet_field.dot(dr)"
   ]
  },
  {
   "cell_type": "code",
   "execution_count": 16,
   "metadata": {},
   "outputs": [
    {
     "data": {
      "image/png": "[encoded data removed]",
      "text/latex": [
       "$\\displaystyle \\sin^{2}{\\left(t \\right)} \\cos{\\left(t \\right)} + 1$"
      ],
      "text/plain": [
       "   2              \n",
       "sin (t)⋅cos(t) + 1"
      ]
     },
     "execution_count": 16,
     "metadata": {},
     "output_type": "execute_result"
    }
   ],
   "source": [
    "integrand"
   ]
  },
  {
   "cell_type": "markdown",
   "metadata": {},
   "source": [
    "Finalmente podemos integrar "
   ]
  },
  {
   "cell_type": "code",
   "execution_count": 17,
   "metadata": {},
   "outputs": [
    {
     "data": {
      "image/png": "[encoded data removed]",
      "text/latex": [
       "$\\displaystyle \\pi$"
      ],
      "text/plain": [
       "π"
      ]
     },
     "execution_count": 17,
     "metadata": {},
     "output_type": "execute_result"
    }
   ],
   "source": [
    "sp.integrate(integrand,(t,0,sp.pi))"
   ]
  },
  {
   "cell_type": "markdown",
   "metadata": {},
   "source": [
    "Para facilitar a vida, vamos montar uma função que faça o procedimento acima automaticamente"
   ]
  },
  {
   "cell_type": "code",
   "execution_count": 18,
   "metadata": {},
   "outputs": [],
   "source": [
    "def line_integral_vectorial(field,curve,a):\n",
    "    '''\n",
    "    - Arguments:\n",
    "        `field`: Vector field F(x,y,z) = P(x,y,z)i + R(x,y,z)j + Q(x,y,z)k. The parameters of the field must be `x`,`y` and `z`\n",
    "        `curve`: parametrized curve r(t) = x(t)i + y(t)j + z(t)k\n",
    "        `a`:(Tuple) (parameter of the curve, initial point, final point)\n",
    "        **Note**: the dimensionality of curve and field must be the same. \n",
    "    - Return:\n",
    "        line integral of the vectorial filed along the curve for the given interval. \n",
    "\n",
    "\n",
    "    Example:\n",
    "    =====\n",
    "    import sympy as sp\n",
    "    import sympy.vector as sv\n",
    "    R = sv.CoordSys3D('R')\n",
    "    t,x,y,z = sp.symbols('t x y z')\n",
    "    def f(x,y,z):\n",
    "        x*R.i + y*z*R.j + x*z*R.k\n",
    "    def r(t):\n",
    "        return 2*t*R.i + t**2*R.j - R.k\n",
    "    \n",
    "    line_integral_vectorial(f(x,y,z), r(t), (t,-1,2))\n",
    "    \n",
    "    '''\n",
    "\n",
    "    #taking the name of the coordinate system. Here we assume that the filed and curve are using the same coordinate system\n",
    "    R = list(curve.separate().keys())[0]\n",
    "    R_f = list(field.separate().keys())[0]\n",
    "\n",
    "    assert R==R_f, 'the given filed and curve must be in a same coordinate system'\n",
    "    \n",
    "    x_c  = curve.dot(R.i)\n",
    "    y_c  = curve.dot(R.j)\n",
    "    z_c  = curve.dot(R.k)\n",
    "    \n",
    "    param = [p for p in curve.free_symbols if not p.is_Vector]\n",
    "    assert len(param)==1, \"A curve has only one parameter\"\n",
    "    assert param[0]==a[0], \"the parameter of the curve must be the same as the integration variable.\"\n",
    "\n",
    "    # parametrizing the field using the curve equation\n",
    "    parametrized_field =field.subs(x, x_c).subs(y, y_c).subs(z, z_c)\n",
    "    \n",
    "    \n",
    "    integrand = parametrized_field.dot(curve.diff())\n",
    "    \n",
    "        \n",
    "    return sp.integrate(integrand,a).evalf()"
   ]
  },
  {
   "cell_type": "code",
   "execution_count": 19,
   "metadata": {},
   "outputs": [
    {
     "data": {
      "image/png": "[encoded data removed]",
      "text/latex": [
       "$\\displaystyle \\pi$"
      ],
      "text/plain": [
       "π"
      ]
     },
     "execution_count": 19,
     "metadata": {},
     "output_type": "execute_result"
    }
   ],
   "source": [
    "line_integral_vectorial(field1(x,y,z),curve1(t),(t,0,sp.pi))"
   ]
  },
  {
   "cell_type": "code",
   "execution_count": null,
   "metadata": {},
   "outputs": [],
   "source": []
  }
 ],
 "metadata": {
  "kernelspec": {
   "display_name": "Python 3",
   "language": "python",
   "name": "python3"
  },
  "language_info": {
   "codemirror_mode": {
    "name": "ipython",
    "version": 3
   },
   "file_extension": ".py",
   "mimetype": "text/x-python",
   "name": "python",
   "nbconvert_exporter": "python",
   "pygments_lexer": "ipython3",
   "version": "3.7.8-final"
  },
  "toc": {
   "base_numbering": 1,
   "nav_menu": {},
   "number_sections": true,
   "sideBar": true,
   "skip_h1_title": false,
   "title_cell": "Table of Contents",
   "title_sidebar": "Contents",
   "toc_cell": false,
   "toc_position": {},
   "toc_section_display": true,
   "toc_window_display": false
  },
  "varInspector": {
   "cols": {
    "lenName": 16,
    "lenType": 16,
    "lenVar": 40
   },
   "kernels_config": {
    "python": {
     "delete_cmd_postfix": "",
     "delete_cmd_prefix": "del ",
     "library": "var_list.py",
     "varRefreshCmd": "print(var_dic_list())"
    },
    "r": {
     "delete_cmd_postfix": ") ",
     "delete_cmd_prefix": "rm(",
     "library": "var_list.r",
     "varRefreshCmd": "cat(var_dic_list()) "
    }
   },
   "types_to_exclude": [
    "module",
    "function",
    "builtin_function_or_method",
    "instance",
    "_Feature"
   ],
   "window_display": false
  }
 },
 "nbformat": 4,
 "nbformat_minor": 4
}