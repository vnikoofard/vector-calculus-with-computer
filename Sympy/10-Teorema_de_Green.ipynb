{
 "metadata": {
  "language_info": {
   "codemirror_mode": {
    "name": "ipython",
    "version": 3
   },
   "file_extension": ".py",
   "mimetype": "text/x-python",
   "name": "python",
   "nbconvert_exporter": "python",
   "pygments_lexer": "ipython3",
   "version": "3.8.8"
  },
  "orig_nbformat": 2,
  "kernelspec": {
   "name": "python388jvsc74a57bd06b999023d3c78d31a29340b60dffb0231e86afde0b96b9a787fbee7e3f5558ae",
   "display_name": "Python 3.8.8 64-bit ('base': conda)"
  }
 },
 "nbformat": 4,
 "nbformat_minor": 2,
 "cells": [
  {
   "source": [
    "# Teorema de Green"
   ],
   "cell_type": "markdown",
   "metadata": {}
  },
  {
   "cell_type": "code",
   "execution_count": 4,
   "metadata": {},
   "outputs": [],
   "source": [
    "import numpy as np\n",
    "import sympy as sp\n",
    "import plotly.graph_objects as go\n",
    "import sympy.vector as sv\n",
    "import av_utils as av\n",
    "x,y,z,t = sp.symbols('x y z t')\n",
    "R = sv.CoordSys3D('R')\n",
    "sp.init_printing()"
   ]
  },
  {
   "source": [
    "O teorema de Green fornece a relação entre uma integral de linha ao redor de uma curva fechada simples $C$ e uma integral dupla sobre a região do plano $D$ delimitada por $C$. Ou seja, em um lado a gente tem uma integral de linha de um campo vetorial e no outro lado a gente tem uma integral dupla.\n",
    "\n",
    "**Teorema de Green**:\n",
    "\n",
    "Seja $C$ uma curva plana simples, fechada, contínua por partes, orientada positivamente, e seja $D$ a região delimitada por $C$. Se $P$ e $Q$ têm derivadas parciais de primeira ordem contínuas sobre uma região aberta que\n",
    "contenha $D$, então\n",
    "\n",
    "$$\n",
    "\\oint_C P dx + Q dy = \\iint_D (\\frac{\\partial Q}{\\partial x} - \\frac{\\partial P}{\\partial y}) dA\n",
    "$$"
   ],
   "cell_type": "markdown",
   "metadata": {}
  },
  {
   "source": [
    "**EXEMPLO:**\n",
    "\n",
    "Calcule $\\oint x^4 dx + x y dy$, onde $C$ é a curva triangular constituida pelos segmentos de reta de $(0,0)$ a $(1,0)$, de $(1,0)$ a $(0,1)$ e de $(0,1)$ a $(0,0)$"
   ],
   "cell_type": "markdown",
   "metadata": {}
  },
  {
   "cell_type": "code",
   "execution_count": 2,
   "metadata": {},
   "outputs": [
    {
     "output_type": "display_data",
     "data": {
      "application/vnd.plotly.v1+json": {
       "config": {
        "plotlyServerURL": "https://plot.ly"
       },
       "data": [
        {
         "fill": "toself",
         "type": "scatter",
         "x": [
          0,
          1,
          0,
          0
         ],
         "y": [
          0,
          0,
          1,
          0
         ]
        }
       ],
       "layout": {
        "template": {
         "data": {
          "bar": [
           {
            "error_x": {
             "color": "#2a3f5f"
            },
            "error_y": {
             "color": "#2a3f5f"
            },
            "marker": {
             "line": {
              "color": "#E5ECF6",
              "width": 0.5
             }
            },
            "type": "bar"
           }
          ],
          "barpolar": [
           {
            "marker": {
             "line": {
              "color": "#E5ECF6",
              "width": 0.5
             }
            },
            "type": "barpolar"
           }
          ],
          "carpet": [
           {
            "aaxis": {
             "endlinecolor": "#2a3f5f",
             "gridcolor": "white",
             "linecolor": "white",
             "minorgridcolor": "white",
             "startlinecolor": "#2a3f5f"
            },
            "baxis": {
             "endlinecolor": "#2a3f5f",
             "gridcolor": "white",
             "linecolor": "white",
             "minorgridcolor": "white",
             "startlinecolor": "#2a3f5f"
            },
            "type": "carpet"
           }
          ],
          "choropleth": [
           {
            "colorbar": {
             "outlinewidth": 0,
             "ticks": ""
            },
            "type": "choropleth"
           }
          ],
          "contour": [
           {
            "colorbar": {
             "outlinewidth": 0,
             "ticks": ""
            },
            "colorscale": [
             [
              0,
              "#0d0887"
             ],
             [
              0.1111111111111111,
              "#46039f"
             ],
             [
              0.2222222222222222,
              "#7201a8"
             ],
             [
              0.3333333333333333,
              "#9c179e"
             ],
             [
              0.4444444444444444,
              "#bd3786"
             ],
             [
              0.5555555555555556,
              "#d8576b"
             ],
             [
              0.6666666666666666,
              "#ed7953"
             ],
             [
              0.7777777777777778,
              "#fb9f3a"
             ],
             [
              0.8888888888888888,
              "#fdca26"
             ],
             [
              1,
              "#f0f921"
             ]
            ],
            "type": "contour"
           }
          ],
          "contourcarpet": [
           {
            "colorbar": {
             "outlinewidth": 0,
             "ticks": ""
            },
            "type": "contourcarpet"
           }
          ],
          "heatmap": [
           {
            "colorbar": {
             "outlinewidth": 0,
             "ticks": ""
            },
            "colorscale": [
             [
              0,
              "#0d0887"
             ],
             [
              0.1111111111111111,
              "#46039f"
             ],
             [
              0.2222222222222222,
              "#7201a8"
             ],
             [
              0.3333333333333333,
              "#9c179e"
             ],
             [
              0.4444444444444444,
              "#bd3786"
             ],
             [
              0.5555555555555556,
              "#d8576b"
             ],
             [
              0.6666666666666666,
              "#ed7953"
             ],
             [
              0.7777777777777778,
              "#fb9f3a"
             ],
             [
              0.8888888888888888,
              "#fdca26"
             ],
             [
              1,
              "#f0f921"
             ]
            ],
            "type": "heatmap"
           }
          ],
          "heatmapgl": [
           {
            "colorbar": {
             "outlinewidth": 0,
             "ticks": ""
            },
            "colorscale": [
             [
              0,
              "#0d0887"
             ],
             [
              0.1111111111111111,
              "#46039f"
             ],
             [
              0.2222222222222222,
              "#7201a8"
             ],
             [
              0.3333333333333333,
              "#9c179e"
             ],
             [
              0.4444444444444444,
              "#bd3786"
             ],
             [
              0.5555555555555556,
              "#d8576b"
             ],
             [
              0.6666666666666666,
              "#ed7953"
             ],
             [
              0.7777777777777778,
              "#fb9f3a"
             ],
             [
              0.8888888888888888,
              "#fdca26"
             ],
             [
              1,
              "#f0f921"
             ]
            ],
            "type": "heatmapgl"
           }
          ],
          "histogram": [
           {
            "marker": {
             "colorbar": {
              "outlinewidth": 0,
              "ticks": ""
             }
            },
            "type": "histogram"
           }
          ],
          "histogram2d": [
           {
            "colorbar": {
             "outlinewidth": 0,
             "ticks": ""
            },
            "colorscale": [
             [
              0,
              "#0d0887"
             ],
             [
              0.1111111111111111,
              "#46039f"
             ],
             [
              0.2222222222222222,
              "#7201a8"
             ],
             [
              0.3333333333333333,
              "#9c179e"
             ],
             [
              0.4444444444444444,
              "#bd3786"
             ],
             [
              0.5555555555555556,
              "#d8576b"
             ],
             [
              0.6666666666666666,
              "#ed7953"
             ],
             [
              0.7777777777777778,
              "#fb9f3a"
             ],
             [
              0.8888888888888888,
              "#fdca26"
             ],
             [
              1,
              "#f0f921"
             ]
            ],
            "type": "histogram2d"
           }
          ],
          "histogram2dcontour": [
           {
            "colorbar": {
             "outlinewidth": 0,
             "ticks": ""
            },
            "colorscale": [
             [
              0,
              "#0d0887"
             ],
             [
              0.1111111111111111,
              "#46039f"
             ],
             [
              0.2222222222222222,
              "#7201a8"
             ],
             [
              0.3333333333333333,
              "#9c179e"
             ],
             [
              0.4444444444444444,
              "#bd3786"
             ],
             [
              0.5555555555555556,
              "#d8576b"
             ],
             [
              0.6666666666666666,
              "#ed7953"
             ],
             [
              0.7777777777777778,
              "#fb9f3a"
             ],
             [
              0.8888888888888888,
              "#fdca26"
             ],
             [
              1,
              "#f0f921"
             ]
            ],
            "type": "histogram2dcontour"
           }
          ],
          "mesh3d": [
           {
            "colorbar": {
             "outlinewidth": 0,
             "ticks": ""
            },
            "type": "mesh3d"
           }
          ],
          "parcoords": [
           {
            "line": {
             "colorbar": {
              "outlinewidth": 0,
              "ticks": ""
             }
            },
            "type": "parcoords"
           }
          ],
          "pie": [
           {
            "automargin": true,
            "type": "pie"
           }
          ],
          "scatter": [
           {
            "marker": {
             "colorbar": {
              "outlinewidth": 0,
              "ticks": ""
             }
            },
            "type": "scatter"
           }
          ],
          "scatter3d": [
           {
            "line": {
             "colorbar": {
              "outlinewidth": 0,
              "ticks": ""
             }
            },
            "marker": {
             "colorbar": {
              "outlinewidth": 0,
              "ticks": ""
             }
            },
            "type": "scatter3d"
           }
          ],
          "scattercarpet": [
           {
            "marker": {
             "colorbar": {
              "outlinewidth": 0,
              "ticks": ""
             }
            },
            "type": "scattercarpet"
           }
          ],
          "scattergeo": [
           {
            "marker": {
             "colorbar": {
              "outlinewidth": 0,
              "ticks": ""
             }
            },
            "type": "scattergeo"
           }
          ],
          "scattergl": [
           {
            "marker": {
             "colorbar": {
              "outlinewidth": 0,
              "ticks": ""
             }
            },
            "type": "scattergl"
           }
          ],
          "scattermapbox": [
           {
            "marker": {
             "colorbar": {
              "outlinewidth": 0,
              "ticks": ""
             }
            },
            "type": "scattermapbox"
           }
          ],
          "scatterpolar": [
           {
            "marker": {
             "colorbar": {
              "outlinewidth": 0,
              "ticks": ""
             }
            },
            "type": "scatterpolar"
           }
          ],
          "scatterpolargl": [
           {
            "marker": {
             "colorbar": {
              "outlinewidth": 0,
              "ticks": ""
             }
            },
            "type": "scatterpolargl"
           }
          ],
          "scatterternary": [
           {
            "marker": {
             "colorbar": {
              "outlinewidth": 0,
              "ticks": ""
             }
            },
            "type": "scatterternary"
           }
          ],
          "surface": [
           {
            "colorbar": {
             "outlinewidth": 0,
             "ticks": ""
            },
            "colorscale": [
             [
              0,
              "#0d0887"
             ],
             [
              0.1111111111111111,
              "#46039f"
             ],
             [
              0.2222222222222222,
              "#7201a8"
             ],
             [
              0.3333333333333333,
              "#9c179e"
             ],
             [
              0.4444444444444444,
              "#bd3786"
             ],
             [
              0.5555555555555556,
              "#d8576b"
             ],
             [
              0.6666666666666666,
              "#ed7953"
             ],
             [
              0.7777777777777778,
              "#fb9f3a"
             ],
             [
              0.8888888888888888,
              "#fdca26"
             ],
             [
              1,
              "#f0f921"
             ]
            ],
            "type": "surface"
           }
          ],
          "table": [
           {
            "cells": {
             "fill": {
              "color": "#EBF0F8"
             },
             "line": {
              "color": "white"
             }
            },
            "header": {
             "fill": {
              "color": "#C8D4E3"
             },
             "line": {
              "color": "white"
             }
            },
            "type": "table"
           }
          ]
         },
         "layout": {
          "annotationdefaults": {
           "arrowcolor": "#2a3f5f",
           "arrowhead": 0,
           "arrowwidth": 1
          },
          "coloraxis": {
           "colorbar": {
            "outlinewidth": 0,
            "ticks": ""
           }
          },
          "colorscale": {
           "diverging": [
            [
             0,
             "#8e0152"
            ],
            [
             0.1,
             "#c51b7d"
            ],
            [
             0.2,
             "#de77ae"
            ],
            [
             0.3,
             "#f1b6da"
            ],
            [
             0.4,
             "#fde0ef"
            ],
            [
             0.5,
             "#f7f7f7"
            ],
            [
             0.6,
             "#e6f5d0"
            ],
            [
             0.7,
             "#b8e186"
            ],
            [
             0.8,
             "#7fbc41"
            ],
            [
             0.9,
             "#4d9221"
            ],
            [
             1,
             "#276419"
            ]
           ],
           "sequential": [
            [
             0,
             "#0d0887"
            ],
            [
             0.1111111111111111,
             "#46039f"
            ],
            [
             0.2222222222222222,
             "#7201a8"
            ],
            [
             0.3333333333333333,
             "#9c179e"
            ],
            [
             0.4444444444444444,
             "#bd3786"
            ],
            [
             0.5555555555555556,
             "#d8576b"
            ],
            [
             0.6666666666666666,
             "#ed7953"
            ],
            [
             0.7777777777777778,
             "#fb9f3a"
            ],
            [
             0.8888888888888888,
             "#fdca26"
            ],
            [
             1,
             "#f0f921"
            ]
           ],
           "sequentialminus": [
            [
             0,
             "#0d0887"
            ],
            [
             0.1111111111111111,
             "#46039f"
            ],
            [
             0.2222222222222222,
             "#7201a8"
            ],
            [
             0.3333333333333333,
             "#9c179e"
            ],
            [
             0.4444444444444444,
             "#bd3786"
            ],
            [
             0.5555555555555556,
             "#d8576b"
            ],
            [
             0.6666666666666666,
             "#ed7953"
            ],
            [
             0.7777777777777778,
             "#fb9f3a"
            ],
            [
             0.8888888888888888,
             "#fdca26"
            ],
            [
             1,
             "#f0f921"
            ]
           ]
          },
          "colorway": [
           "#636efa",
           "#EF553B",
           "#00cc96",
           "#ab63fa",
           "#FFA15A",
           "#19d3f3",
           "#FF6692",
           "#B6E880",
           "#FF97FF",
           "#FECB52"
          ],
          "font": {
           "color": "#2a3f5f"
          },
          "geo": {
           "bgcolor": "white",
           "lakecolor": "white",
           "landcolor": "#E5ECF6",
           "showlakes": true,
           "showland": true,
           "subunitcolor": "white"
          },
          "hoverlabel": {
           "align": "left"
          },
          "hovermode": "closest",
          "mapbox": {
           "style": "light"
          },
          "paper_bgcolor": "white",
          "plot_bgcolor": "#E5ECF6",
          "polar": {
           "angularaxis": {
            "gridcolor": "white",
            "linecolor": "white",
            "ticks": ""
           },
           "bgcolor": "#E5ECF6",
           "radialaxis": {
            "gridcolor": "white",
            "linecolor": "white",
            "ticks": ""
           }
          },
          "scene": {
           "xaxis": {
            "backgroundcolor": "#E5ECF6",
            "gridcolor": "white",
            "gridwidth": 2,
            "linecolor": "white",
            "showbackground": true,
            "ticks": "",
            "zerolinecolor": "white"
           },
           "yaxis": {
            "backgroundcolor": "#E5ECF6",
            "gridcolor": "white",
            "gridwidth": 2,
            "linecolor": "white",
            "showbackground": true,
            "ticks": "",
            "zerolinecolor": "white"
           },
           "zaxis": {
            "backgroundcolor": "#E5ECF6",
            "gridcolor": "white",
            "gridwidth": 2,
            "linecolor": "white",
            "showbackground": true,
            "ticks": "",
            "zerolinecolor": "white"
           }
          },
          "shapedefaults": {
           "line": {
            "color": "#2a3f5f"
           }
          },
          "ternary": {
           "aaxis": {
            "gridcolor": "white",
            "linecolor": "white",
            "ticks": ""
           },
           "baxis": {
            "gridcolor": "white",
            "linecolor": "white",
            "ticks": ""
           },
           "bgcolor": "#E5ECF6",
           "caxis": {
            "gridcolor": "white",
            "linecolor": "white",
            "ticks": ""
           }
          },
          "title": {
           "x": 0.05
          },
          "xaxis": {
           "automargin": true,
           "gridcolor": "white",
           "linecolor": "white",
           "ticks": "",
           "title": {
            "standoff": 15
           },
           "zerolinecolor": "white",
           "zerolinewidth": 2
          },
          "yaxis": {
           "automargin": true,
           "gridcolor": "white",
           "linecolor": "white",
           "ticks": "",
           "title": {
            "standoff": 15
           },
           "zerolinecolor": "white",
           "zerolinewidth": 2
          }
         }
        },
        "yaxis": {
         "scaleanchor": "x",
         "scaleratio": 1
        }
       }
      }
     },
     "metadata": {}
    }
   ],
   "source": [
    "fig = go.Figure()\n",
    "fig.add_scatter(x= [0,1,0,0], y=[0,0,1,0], fill='toself')\n",
    "fig.update_layout(yaxis=dict(scaleanchor=\"x\", scaleratio=1))"
   ]
  },
  {
   "source": [
    "Aqui nos temos uma curva fechada (o triângulo) e uma função vetorial $\\vec F(x,y) = x^4 \\hat i + x y \\hat j$. Calculando o lado direito do teorema de Green temos\n",
    "\n",
    "$$\n",
    "\\frac{\\partial Q}{\\partial x} -\\frac{\\partial P}{\\partial y} = \\frac{\\partial}{\\partial x}(x y) - \\frac{\\partial}{\\partial y}(x^4) = y\n",
    "$$\n",
    "Então em vez de resolver a integral de linha podemos resolver a integral dupla\n",
    "$$\n",
    "\\int^1_0 \\int^{1-x}_0 y \\; dy\\;dx\n",
    "$$"
   ],
   "cell_type": "markdown",
   "metadata": {}
  },
  {
   "cell_type": "code",
   "execution_count": 3,
   "metadata": {},
   "outputs": [
    {
     "output_type": "execute_result",
     "data": {
      "text/plain": [
       "1/6"
      ],
      "image/png": "[encoded data removed]",
      "text/latex": "$\\displaystyle \\frac{1}{6}$"
     },
     "metadata": {},
     "execution_count": 3
    }
   ],
   "source": [
    "sp.integrate(y,(y,0,1-x),(x,0,1))"
   ]
  },
  {
   "source": [
    "**EXERCICIO:** Resolvem o lado direito da igualidade e mostram que o resultado é igual mesmo!"
   ],
   "cell_type": "markdown",
   "metadata": {}
  },
  {
   "cell_type": "code",
   "execution_count": 82,
   "metadata": {},
   "outputs": [],
   "source": [
    "def field(x,y):\n",
    "    return x**4 * R.i + x*y*R.j"
   ]
  },
  {
   "cell_type": "code",
   "execution_count": 83,
   "metadata": {},
   "outputs": [],
   "source": [
    "l = av.lines([(0,0),(1,0), (0,1),(0,0)])"
   ]
  },
  {
   "cell_type": "code",
   "execution_count": 84,
   "metadata": {},
   "outputs": [
    {
     "output_type": "execute_result",
     "data": {
      "text/plain": [
       "[(t) i_R, (1 - t) i_R + (t) j_R, (1 - t) j_R]"
      ],
      "image/png": "[encoded data removed]",
      "text/latex": "$\\displaystyle \\left[ (t)\\mathbf{\\hat{i}_{R}}, \\  (1 - t)\\mathbf{\\hat{i}_{R}} + (t)\\mathbf{\\hat{j}_{R}}, \\  (1 - t)\\mathbf{\\hat{j}_{R}}\\right]$"
     },
     "metadata": {},
     "execution_count": 84
    }
   ],
   "source": [
    "l"
   ]
  },
  {
   "cell_type": "code",
   "execution_count": 85,
   "metadata": {},
   "outputs": [
    {
     "output_type": "execute_result",
     "data": {
      "text/plain": [
       "0.166666666666667"
      ],
      "image/png": "[encoded data removed]",
      "text/latex": "$\\displaystyle 0.166666666666667$"
     },
     "metadata": {},
     "execution_count": 85
    }
   ],
   "source": [
    "av.line_integral_vectorial(field(x,y), curve=l, a=(t,0,1))"
   ]
  },
  {
   "source": [
    "**EXERCICIO:** Calcule $\\oint_C (3y - e^{\\sin(x)})dx + (7x + \\sqrt{y^4 +1})dy$, onde $C$ é o circulo $x^2 + y^2 =9$."
   ],
   "cell_type": "markdown",
   "metadata": {}
  },
  {
   "source": [
    "Podemos usar do teorema de Green para calcular a área de uma região fechada. Basta escolher uma função arbitraria $\\vec F(x,y) = P(x,y) \\hat i + Q(x,y) \\hat j$ de tal forma que $\\frac{\\partial Q}{\\partial x} -\\frac{\\partial P}{\\partial y} =1$. Por exemplo, as seguintes funções satisfazem essa condição\n",
    "$$\n",
    "\\vec F(x,y) = -y \\hat i \\rightarrow A = -\\oint y \\;dx \\\\\n",
    "F(x,y) = x \\hat j \\rightarrow A = \\oint x \\;dy \\\\\n",
    "F(x,y) = -\\frac{y}{2} \\hat i + \\frac{x}{2} \\hat j \\rightarrow A = -\\frac{1}{2}\\oint y \\;dx - x\\;dy\n",
    "$$"
   ],
   "cell_type": "markdown",
   "metadata": {}
  },
  {
   "source": [
    "**EXERCICIO:** Determine a area delimitada pela elipse $\\frac{x^2}{a^2} + \\frac{y^2}{b^2}=1$"
   ],
   "cell_type": "markdown",
   "metadata": {}
  },
  {
   "cell_type": "code",
   "execution_count": 4,
   "metadata": {},
   "outputs": [],
   "source": [
    "eq = sp.Eq(x**2/4+y**2/2,1)"
   ]
  },
  {
   "cell_type": "code",
   "execution_count": 5,
   "metadata": {},
   "outputs": [
    {
     "output_type": "execute_result",
     "data": {
      "text/plain": [
       " 2    2    \n",
       "x    y     \n",
       "── + ── = 1\n",
       "4    2     "
      ],
      "image/png": "[encoded data removed]",
      "text/latex": "$\\displaystyle \\frac{x^{2}}{4} + \\frac{y^{2}}{2} = 1$"
     },
     "metadata": {},
     "execution_count": 5
    }
   ],
   "source": [
    "eq"
   ]
  },
  {
   "cell_type": "code",
   "execution_count": 6,
   "metadata": {},
   "outputs": [
    {
     "output_type": "display_data",
     "data": {
      "application/vnd.plotly.v1+json": {
       "config": {
        "plotlyServerURL": "https://plot.ly"
       },
       "data": [
        {
         "colorscale": [
          [
           0,
           "rgb(247,251,255)"
          ],
          [
           0.125,
           "rgb(222,235,247)"
          ],
          [
           0.25,
           "rgb(198,219,239)"
          ],
          [
           0.375,
           "rgb(158,202,225)"
          ],
          [
           0.5,
           "rgb(107,174,214)"
          ],
          [
           0.625,
           "rgb(66,146,198)"
          ],
          [
           0.75,
           "rgb(33,113,181)"
          ],
          [
           0.875,
           "rgb(8,81,156)"
          ],
          [
           1,
           "rgb(8,48,107)"
          ]
         ],
         "contours": {
          "coloring": "lines",
          "end": 0,
          "size": 2,
          "start": 0
         },
         "line": {
          "width": 2
         },
         "name": "x**2/4 + y**2/2 - 1",
         "showlegend": false,
         "type": "contour",
         "x": [
          -2,
          -1.9183673469387754,
          -1.836734693877551,
          -1.7551020408163265,
          -1.6734693877551021,
          -1.5918367346938775,
          -1.510204081632653,
          -1.4285714285714286,
          -1.3469387755102042,
          -1.2653061224489797,
          -1.183673469387755,
          -1.1020408163265307,
          -1.0204081632653061,
          -0.9387755102040818,
          -0.8571428571428572,
          -0.7755102040816328,
          -0.6938775510204083,
          -0.6122448979591837,
          -0.5306122448979593,
          -0.44897959183673475,
          -0.3673469387755104,
          -0.2857142857142858,
          -0.20408163265306145,
          -0.12244897959183687,
          -0.04081632653061229,
          0.04081632653061229,
          0.12244897959183643,
          0.204081632653061,
          0.2857142857142856,
          0.36734693877551017,
          0.4489795918367343,
          0.5306122448979589,
          0.6122448979591835,
          0.693877551020408,
          0.7755102040816326,
          0.8571428571428568,
          0.9387755102040813,
          1.020408163265306,
          1.1020408163265305,
          1.1836734693877546,
          1.2653061224489792,
          1.3469387755102038,
          1.4285714285714284,
          1.510204081632653,
          1.591836734693877,
          1.6734693877551017,
          1.7551020408163263,
          1.8367346938775508,
          1.9183673469387754,
          2
         ],
         "y": [
          -2,
          -1.9183673469387754,
          -1.836734693877551,
          -1.7551020408163265,
          -1.6734693877551021,
          -1.5918367346938775,
          -1.510204081632653,
          -1.4285714285714286,
          -1.3469387755102042,
          -1.2653061224489797,
          -1.183673469387755,
          -1.1020408163265307,
          -1.0204081632653061,
          -0.9387755102040818,
          -0.8571428571428572,
          -0.7755102040816328,
          -0.6938775510204083,
          -0.6122448979591837,
          -0.5306122448979593,
          -0.44897959183673475,
          -0.3673469387755104,
          -0.2857142857142858,
          -0.20408163265306145,
          -0.12244897959183687,
          -0.04081632653061229,
          0.04081632653061229,
          0.12244897959183643,
          0.204081632653061,
          0.2857142857142856,
          0.36734693877551017,
          0.4489795918367343,
          0.5306122448979589,
          0.6122448979591835,
          0.693877551020408,
          0.7755102040816326,
          0.8571428571428568,
          0.9387755102040813,
          1.020408163265306,
          1.1020408163265305,
          1.1836734693877546,
          1.2653061224489792,
          1.3469387755102038,
          1.4285714285714284,
          1.510204081632653,
          1.591836734693877,
          1.6734693877551017,
          1.7551020408163263,
          1.8367346938775508,
          1.9183673469387754,
          2
         ],
         "z": [
          [
           2,
           1.920033319450229,
           1.8433985839233653,
           1.7700957934194084,
           1.700124947938359,
           1.6334860474802166,
           1.570179092044981,
           1.510204081632653,
           1.4535610162432322,
           1.4002498958767182,
           1.350270720533111,
           1.3036234902124115,
           1.2603082049146188,
           1.2203248646397333,
           1.183673469387755,
           1.150354019158684,
           1.1203665139525198,
           1.0937109537692629,
           1.070387338608913,
           1.0503956684714701,
           1.0337359433569349,
           1.020408163265306,
           1.0104123281965847,
           1.0037484381507706,
           1.0004164931278634,
           1.0004164931278634,
           1.0037484381507706,
           1.0104123281965847,
           1.020408163265306,
           1.0337359433569344,
           1.0503956684714701,
           1.0703873386089127,
           1.0937109537692629,
           1.1203665139525198,
           1.150354019158684,
           1.183673469387755,
           1.2203248646397333,
           1.2603082049146188,
           1.3036234902124115,
           1.350270720533111,
           1.4002498958767178,
           1.4535610162432318,
           1.510204081632653,
           1.570179092044981,
           1.6334860474802162,
           1.7001249479383587,
           1.7700957934194084,
           1.8433985839233653,
           1.920033319450229,
           2
          ],
          [
           1.840066638900458,
           1.760099958350687,
           1.6834652228238234,
           1.6101624323198664,
           1.5401915868388172,
           1.4735526863806747,
           1.410245730945439,
           1.350270720533111,
           1.2936276551436903,
           1.2403165347771763,
           1.190337359433569,
           1.1436901291128696,
           1.1003748438150769,
           1.0603915035401914,
           1.0237401082882132,
           0.9904206580591421,
           0.9604331528529779,
           0.9337775926697209,
           0.9104539775093712,
           0.8904623073719282,
           0.8738025822573927,
           0.8604748021657642,
           0.850478967097043,
           0.8438150770512285,
           0.8404831320283215,
           0.8404831320283215,
           0.8438150770512285,
           0.8504789670970427,
           0.8604748021657642,
           0.8738025822573927,
           0.8904623073719282,
           0.910453977509371,
           0.9337775926697207,
           0.9604331528529779,
           0.9904206580591419,
           1.0237401082882132,
           1.0603915035401914,
           1.1003748438150769,
           1.1436901291128696,
           1.190337359433569,
           1.2403165347771758,
           1.2936276551436898,
           1.350270720533111,
           1.410245730945439,
           1.4735526863806743,
           1.5401915868388167,
           1.6101624323198664,
           1.6834652228238234,
           1.760099958350687,
           1.840066638900458
          ],
          [
           1.6867971678467306,
           1.6068304872969597,
           1.530195751770096,
           1.456892961266139,
           1.3869221157850897,
           1.3202832153269473,
           1.2569762598917116,
           1.1970012494793836,
           1.1403581840899628,
           1.0870470637234488,
           1.0370678883798417,
           0.9904206580591421,
           0.9471053727613494,
           0.9071220324864642,
           0.8704706372344857,
           0.8371511870054147,
           0.8071636817992505,
           0.7805081216159935,
           0.7571845064556437,
           0.7371928363182008,
           0.7205331112036653,
           0.7072053311120368,
           0.6972094960433155,
           0.690545605997501,
           0.687213660974594,
           0.687213660974594,
           0.690545605997501,
           0.6972094960433153,
           0.7072053311120368,
           0.7205331112036653,
           0.7371928363182008,
           0.7571845064556435,
           0.7805081216159933,
           0.8071636817992505,
           0.8371511870054145,
           0.8704706372344855,
           0.907122032486464,
           0.9471053727613494,
           0.9904206580591421,
           1.0370678883798417,
           1.0870470637234484,
           1.1403581840899624,
           1.1970012494793836,
           1.2569762598917116,
           1.3202832153269468,
           1.3869221157850893,
           1.456892961266139,
           1.530195751770096,
           1.6068304872969597,
           1.6867971678467306
          ],
          [
           1.5401915868388167,
           1.4602249062890458,
           1.383590170762182,
           1.3102873802582256,
           1.2403165347771763,
           1.1736776343190334,
           1.1103706788837981,
           1.0503956684714701,
           0.9937526030820489,
           0.940441482715535,
           0.8904623073719282,
           0.8438150770512285,
           0.800499791753436,
           0.7605164514785505,
           0.723865056226572,
           0.6905456059975008,
           0.6605581007913368,
           0.6339025406080798,
           0.6105789254477298,
           0.5905872553102871,
           0.5739275301957516,
           0.5605997501041231,
           0.5506039150354018,
           0.5439400249895874,
           0.5406080799666804,
           0.5406080799666804,
           0.5439400249895874,
           0.5506039150354016,
           0.5605997501041231,
           0.5739275301957516,
           0.5905872553102871,
           0.6105789254477298,
           0.6339025406080796,
           0.6605581007913366,
           0.6905456059975008,
           0.7238650562265718,
           0.7605164514785503,
           0.8004997917534358,
           0.8438150770512283,
           0.8904623073719278,
           0.9404414827155347,
           0.9937526030820487,
           1.0503956684714701,
           1.1103706788837981,
           1.1736776343190334,
           1.2403165347771754,
           1.3102873802582256,
           1.383590170762182,
           1.4602249062890458,
           1.5401915868388167
          ],
          [
           1.4002498958767182,
           1.3202832153269473,
           1.2436484798000835,
           1.1703456892961266,
           1.1003748438150773,
           1.0337359433569349,
           0.9704289879216994,
           0.9104539775093712,
           0.8538109121199504,
           0.8004997917534362,
           0.7505206164098295,
           0.7038733860891297,
           0.660558100791337,
           0.6205747605164518,
           0.5839233652644733,
           0.5506039150354023,
           0.5206164098292381,
           0.4939608496459811,
           0.47063723448563133,
           0.45064556434818837,
           0.43398583923365286,
           0.42065805914202437,
           0.4106622240733031,
           0.40399833402748864,
           0.4006663890045816,
           0.4006663890045816,
           0.40399833402748864,
           0.4106622240733029,
           0.42065805914202437,
           0.43398583923365286,
           0.45064556434818837,
           0.4706372344856311,
           0.49396084964598086,
           0.5206164098292381,
           0.5506039150354021,
           0.5839233652644731,
           0.6205747605164516,
           0.660558100791337,
           0.7038733860891297,
           0.7505206164098293,
           0.800499791753436,
           0.85381091211995,
           0.9104539775093712,
           0.9704289879216994,
           1.0337359433569344,
           1.1003748438150769,
           1.1703456892961266,
           1.2436484798000835,
           1.3202832153269473,
           1.4002498958767182
          ],
          [
           1.2669720949604333,
           1.1870054144106623,
           1.1103706788837986,
           1.0370678883798417,
           0.9670970428987922,
           0.9004581424406495,
           0.8371511870054142,
           0.7771761765930862,
           0.720533111203665,
           0.6672219908371511,
           0.6172428154935443,
           0.5705955851728446,
           0.5272802998750521,
           0.4872969596001666,
           0.45064556434818814,
           0.4173261141191169,
           0.3873386089129529,
           0.3606830487296959,
           0.33735943356934595,
           0.3173677634319032,
           0.3007080383173677,
           0.2873802582257392,
           0.27738442315701795,
           0.2707205331112035,
           0.26738858808829646,
           0.26738858808829646,
           0.2707205331112035,
           0.2773844231570177,
           0.2873802582257392,
           0.3007080383173677,
           0.3173677634319032,
           0.33735943356934595,
           0.3606830487296957,
           0.3873386089129527,
           0.4173261141191169,
           0.4506455643481879,
           0.4872969596001664,
           0.5272802998750519,
           0.5705955851728444,
           0.6172428154935439,
           0.6672219908371508,
           0.7205331112036648,
           0.777176176593086,
           0.8371511870054142,
           0.9004581424406493,
           0.9670970428987917,
           1.0370678883798412,
           1.1103706788837981,
           1.1870054144106623,
           1.2669720949604333
          ],
          [
           1.1403581840899624,
           1.0603915035401914,
           0.9837567680133277,
           0.9104539775093707,
           0.8404831320283215,
           0.773844231570179,
           0.7105372761349436,
           0.6505622657226153,
           0.5939192003331946,
           0.5406080799666804,
           0.4906289046230736,
           0.4439816743023739,
           0.4006663890045812,
           0.3606830487296959,
           0.32403165347771745,
           0.29071220324864644,
           0.2607246980424822,
           0.23406913785922523,
           0.21074552269887548,
           0.1907538525614325,
           0.174094127446897,
           0.1607663473552685,
           0.15077051228654725,
           0.14410662224073278,
           0.14077467721782577,
           0.14077467721782577,
           0.14410662224073278,
           0.15077051228654703,
           0.1607663473552685,
           0.174094127446897,
           0.1907538525614325,
           0.21074552269887525,
           0.234069137859225,
           0.2607246980424822,
           0.2907122032486462,
           0.32403165347771723,
           0.3606830487296957,
           0.4006663890045812,
           0.4439816743023739,
           0.4906289046230734,
           0.5406080799666801,
           0.5939192003331941,
           0.6505622657226153,
           0.7105372761349436,
           0.7738442315701786,
           0.840483132028321,
           0.9104539775093707,
           0.9837567680133275,
           1.0603915035401914,
           1.1403581840899624
          ],
          [
           1.020408163265306,
           0.9404414827155352,
           0.8638067471886715,
           0.7905039566847147,
           0.7205331112036653,
           0.6538942107455226,
           0.5905872553102873,
           0.5306122448979593,
           0.4739691795085381,
           0.42065805914202414,
           0.3706788837984174,
           0.3240316534777177,
           0.2807163681799252,
           0.2407330279050397,
           0.20408163265306123,
           0.17076218242399,
           0.140774677217826,
           0.114119117034569,
           0.09079550187421903,
           0.07080383173677629,
           0.054144106622240784,
           0.04081632653061229,
           0.03082049146189103,
           0.024156601416076562,
           0.02082465639316955,
           0.02082465639316955,
           0.024156601416076562,
           0.03082049146189081,
           0.04081632653061229,
           0.054144106622240784,
           0.07080383173677629,
           0.09079550187421903,
           0.11411911703456878,
           0.14077467721782577,
           0.17076218242399,
           0.204081632653061,
           0.24073302790503948,
           0.28071636817992496,
           0.32403165347771745,
           0.37067888379841696,
           0.4206580591420239,
           0.4739691795085379,
           0.5306122448979591,
           0.5905872553102873,
           0.6538942107455223,
           0.7205331112036648,
           0.7905039566847145,
           0.8638067471886712,
           0.9404414827155352,
           1.020408163265306
          ],
          [
           0.9071220324864642,
           0.8271553519366932,
           0.7505206164098295,
           0.6772178259058728,
           0.6072469804248233,
           0.5406080799666806,
           0.47730112453144535,
           0.41732611411911735,
           0.36068304872969614,
           0.30737192836318217,
           0.2573927530195754,
           0.2107455226988757,
           0.1674302374010832,
           0.12744689712619772,
           0.09079550187421925,
           0.05747605164514802,
           0.02748854643898402,
           0.0008329862557270307,
           -0.022490628904622834,
           -0.042482299042065574,
           -0.05914202415660119,
           -0.07246980424822969,
           -0.08246563931695106,
           -0.0891295293627653,
           -0.09246147438567243,
           -0.09246147438567243,
           -0.0891295293627653,
           -0.08246563931695106,
           -0.07246980424822969,
           -0.05914202415660119,
           -0.042482299042065685,
           -0.022490628904622945,
           0.0008329862557268086,
           0.027488546438983796,
           0.05747605164514802,
           0.09079550187421903,
           0.1274468971261975,
           0.16743023740108298,
           0.21074552269887548,
           0.257392753019575,
           0.30737192836318195,
           0.3606830487296959,
           0.41732611411911713,
           0.47730112453144535,
           0.5406080799666804,
           0.6072469804248228,
           0.6772178259058725,
           0.7505206164098293,
           0.8271553519366932,
           0.9071220324864642
          ],
          [
           0.800499791753436,
           0.720533111203665,
           0.6438983756768013,
           0.5705955851728446,
           0.5006247396917951,
           0.43398583923365264,
           0.3706788837984174,
           0.3107038733860892,
           0.2540608079966682,
           0.20074968763015422,
           0.15077051228654725,
           0.10412328196584775,
           0.06080799666805503,
           0.02082465639316955,
           -0.015826738858808698,
           -0.04914618908787993,
           -0.07913369429404404,
           -0.10578925447730114,
           -0.1291128696376509,
           -0.14910453977509364,
           -0.16576426488962925,
           -0.17909204498125775,
           -0.18908788004997912,
           -0.19575177009579336,
           -0.1990837151187005,
           -0.1990837151187005,
           -0.19575177009579336,
           -0.18908788004997912,
           -0.17909204498125775,
           -0.16576426488962925,
           -0.14910453977509375,
           -0.129112869637651,
           -0.10578925447730114,
           -0.07913369429404415,
           -0.04914618908788004,
           -0.01582673885880892,
           0.020824656393169327,
           0.06080799666805481,
           0.10412328196584753,
           0.15077051228654703,
           0.20074968763015377,
           0.25406080799666797,
           0.31070387338608896,
           0.3706788837984174,
           0.4339858392336522,
           0.5006247396917947,
           0.5705955851728444,
           0.6438983756768013,
           0.720533111203665,
           0.800499791753436
          ],
          [
           0.7005414410662225,
           0.6205747605164516,
           0.5439400249895878,
           0.4706372344856309,
           0.4006663890045816,
           0.33402748854643893,
           0.2707205331112035,
           0.21074552269887548,
           0.1541024573094545,
           0.10079133694294051,
           0.05081216159933355,
           0.004164931278634043,
           -0.03915035401915867,
           -0.07913369429404404,
           -0.1157850895460224,
           -0.14910453977509364,
           -0.17909204498125775,
           -0.20574760516451485,
           -0.2290712203248646,
           -0.24906289046230734,
           -0.26572261557684296,
           -0.27905039566847145,
           -0.2890462307371928,
           -0.29571012078300707,
           -0.2990420658059142,
           -0.2990420658059142,
           -0.29571012078300707,
           -0.2890462307371928,
           -0.27905039566847145,
           -0.26572261557684296,
           -0.24906289046230745,
           -0.2290712203248647,
           -0.20574760516451485,
           -0.17909204498125786,
           -0.14910453977509375,
           -0.11578508954602262,
           -0.07913369429404427,
           -0.039150354019158784,
           0.004164931278633821,
           0.05081216159933333,
           0.10079133694294029,
           0.15410245730945427,
           0.21074552269887548,
           0.2707205331112035,
           0.3340274885464387,
           0.4006663890045812,
           0.4706372344856309,
           0.5439400249895874,
           0.6205747605164516,
           0.7005414410662225
          ],
          [
           0.6072469804248231,
           0.5272802998750521,
           0.45064556434818837,
           0.37734277384423165,
           0.30737192836318217,
           0.2407330279050397,
           0.17742607246980446,
           0.11745106205747624,
           0.06080799666805525,
           0.007496876301541278,
           -0.042482299042065685,
           -0.08912952936276519,
           -0.1324448146605579,
           -0.17242815493544328,
           -0.20907955018742164,
           -0.24239900041649287,
           -0.272386505622657,
           -0.2990420658059141,
           -0.32236568096626383,
           -0.3423573511037066,
           -0.3590170762182422,
           -0.3723448563098707,
           -0.38234069137859206,
           -0.3890045814244063,
           -0.3923365264473134,
           -0.3923365264473134,
           -0.3890045814244063,
           -0.38234069137859206,
           -0.3723448563098707,
           -0.3590170762182422,
           -0.3423573511037067,
           -0.32236568096626395,
           -0.2990420658059141,
           -0.2723865056226571,
           -0.24239900041649298,
           -0.20907955018742186,
           -0.1724281549354435,
           -0.13244481466055802,
           -0.08912952936276541,
           -0.04248229904206591,
           0.0074968763015408335,
           0.06080799666805503,
           0.11745106205747602,
           0.17742607246980446,
           0.24073302790503925,
           0.3073719283631817,
           0.3773427738442314,
           0.45064556434818837,
           0.5272802998750521,
           0.6072469804248231
          ],
          [
           0.5206164098292378,
           0.4406497292794669,
           0.36401499375260316,
           0.29071220324864644,
           0.22074135776759696,
           0.15410245730945427,
           0.09079550187421903,
           0.03082049146189103,
           -0.025822573927530068,
           -0.07913369429404415,
           -0.1291128696376509,
           -0.17576009995835062,
           -0.21907538525614323,
           -0.2590587255310286,
           -0.29571012078300707,
           -0.3290295710120782,
           -0.3590170762182423,
           -0.3856726364014993,
           -0.40899625156184916,
           -0.4289879216992919,
           -0.4456476468138275,
           -0.458975426905456,
           -0.4689712619741774,
           -0.4756351520199916,
           -0.47896709704289875,
           -0.47896709704289875,
           -0.4756351520199916,
           -0.4689712619741774,
           -0.458975426905456,
           -0.4456476468138275,
           -0.428987921699292,
           -0.40899625156184927,
           -0.3856726364014994,
           -0.3590170762182424,
           -0.3290295710120783,
           -0.2957101207830072,
           -0.2590587255310288,
           -0.21907538525614334,
           -0.17576009995835074,
           -0.12911286963765123,
           -0.07913369429404438,
           -0.0258225739275304,
           0.03082049146189081,
           0.09079550187421903,
           0.15410245730945404,
           0.2207413577675965,
           0.2907122032486462,
           0.36401499375260293,
           0.4406497292794669,
           0.5206164098292378
          ],
          [
           0.4406497292794671,
           0.36068304872969614,
           0.2840483132028324,
           0.21074552269887548,
           0.14077467721782622,
           0.07413577675968352,
           0.01082882132444829,
           -0.04914618908787993,
           -0.10578925447730092,
           -0.1591003748438149,
           -0.20907955018742175,
           -0.25572678050812137,
           -0.2990420658059141,
           -0.33902540608079945,
           -0.3756768013327778,
           -0.40899625156184904,
           -0.43898375676801316,
           -0.46563931695127014,
           -0.48896293211162,
           -0.5089546022490627,
           -0.5256143273635983,
           -0.5389421074552267,
           -0.5489379425239482,
           -0.5556018325697625,
           -0.5589337775926695,
           -0.5589337775926695,
           -0.5556018325697625,
           -0.5489379425239482,
           -0.5389421074552269,
           -0.5256143273635984,
           -0.5089546022490627,
           -0.4889629321116201,
           -0.46563931695127025,
           -0.43898375676801327,
           -0.40899625156184904,
           -0.37567680133277803,
           -0.3390254060807997,
           -0.2990420658059141,
           -0.2557267805081216,
           -0.20907955018742208,
           -0.15910037484381512,
           -0.10578925447730114,
           -0.04914618908787993,
           0.01082882132444829,
           0.0741357767596833,
           0.14077467721782577,
           0.21074552269887548,
           0.2840483132028322,
           0.36068304872969614,
           0.4406497292794671
          ],
          [
           0.36734693877551017,
           0.2873802582257392,
           0.21074552269887548,
           0.13744273219491876,
           0.06747188671386928,
           0.0008329862557268086,
           -0.06247396917950854,
           -0.12244897959183665,
           -0.17909204498125764,
           -0.2324031653477716,
           -0.2823823406913786,
           -0.3290295710120781,
           -0.3723448563098708,
           -0.41232819658475617,
           -0.4489795918367345,
           -0.48229904206580576,
           -0.5122865472719699,
           -0.538942107455227,
           -0.5622657226155767,
           -0.5822573927530195,
           -0.5989171178675551,
           -0.6122448979591836,
           -0.622240733027905,
           -0.6289046230737192,
           -0.6322365680966263,
           -0.6322365680966263,
           -0.6289046230737192,
           -0.622240733027905,
           -0.6122448979591837,
           -0.5989171178675552,
           -0.5822573927530196,
           -0.5622657226155768,
           -0.538942107455227,
           -0.51228654727197,
           -0.48229904206580587,
           -0.44897959183673475,
           -0.4123281965847564,
           -0.3723448563098709,
           -0.3290295710120783,
           -0.2823823406913788,
           -0.23240316534777195,
           -0.17909204498125786,
           -0.12244897959183676,
           -0.06247396917950854,
           0.0008329862557263645,
           0.06747188671386883,
           0.13744273219491854,
           0.21074552269887548,
           0.2873802582257392,
           0.36734693877551017
          ],
          [
           0.3007080383173679,
           0.22074135776759696,
           0.14410662224073323,
           0.07080383173677651,
           0.0008329862557270307,
           -0.06580591420241555,
           -0.1291128696376509,
           -0.189087880049979,
           -0.2457309454394,
           -0.2990420658059141,
           -0.3490212411495208,
           -0.39566847147022055,
           -0.43898375676801316,
           -0.4789670970428985,
           -0.515618492294877,
           -0.5489379425239481,
           -0.5789254477301122,
           -0.6055810079133692,
           -0.6289046230737191,
           -0.6488962932111618,
           -0.6655560183256974,
           -0.6788837984173259,
           -0.6888796334860473,
           -0.6955435235318616,
           -0.6988754685547687,
           -0.6988754685547687,
           -0.6955435235318617,
           -0.6888796334860474,
           -0.6788837984173259,
           -0.6655560183256974,
           -0.6488962932111619,
           -0.6289046230737192,
           -0.6055810079133693,
           -0.5789254477301123,
           -0.5489379425239482,
           -0.5156184922948771,
           -0.47896709704289875,
           -0.43898375676801327,
           -0.39566847147022066,
           -0.34902124114952116,
           -0.2990420658059143,
           -0.24573094543940033,
           -0.18908788004997912,
           -0.1291128696376509,
           -0.06580591420241588,
           0.0008329862557265866,
           0.07080383173677629,
           0.144106622240733,
           0.22074135776759696,
           0.3007080383173679
          ],
          [
           0.2407330279050397,
           0.16076634735526873,
           0.084131611828405,
           0.010828821324448068,
           -0.05914202415660119,
           -0.12578092461474388,
           -0.18908788004997912,
           -0.24906289046230734,
           -0.30570595585172833,
           -0.3590170762182423,
           -0.40899625156184916,
           -0.4556434818825488,
           -0.4989587671803415,
           -0.5389421074552269,
           -0.5755935027072052,
           -0.6089129529362765,
           -0.6389004581424406,
           -0.6655560183256976,
           -0.6888796334860474,
           -0.7088713036234902,
           -0.7255310287380257,
           -0.7388588088296542,
           -0.7488546438983756,
           -0.7555185339441899,
           -0.7588504789670969,
           -0.7588504789670969,
           -0.7555185339441899,
           -0.7488546438983756,
           -0.7388588088296543,
           -0.7255310287380258,
           -0.7088713036234902,
           -0.6888796334860474,
           -0.6655560183256977,
           -0.6389004581424407,
           -0.6089129529362765,
           -0.5755935027072054,
           -0.5389421074552271,
           -0.4989587671803415,
           -0.455643481882549,
           -0.4089962515618495,
           -0.3590170762182425,
           -0.30570595585172855,
           -0.24906289046230734,
           -0.18908788004997912,
           -0.1257809246147441,
           -0.059142024156601636,
           0.010828821324448068,
           0.08413161182840478,
           0.16076634735526873,
           0.2407330279050397
          ],
          [
           0.18742190753852572,
           0.10745522698875476,
           0.03082049146189103,
           -0.04248229904206591,
           -0.11245314452311528,
           -0.17909204498125786,
           -0.2423990004164932,
           -0.3023740108288213,
           -0.3590170762182423,
           -0.4123281965847563,
           -0.46230737192836324,
           -0.5089546022490627,
           -0.5522698875468555,
           -0.5922532278217408,
           -0.6289046230737192,
           -0.6622240733027904,
           -0.6922115785089545,
           -0.7188671386922116,
           -0.7421907538525614,
           -0.7621824239900041,
           -0.7788421491045397,
           -0.7921699291961682,
           -0.8021657642648896,
           -0.8088296543107039,
           -0.812161599333611,
           -0.812161599333611,
           -0.8088296543107039,
           -0.8021657642648896,
           -0.7921699291961684,
           -0.7788421491045397,
           -0.7621824239900042,
           -0.7421907538525615,
           -0.7188671386922116,
           -0.6922115785089547,
           -0.6622240733027905,
           -0.6289046230737194,
           -0.5922532278217411,
           -0.5522698875468556,
           -0.508954602249063,
           -0.46230737192836346,
           -0.4123281965847566,
           -0.3590170762182425,
           -0.3023740108288214,
           -0.2423990004164932,
           -0.1790920449812582,
           -0.11245314452311572,
           -0.04248229904206602,
           0.030820491461890587,
           0.10745522698875476,
           0.18742190753852572
          ],
          [
           0.140774677217826,
           0.06080799666805503,
           -0.015826738858808698,
           -0.08912952936276552,
           -0.1591003748438149,
           -0.22573927530195748,
           -0.2890462307371928,
           -0.34902124114952093,
           -0.4056643065389419,
           -0.458975426905456,
           -0.5089546022490627,
           -0.5556018325697625,
           -0.5989171178675551,
           -0.6389004581424405,
           -0.6755518533944189,
           -0.70887130362349,
           -0.7388588088296542,
           -0.7655143690129111,
           -0.788837984173261,
           -0.8088296543107037,
           -0.8254893794252394,
           -0.8388171595168679,
           -0.8488129945855892,
           -0.8554768846314035,
           -0.8588088296543106,
           -0.8588088296543106,
           -0.8554768846314035,
           -0.8488129945855892,
           -0.8388171595168679,
           -0.8254893794252394,
           -0.8088296543107039,
           -0.7888379841732611,
           -0.7655143690129113,
           -0.7388588088296543,
           -0.7088713036234902,
           -0.675551853394419,
           -0.6389004581424407,
           -0.5989171178675552,
           -0.5556018325697626,
           -0.5089546022490631,
           -0.45897542690545623,
           -0.40566430653894225,
           -0.34902124114952104,
           -0.2890462307371928,
           -0.2257392753019578,
           -0.15910037484381534,
           -0.08912952936276564,
           -0.01582673885880892,
           0.06080799666805503,
           0.140774677217826
          ],
          [
           0.10079133694294051,
           0.02082465639316955,
           -0.05581007913369418,
           -0.129112869637651,
           -0.19908371511870038,
           -0.26572261557684296,
           -0.3290295710120783,
           -0.3890045814244064,
           -0.4456476468138274,
           -0.4989587671803415,
           -0.5489379425239483,
           -0.595585172844648,
           -0.6389004581424407,
           -0.6788837984173259,
           -0.7155351936693044,
           -0.7488546438983756,
           -0.7788421491045396,
           -0.8054977092877967,
           -0.8288213244481466,
           -0.8488129945855893,
           -0.8654727197001248,
           -0.8788004997917533,
           -0.8887963348604747,
           -0.8954602249062891,
           -0.8987921699291961,
           -0.8987921699291961,
           -0.8954602249062891,
           -0.8887963348604748,
           -0.8788004997917535,
           -0.865472719700125,
           -0.8488129945855893,
           -0.8288213244481466,
           -0.8054977092877968,
           -0.7788421491045399,
           -0.7488546438983756,
           -0.7155351936693046,
           -0.6788837984173262,
           -0.6389004581424407,
           -0.5955851728446482,
           -0.5489379425239487,
           -0.4989587671803417,
           -0.44564764681382774,
           -0.3890045814244065,
           -0.3290295710120783,
           -0.2657226155768433,
           -0.19908371511870082,
           -0.12911286963765112,
           -0.0558100791336944,
           0.02082465639316955,
           0.10079133694294051
          ],
          [
           0.06747188671386928,
           -0.012494793835901685,
           -0.08912952936276541,
           -0.16243231986672224,
           -0.2324031653477716,
           -0.2990420658059142,
           -0.36234902124114954,
           -0.42232403165347765,
           -0.47896709704289864,
           -0.5322782174094127,
           -0.5822573927530195,
           -0.6289046230737192,
           -0.6722199083715118,
           -0.7122032486463972,
           -0.7488546438983756,
           -0.7821740941274468,
           -0.8121615993336109,
           -0.8388171595168679,
           -0.8621407746772177,
           -0.8821324448146605,
           -0.8987921699291961,
           -0.9121199500208246,
           -0.922115785089546,
           -0.9287796751353602,
           -0.9321116201582673,
           -0.9321116201582673,
           -0.9287796751353602,
           -0.922115785089546,
           -0.9121199500208246,
           -0.8987921699291961,
           -0.8821324448146606,
           -0.8621407746772178,
           -0.838817159516868,
           -0.812161599333611,
           -0.7821740941274469,
           -0.7488546438983757,
           -0.7122032486463974,
           -0.6722199083715119,
           -0.6289046230737193,
           -0.5822573927530198,
           -0.532278217409413,
           -0.47896709704289886,
           -0.42232403165347776,
           -0.36234902124114954,
           -0.2990420658059145,
           -0.23240316534777206,
           -0.16243231986672235,
           -0.08912952936276564,
           -0.012494793835901685,
           0.06747188671386928
          ],
          [
           0.04081632653061229,
           -0.03915035401915867,
           -0.1157850895460224,
           -0.18908788004997923,
           -0.2590587255310286,
           -0.3256976259891712,
           -0.3890045814244065,
           -0.44897959183673464,
           -0.5056226572261556,
           -0.5589337775926697,
           -0.6089129529362765,
           -0.6555601832569762,
           -0.6988754685547688,
           -0.7388588088296542,
           -0.7755102040816326,
           -0.8088296543107037,
           -0.8388171595168679,
           -0.865472719700125,
           -0.8887963348604747,
           -0.9087880049979175,
           -0.9254477301124531,
           -0.9387755102040816,
           -0.9487713452728029,
           -0.9554352353186172,
           -0.9587671803415243,
           -0.9587671803415243,
           -0.9554352353186173,
           -0.948771345272803,
           -0.9387755102040817,
           -0.9254477301124531,
           -0.9087880049979176,
           -0.8887963348604748,
           -0.865472719700125,
           -0.838817159516868,
           -0.8088296543107039,
           -0.7755102040816328,
           -0.7388588088296544,
           -0.6988754685547689,
           -0.6555601832569763,
           -0.6089129529362768,
           -0.5589337775926699,
           -0.505622657226156,
           -0.44897959183673475,
           -0.3890045814244065,
           -0.3256976259891715,
           -0.25905872553102904,
           -0.18908788004997934,
           -0.11578508954602262,
           -0.03915035401915867,
           0.04081632653061229
          ],
          [
           0.02082465639316955,
           -0.059142024156601414,
           -0.13577675968346514,
           -0.20907955018742197,
           -0.27905039566847134,
           -0.3456892961266139,
           -0.40899625156184927,
           -0.4689712619741774,
           -0.5256143273635984,
           -0.5789254477301125,
           -0.6289046230737192,
           -0.6755518533944189,
           -0.7188671386922115,
           -0.7588504789670969,
           -0.7955018742190754,
           -0.8288213244481465,
           -0.8588088296543106,
           -0.8854643898375676,
           -0.9087880049979175,
           -0.9287796751353602,
           -0.9454394002498958,
           -0.9587671803415243,
           -0.9687630154102457,
           -0.9754269054560599,
           -0.978758850478967,
           -0.978758850478967,
           -0.9754269054560599,
           -0.9687630154102457,
           -0.9587671803415243,
           -0.9454394002498958,
           -0.9287796751353603,
           -0.9087880049979176,
           -0.8854643898375677,
           -0.8588088296543107,
           -0.8288213244481466,
           -0.7955018742190755,
           -0.7588504789670971,
           -0.7188671386922116,
           -0.675551853394419,
           -0.6289046230737195,
           -0.5789254477301127,
           -0.5256143273635987,
           -0.4689712619741775,
           -0.40899625156184927,
           -0.34568929612661425,
           -0.2790503956684718,
           -0.20907955018742208,
           -0.13577675968346536,
           -0.059142024156601414,
           0.02082465639316955
          ],
          [
           0.0074968763015410556,
           -0.07246980424822991,
           -0.14910453977509364,
           -0.22240733027905046,
           -0.29237817576009983,
           -0.3590170762182424,
           -0.42232403165347776,
           -0.48229904206580587,
           -0.5389421074552269,
           -0.592253227821741,
           -0.6422324031653477,
           -0.6888796334860474,
           -0.73219491878384,
           -0.7721782590587254,
           -0.8088296543107039,
           -0.842149104539775,
           -0.8721366097459391,
           -0.8987921699291962,
           -0.922115785089546,
           -0.9421074552269887,
           -0.9587671803415243,
           -0.9720949604331528,
           -0.9820907955018742,
           -0.9887546855476884,
           -0.9920866305705955,
           -0.9920866305705955,
           -0.9887546855476884,
           -0.9820907955018743,
           -0.9720949604331528,
           -0.9587671803415243,
           -0.9421074552269888,
           -0.9221157850895461,
           -0.8987921699291962,
           -0.8721366097459392,
           -0.8421491045397751,
           -0.8088296543107041,
           -0.7721782590587256,
           -0.7321949187838401,
           -0.6888796334860475,
           -0.642232403165348,
           -0.5922532278217412,
           -0.5389421074552272,
           -0.482299042065806,
           -0.42232403165347776,
           -0.35901707621824275,
           -0.2923781757601003,
           -0.22240733027905057,
           -0.14910453977509386,
           -0.07246980424822991,
           0.0074968763015410556
          ],
          [
           0.0008329862557268086,
           -0.07913369429404415,
           -0.15576842982090788,
           -0.2290712203248647,
           -0.2990420658059141,
           -0.36568096626405666,
           -0.428987921699292,
           -0.4889629321116201,
           -0.5456059975010411,
           -0.5989171178675552,
           -0.6488962932111619,
           -0.6955435235318617,
           -0.7388588088296543,
           -0.7788421491045396,
           -0.8154935443565181,
           -0.8488129945855892,
           -0.8788004997917533,
           -0.9054560599750104,
           -0.9287796751353602,
           -0.9487713452728029,
           -0.9654310703873386,
           -0.978758850478967,
           -0.9887546855476884,
           -0.9954185755935027,
           -0.9987505206164098,
           -0.9987505206164098,
           -0.9954185755935028,
           -0.9887546855476885,
           -0.9787588504789672,
           -0.9654310703873387,
           -0.948771345272803,
           -0.9287796751353603,
           -0.9054560599750104,
           -0.8788004997917535,
           -0.8488129945855893,
           -0.8154935443565183,
           -0.7788421491045399,
           -0.7388588088296544,
           -0.6955435235318618,
           -0.6488962932111623,
           -0.5989171178675554,
           -0.5456059975010414,
           -0.48896293211162023,
           -0.428987921699292,
           -0.365680966264057,
           -0.2990420658059145,
           -0.22907122032486482,
           -0.1557684298209081,
           -0.07913369429404415,
           0.0008329862557268086
          ],
          [
           0.0008329862557268086,
           -0.07913369429404415,
           -0.15576842982090788,
           -0.2290712203248647,
           -0.2990420658059141,
           -0.36568096626405666,
           -0.428987921699292,
           -0.4889629321116201,
           -0.5456059975010411,
           -0.5989171178675552,
           -0.6488962932111619,
           -0.6955435235318617,
           -0.7388588088296543,
           -0.7788421491045396,
           -0.8154935443565181,
           -0.8488129945855892,
           -0.8788004997917533,
           -0.9054560599750104,
           -0.9287796751353602,
           -0.9487713452728029,
           -0.9654310703873386,
           -0.978758850478967,
           -0.9887546855476884,
           -0.9954185755935027,
           -0.9987505206164098,
           -0.9987505206164098,
           -0.9954185755935028,
           -0.9887546855476885,
           -0.9787588504789672,
           -0.9654310703873387,
           -0.948771345272803,
           -0.9287796751353603,
           -0.9054560599750104,
           -0.8788004997917535,
           -0.8488129945855893,
           -0.8154935443565183,
           -0.7788421491045399,
           -0.7388588088296544,
           -0.6955435235318618,
           -0.6488962932111623,
           -0.5989171178675554,
           -0.5456059975010414,
           -0.48896293211162023,
           -0.428987921699292,
           -0.365680966264057,
           -0.2990420658059145,
           -0.22907122032486482,
           -0.1557684298209081,
           -0.07913369429404415,
           0.0008329862557268086
          ],
          [
           0.0074968763015410556,
           -0.07246980424823002,
           -0.14910453977509375,
           -0.22240733027905057,
           -0.29237817576009995,
           -0.3590170762182425,
           -0.42232403165347787,
           -0.482299042065806,
           -0.538942107455227,
           -0.592253227821741,
           -0.6422324031653478,
           -0.6888796334860474,
           -0.7321949187838401,
           -0.7721782590587255,
           -0.8088296543107039,
           -0.8421491045397751,
           -0.8721366097459392,
           -0.8987921699291962,
           -0.9221157850895461,
           -0.9421074552269888,
           -0.9587671803415244,
           -0.9720949604331529,
           -0.9820907955018743,
           -0.9887546855476885,
           -0.9920866305705957,
           -0.9920866305705957,
           -0.9887546855476885,
           -0.9820907955018743,
           -0.9720949604331529,
           -0.9587671803415244,
           -0.9421074552269889,
           -0.9221157850895462,
           -0.8987921699291963,
           -0.8721366097459393,
           -0.8421491045397751,
           -0.8088296543107041,
           -0.7721782590587257,
           -0.7321949187838401,
           -0.6888796334860476,
           -0.6422324031653481,
           -0.5922532278217412,
           -0.5389421074552272,
           -0.4822990420658061,
           -0.42232403165347787,
           -0.35901707621824286,
           -0.2923781757601004,
           -0.22240733027905069,
           -0.14910453977509397,
           -0.07246980424823002,
           0.0074968763015410556
          ],
          [
           0.02082465639316955,
           -0.059142024156601525,
           -0.13577675968346525,
           -0.20907955018742208,
           -0.27905039566847145,
           -0.34568929612661403,
           -0.4089962515618494,
           -0.4689712619741775,
           -0.5256143273635985,
           -0.5789254477301125,
           -0.6289046230737193,
           -0.6755518533944189,
           -0.7188671386922116,
           -0.758850478967097,
           -0.7955018742190754,
           -0.8288213244481466,
           -0.8588088296543107,
           -0.8854643898375677,
           -0.9087880049979176,
           -0.9287796751353603,
           -0.9454394002498959,
           -0.9587671803415244,
           -0.9687630154102458,
           -0.97542690545606,
           -0.9787588504789672,
           -0.9787588504789672,
           -0.97542690545606,
           -0.9687630154102458,
           -0.9587671803415244,
           -0.9454394002498959,
           -0.9287796751353604,
           -0.9087880049979177,
           -0.8854643898375678,
           -0.8588088296543108,
           -0.8288213244481466,
           -0.7955018742190756,
           -0.7588504789670972,
           -0.7188671386922116,
           -0.6755518533944191,
           -0.6289046230737196,
           -0.5789254477301127,
           -0.5256143273635987,
           -0.4689712619741776,
           -0.4089962515618494,
           -0.34568929612661436,
           -0.2790503956684719,
           -0.2090795501874222,
           -0.13577675968346548,
           -0.059142024156601525,
           0.02082465639316955
          ],
          [
           0.04081632653061229,
           -0.039150354019158784,
           -0.11578508954602251,
           -0.18908788004997934,
           -0.2590587255310287,
           -0.3256976259891713,
           -0.38900458142440664,
           -0.44897959183673475,
           -0.5056226572261557,
           -0.5589337775926697,
           -0.6089129529362766,
           -0.6555601832569762,
           -0.6988754685547689,
           -0.7388588088296543,
           -0.7755102040816326,
           -0.8088296543107039,
           -0.838817159516868,
           -0.865472719700125,
           -0.8887963348604748,
           -0.9087880049979176,
           -0.9254477301124532,
           -0.9387755102040817,
           -0.948771345272803,
           -0.9554352353186173,
           -0.9587671803415244,
           -0.9587671803415244,
           -0.9554352353186173,
           -0.948771345272803,
           -0.9387755102040817,
           -0.9254477301124532,
           -0.9087880049979177,
           -0.8887963348604749,
           -0.8654727197001251,
           -0.8388171595168681,
           -0.8088296543107039,
           -0.7755102040816328,
           -0.7388588088296545,
           -0.698875468554769,
           -0.6555601832569764,
           -0.6089129529362769,
           -0.55893377759267,
           -0.505622657226156,
           -0.44897959183673486,
           -0.38900458142440664,
           -0.3256976259891716,
           -0.25905872553102915,
           -0.18908788004997945,
           -0.11578508954602273,
           -0.039150354019158784,
           0.04081632653061229
          ],
          [
           0.06747188671386928,
           -0.012494793835901796,
           -0.08912952936276552,
           -0.16243231986672235,
           -0.23240316534777172,
           -0.2990420658059143,
           -0.36234902124114965,
           -0.42232403165347776,
           -0.47896709704289875,
           -0.5322782174094127,
           -0.5822573927530196,
           -0.6289046230737192,
           -0.6722199083715119,
           -0.7122032486463973,
           -0.7488546438983756,
           -0.7821740941274469,
           -0.812161599333611,
           -0.838817159516868,
           -0.8621407746772178,
           -0.8821324448146606,
           -0.8987921699291961,
           -0.9121199500208247,
           -0.9221157850895461,
           -0.9287796751353603,
           -0.9321116201582674,
           -0.9321116201582674,
           -0.9287796751353603,
           -0.9221157850895461,
           -0.9121199500208247,
           -0.8987921699291962,
           -0.8821324448146607,
           -0.862140774677218,
           -0.8388171595168681,
           -0.8121615993336111,
           -0.7821740941274469,
           -0.7488546438983759,
           -0.7122032486463975,
           -0.6722199083715119,
           -0.6289046230737194,
           -0.5822573927530199,
           -0.532278217409413,
           -0.47896709704289897,
           -0.42232403165347787,
           -0.36234902124114965,
           -0.29904206580591464,
           -0.23240316534777217,
           -0.16243231986672246,
           -0.08912952936276575,
           -0.012494793835901796,
           0.06747188671386928
          ],
          [
           0.10079133694294029,
           0.020824656393169327,
           -0.0558100791336944,
           -0.12911286963765123,
           -0.1990837151187006,
           -0.2657226155768432,
           -0.3290295710120785,
           -0.38900458142440664,
           -0.4456476468138276,
           -0.4989587671803417,
           -0.5489379425239486,
           -0.5955851728446482,
           -0.6389004581424408,
           -0.6788837984173262,
           -0.7155351936693046,
           -0.7488546438983757,
           -0.7788421491045399,
           -0.805497709287797,
           -0.8288213244481467,
           -0.8488129945855896,
           -0.8654727197001251,
           -0.8788004997917536,
           -0.8887963348604749,
           -0.8954602249062892,
           -0.8987921699291963,
           -0.8987921699291963,
           -0.8954602249062893,
           -0.888796334860475,
           -0.8788004997917537,
           -0.8654727197001251,
           -0.8488129945855896,
           -0.8288213244481468,
           -0.8054977092877971,
           -0.77884214910454,
           -0.7488546438983759,
           -0.7155351936693048,
           -0.6788837984173264,
           -0.6389004581424409,
           -0.5955851728446483,
           -0.5489379425239488,
           -0.49895876718034193,
           -0.44564764681382796,
           -0.38900458142440675,
           -0.3290295710120785,
           -0.2657226155768435,
           -0.19908371511870104,
           -0.12911286963765134,
           -0.05581007913369462,
           0.020824656393169327,
           0.10079133694294029
          ],
          [
           0.14077467721782577,
           0.06080799666805481,
           -0.01582673885880892,
           -0.08912952936276575,
           -0.15910037484381512,
           -0.2257392753019577,
           -0.28904623073719304,
           -0.34902124114952116,
           -0.40566430653894214,
           -0.45897542690545623,
           -0.5089546022490631,
           -0.5556018325697627,
           -0.5989171178675553,
           -0.6389004581424407,
           -0.6755518533944191,
           -0.7088713036234903,
           -0.7388588088296544,
           -0.7655143690129115,
           -0.7888379841732612,
           -0.8088296543107041,
           -0.8254893794252396,
           -0.8388171595168681,
           -0.8488129945855895,
           -0.8554768846314037,
           -0.8588088296543108,
           -0.8588088296543108,
           -0.8554768846314038,
           -0.8488129945855896,
           -0.8388171595168681,
           -0.8254893794252396,
           -0.8088296543107041,
           -0.7888379841732613,
           -0.7655143690129116,
           -0.7388588088296545,
           -0.7088713036234904,
           -0.6755518533944194,
           -0.6389004581424409,
           -0.5989171178675554,
           -0.5556018325697628,
           -0.5089546022490633,
           -0.45897542690545645,
           -0.4056643065389425,
           -0.34902124114952127,
           -0.28904623073719304,
           -0.22573927530195803,
           -0.15910037484381556,
           -0.08912952936276586,
           -0.015826738858809142,
           0.06080799666805481,
           0.14077467721782577
          ],
          [
           0.1874219075385255,
           0.10745522698875454,
           0.03082049146189081,
           -0.04248229904206602,
           -0.11245314452311539,
           -0.17909204498125797,
           -0.24239900041649332,
           -0.3023740108288214,
           -0.3590170762182424,
           -0.4123281965847565,
           -0.46230737192836335,
           -0.508954602249063,
           -0.5522698875468556,
           -0.592253227821741,
           -0.6289046230737194,
           -0.6622240733027905,
           -0.6922115785089547,
           -0.7188671386922117,
           -0.7421907538525615,
           -0.7621824239900044,
           -0.7788421491045399,
           -0.7921699291961684,
           -0.8021657642648897,
           -0.808829654310704,
           -0.8121615993336111,
           -0.8121615993336111,
           -0.8088296543107041,
           -0.8021657642648898,
           -0.7921699291961684,
           -0.7788421491045399,
           -0.7621824239900044,
           -0.7421907538525616,
           -0.7188671386922119,
           -0.6922115785089548,
           -0.6622240733027907,
           -0.6289046230737196,
           -0.5922532278217412,
           -0.5522698875468557,
           -0.5089546022490631,
           -0.4623073719283636,
           -0.4123281965847567,
           -0.35901707621824275,
           -0.30237401082882154,
           -0.24239900041649332,
           -0.1790920449812583,
           -0.11245314452311583,
           -0.04248229904206613,
           0.030820491461890587,
           0.10745522698875454,
           0.1874219075385255
          ],
          [
           0.24073302790503948,
           0.1607663473552685,
           0.08413161182840478,
           0.010828821324448068,
           -0.059142024156601414,
           -0.125780924614744,
           -0.18908788004997934,
           -0.24906289046230745,
           -0.30570595585172844,
           -0.3590170762182425,
           -0.40899625156184927,
           -0.455643481882549,
           -0.4989587671803416,
           -0.538942107455227,
           -0.5755935027072054,
           -0.6089129529362766,
           -0.6389004581424407,
           -0.6655560183256977,
           -0.6888796334860475,
           -0.7088713036234903,
           -0.7255310287380259,
           -0.7388588088296544,
           -0.7488546438983757,
           -0.75551853394419,
           -0.7588504789670971,
           -0.7588504789670971,
           -0.75551853394419,
           -0.7488546438983759,
           -0.7388588088296544,
           -0.7255310287380259,
           -0.7088713036234904,
           -0.6888796334860476,
           -0.6655560183256978,
           -0.6389004581424408,
           -0.6089129529362767,
           -0.5755935027072056,
           -0.5389421074552272,
           -0.4989587671803417,
           -0.4556434818825491,
           -0.4089962515618496,
           -0.35901707621824275,
           -0.3057059558517288,
           -0.24906289046230756,
           -0.18908788004997934,
           -0.12578092461474433,
           -0.05914202415660186,
           0.010828821324447846,
           0.08413161182840456,
           0.1607663473552685,
           0.24073302790503948
          ],
          [
           0.3007080383173677,
           0.22074135776759674,
           0.144106622240733,
           0.07080383173677629,
           0.0008329862557268086,
           -0.06580591420241566,
           -0.12911286963765112,
           -0.18908788004997912,
           -0.2457309454394001,
           -0.2990420658059142,
           -0.34902124114952104,
           -0.39566847147022066,
           -0.43898375676801327,
           -0.47896709704289875,
           -0.5156184922948771,
           -0.5489379425239482,
           -0.5789254477301125,
           -0.6055810079133694,
           -0.6289046230737192,
           -0.6488962932111619,
           -0.6655560183256977,
           -0.6788837984173262,
           -0.6888796334860474,
           -0.6955435235318617,
           -0.6988754685547689,
           -0.6988754685547689,
           -0.6955435235318618,
           -0.6888796334860475,
           -0.6788837984173262,
           -0.6655560183256977,
           -0.6488962932111622,
           -0.6289046230737194,
           -0.6055810079133694,
           -0.5789254477301125,
           -0.5489379425239483,
           -0.5156184922948773,
           -0.47896709704289897,
           -0.4389837567680135,
           -0.3956684714702208,
           -0.34902124114952127,
           -0.2990420658059145,
           -0.24573094543940044,
           -0.18908788004997934,
           -0.12911286963765112,
           -0.0658059142024161,
           0.0008329862557263645,
           0.07080383173677607,
           0.14410662224073278,
           0.22074135776759674,
           0.3007080383173677
          ],
          [
           0.36734693877550995,
           0.287380258225739,
           0.21074552269887525,
           0.13744273219491832,
           0.06747188671386906,
           0.0008329862557263645,
           -0.06247396917950887,
           -0.12244897959183709,
           -0.17909204498125808,
           -0.23240316534777206,
           -0.2823823406913789,
           -0.3290295710120785,
           -0.37234485630987124,
           -0.4123281965847566,
           -0.44897959183673497,
           -0.4822990420658062,
           -0.5122865472719703,
           -0.5389421074552273,
           -0.5622657226155772,
           -0.5822573927530199,
           -0.5989171178675554,
           -0.6122448979591839,
           -0.6222407330279054,
           -0.6289046230737196,
           -0.6322365680966266,
           -0.6322365680966266,
           -0.6289046230737196,
           -0.6222407330279054,
           -0.612244897959184,
           -0.5989171178675555,
           -0.5822573927530199,
           -0.5622657226155772,
           -0.5389421074552274,
           -0.5122865472719704,
           -0.4822990420658062,
           -0.4489795918367352,
           -0.41232819658475683,
           -0.37234485630987124,
           -0.32902957101207875,
           -0.28238234069137924,
           -0.23240316534777228,
           -0.1790920449812583,
           -0.12244897959183709,
           -0.06247396917950887,
           0.0008329862557261425,
           0.06747188671386861,
           0.13744273219491832,
           0.21074552269887503,
           0.287380258225739,
           0.36734693877550995
          ],
          [
           0.44064972927946666,
           0.3606830487296957,
           0.28404831320283197,
           0.21074552269887503,
           0.14077467721782577,
           0.07413577675968308,
           0.010828821324447846,
           -0.049146189087880376,
           -0.10578925447730136,
           -0.15910037484381534,
           -0.2090795501874222,
           -0.2557267805081218,
           -0.2990420658059145,
           -0.3390254060807999,
           -0.37567680133277825,
           -0.4089962515618495,
           -0.4389837567680136,
           -0.4656393169512706,
           -0.48896293211162045,
           -0.5089546022490632,
           -0.5256143273635987,
           -0.5389421074552272,
           -0.5489379425239487,
           -0.5556018325697629,
           -0.5589337775926699,
           -0.5589337775926699,
           -0.5556018325697629,
           -0.5489379425239487,
           -0.5389421074552273,
           -0.5256143273635988,
           -0.5089546022490632,
           -0.48896293211162056,
           -0.4656393169512707,
           -0.4389837567680137,
           -0.4089962515618495,
           -0.3756768013327785,
           -0.3390254060808001,
           -0.2990420658059145,
           -0.25572678050812203,
           -0.20907955018742252,
           -0.15910037484381556,
           -0.10578925447730159,
           -0.049146189087880376,
           0.010828821324447846,
           0.07413577675968286,
           0.14077467721782533,
           0.21074552269887503,
           0.28404831320283175,
           0.3606830487296957,
           0.44064972927946666
          ],
          [
           0.5206164098292376,
           0.44064972927946666,
           0.36401499375260293,
           0.290712203248646,
           0.22074135776759674,
           0.15410245730945427,
           0.09079550187421881,
           0.030820491461890587,
           -0.02582257392753029,
           -0.07913369429404438,
           -0.12911286963765112,
           -0.17576009995835085,
           -0.21907538525614345,
           -0.2590587255310288,
           -0.2957101207830073,
           -0.3290295710120784,
           -0.3590170762182425,
           -0.3856726364014995,
           -0.4089962515618494,
           -0.4289879216992921,
           -0.44564764681382774,
           -0.45897542690545623,
           -0.4689712619741776,
           -0.47563515201999185,
           -0.47896709704289897,
           -0.47896709704289897,
           -0.47563515201999185,
           -0.4689712619741776,
           -0.45897542690545623,
           -0.44564764681382774,
           -0.42898792169929223,
           -0.4089962515618495,
           -0.3856726364014996,
           -0.35901707621824264,
           -0.3290295710120785,
           -0.2957101207830074,
           -0.25905872553102904,
           -0.21907538525614356,
           -0.17576009995835096,
           -0.12911286963765145,
           -0.0791336942940446,
           -0.025822573927530623,
           0.030820491461890587,
           0.09079550187421881,
           0.15410245730945382,
           0.2207413577675963,
           0.290712203248646,
           0.3640149937526027,
           0.44064972927946666,
           0.5206164098292376
          ],
          [
           0.6072469804248228,
           0.5272802998750519,
           0.45064556434818814,
           0.3773427738442314,
           0.30737192836318195,
           0.24073302790503925,
           0.17742607246980402,
           0.11745106205747602,
           0.06080799666805481,
           0.0074968763015408335,
           -0.04248229904206591,
           -0.08912952936276564,
           -0.13244481466055824,
           -0.1724281549354436,
           -0.20907955018742208,
           -0.2423990004164932,
           -0.2723865056226573,
           -0.2990420658059143,
           -0.32236568096626417,
           -0.3423573511037069,
           -0.3590170762182425,
           -0.372344856309871,
           -0.3823406913785924,
           -0.38900458142440664,
           -0.39233652644731376,
           -0.39233652644731376,
           -0.38900458142440664,
           -0.3823406913785924,
           -0.372344856309871,
           -0.3590170762182425,
           -0.342357351103707,
           -0.3223656809662643,
           -0.2990420658059144,
           -0.2723865056226574,
           -0.24239900041649332,
           -0.2090795501874222,
           -0.17242815493544383,
           -0.13244481466055835,
           -0.08912952936276575,
           -0.04248229904206624,
           0.0074968763015406115,
           0.06080799666805459,
           0.1174510620574758,
           0.17742607246980402,
           0.24073302790503903,
           0.3073719283631815,
           0.3773427738442312,
           0.4506455643481879,
           0.5272802998750519,
           0.6072469804248228
          ],
          [
           0.7005414410662218,
           0.6205747605164509,
           0.5439400249895872,
           0.47063723448563044,
           0.40066638900458096,
           0.33402748854643827,
           0.27072053311120303,
           0.21074552269887503,
           0.15410245730945382,
           0.10079133694293985,
           0.050812161599333105,
           0.004164931278633377,
           -0.03915035401915923,
           -0.0791336942940446,
           -0.11578508954602307,
           -0.1491045397750942,
           -0.1790920449812583,
           -0.2057476051645153,
           -0.22907122032486515,
           -0.2490628904623079,
           -0.2657226155768435,
           -0.279050395668472,
           -0.2890462307371934,
           -0.2957101207830076,
           -0.29904206580591475,
           -0.29904206580591475,
           -0.2957101207830076,
           -0.2890462307371934,
           -0.279050395668472,
           -0.2657226155768435,
           -0.249062890462308,
           -0.22907122032486527,
           -0.2057476051645154,
           -0.1790920449812584,
           -0.1491045397750943,
           -0.11578508954602318,
           -0.07913369429404482,
           -0.03915035401915934,
           0.004164931278633155,
           0.05081216159933266,
           0.10079133694293962,
           0.1541024573094536,
           0.2107455226988748,
           0.27072053311120303,
           0.33402748854643804,
           0.4006663890045805,
           0.4706372344856302,
           0.5439400249895869,
           0.6205747605164509,
           0.7005414410662218
          ],
          [
           0.8004997917534356,
           0.7205331112036646,
           0.6438983756768009,
           0.5705955851728439,
           0.5006247396917947,
           0.4339858392336522,
           0.37067888379841674,
           0.3107038733860885,
           0.25406080799666775,
           0.20074968763015355,
           0.1507705122865468,
           0.10412328196584708,
           0.060807996668054365,
           0.020824656393169105,
           -0.015826738858809364,
           -0.04914618908788049,
           -0.0791336942940446,
           -0.10578925447730159,
           -0.12911286963765145,
           -0.1491045397750942,
           -0.1657642648896298,
           -0.1790920449812583,
           -0.18908788004997967,
           -0.19575177009579392,
           -0.19908371511870104,
           -0.19908371511870104,
           -0.19575177009579392,
           -0.18908788004997967,
           -0.1790920449812583,
           -0.1657642648896298,
           -0.1491045397750943,
           -0.12911286963765156,
           -0.1057892544773017,
           -0.07913369429404471,
           -0.0491461890878806,
           -0.015826738858809475,
           0.020824656393168883,
           0.060807996668054365,
           0.10412328196584708,
           0.1507705122865466,
           0.20074968763015333,
           0.2540608079966673,
           0.3107038733860885,
           0.37067888379841674,
           0.43398583923365175,
           0.5006247396917942,
           0.5705955851728439,
           0.6438983756768006,
           0.7205331112036646,
           0.8004997917534356
          ],
          [
           0.9071220324864635,
           0.8271553519366925,
           0.7505206164098288,
           0.6772178259058721,
           0.6072469804248226,
           0.5406080799666801,
           0.4773011245314449,
           0.4173261141191167,
           0.3606830487296957,
           0.3073719283631817,
           0.25739275301957476,
           0.21074552269887525,
           0.16743023740108254,
           0.12744689712619706,
           0.09079550187421881,
           0.057476051645147574,
           0.027488546438983352,
           0.0008329862557263645,
           -0.02249062890462339,
           -0.04248229904206613,
           -0.05914202415660175,
           -0.07246980424823024,
           -0.08246563931695161,
           -0.08912952936276586,
           -0.09246147438567298,
           -0.09246147438567298,
           -0.08912952936276586,
           -0.08246563931695161,
           -0.07246980424823024,
           -0.05914202415660175,
           -0.04248229904206624,
           -0.0224906289046235,
           0.0008329862557263645,
           0.027488546438983352,
           0.057476051645147574,
           0.09079550187421859,
           0.12744689712619683,
           0.16743023740108232,
           0.21074552269887503,
           0.25739275301957454,
           0.3073719283631813,
           0.3606830487296955,
           0.41732611411911646,
           0.4773011245314449,
           0.5406080799666797,
           0.6072469804248222,
           0.6772178259058719,
           0.7505206164098288,
           0.8271553519366925,
           0.9071220324864635
          ],
          [
           1.020408163265306,
           0.940441482715535,
           0.8638067471886712,
           0.7905039566847143,
           0.720533111203665,
           0.6538942107455226,
           0.5905872553102871,
           0.5306122448979589,
           0.4739691795085381,
           0.4206580591420239,
           0.3706788837984172,
           0.32403165347771745,
           0.28071636817992474,
           0.24073302790503948,
           0.204081632653061,
           0.17076218242399,
           0.14077467721782577,
           0.11411911703456878,
           0.09079550187421903,
           0.07080383173677607,
           0.05414410662224056,
           0.04081632653061207,
           0.03082049146189081,
           0.02415660141607634,
           0.020824656393169327,
           0.020824656393169327,
           0.02415660141607634,
           0.030820491461890587,
           0.04081632653061207,
           0.05414410662224056,
           0.07080383173677607,
           0.09079550187421881,
           0.11411911703456856,
           0.14077467721782577,
           0.17076218242398977,
           0.20408163265306078,
           0.24073302790503925,
           0.28071636817992474,
           0.32403165347771745,
           0.37067888379841696,
           0.4206580591420237,
           0.4739691795085377,
           0.5306122448979589,
           0.5905872553102871,
           0.6538942107455221,
           0.7205331112036646,
           0.7905039566847143,
           0.863806747188671,
           0.940441482715535,
           1.020408163265306
          ],
          [
           1.1403581840899624,
           1.0603915035401914,
           0.9837567680133277,
           0.9104539775093707,
           0.8404831320283215,
           0.773844231570179,
           0.7105372761349436,
           0.6505622657226153,
           0.5939192003331946,
           0.5406080799666804,
           0.4906289046230736,
           0.4439816743023739,
           0.4006663890045812,
           0.3606830487296959,
           0.32403165347771745,
           0.29071220324864644,
           0.2607246980424822,
           0.23406913785922523,
           0.21074552269887548,
           0.1907538525614325,
           0.174094127446897,
           0.1607663473552685,
           0.15077051228654725,
           0.14410662224073278,
           0.14077467721782577,
           0.14077467721782577,
           0.14410662224073278,
           0.15077051228654703,
           0.1607663473552685,
           0.174094127446897,
           0.1907538525614325,
           0.21074552269887525,
           0.234069137859225,
           0.2607246980424822,
           0.2907122032486462,
           0.32403165347771723,
           0.3606830487296957,
           0.4006663890045812,
           0.4439816743023739,
           0.4906289046230734,
           0.5406080799666801,
           0.5939192003331941,
           0.6505622657226153,
           0.7105372761349436,
           0.7738442315701786,
           0.840483132028321,
           0.9104539775093707,
           0.9837567680133275,
           1.0603915035401914,
           1.1403581840899624
          ],
          [
           1.2669720949604324,
           1.1870054144106614,
           1.1103706788837977,
           1.0370678883798408,
           0.9670970428987915,
           0.900458142440649,
           0.8371511870054136,
           0.7771761765930854,
           0.7205331112036646,
           0.6672219908371504,
           0.6172428154935437,
           0.5705955851728439,
           0.5272802998750512,
           0.48729695960016595,
           0.4506455643481875,
           0.41732611411911646,
           0.38733860891295224,
           0.36068304872969525,
           0.3373594335693455,
           0.31736776343190254,
           0.30070803831736703,
           0.28738025822573854,
           0.2773844231570173,
           0.2707205331112028,
           0.2673885880882958,
           0.2673885880882958,
           0.2707205331112028,
           0.27738442315701706,
           0.28738025822573854,
           0.30070803831736703,
           0.31736776343190254,
           0.3373594335693453,
           0.36068304872969503,
           0.38733860891295224,
           0.41732611411911624,
           0.45064556434818726,
           0.4872969596001657,
           0.5272802998750512,
           0.5705955851728439,
           0.6172428154935434,
           0.6672219908371502,
           0.7205331112036641,
           0.7771761765930854,
           0.8371511870054136,
           0.9004581424406486,
           0.9670970428987911,
           1.0370678883798408,
           1.1103706788837977,
           1.1870054144106614,
           1.2669720949604324
          ],
          [
           1.4002498958767173,
           1.3202832153269464,
           1.2436484798000826,
           1.1703456892961257,
           1.1003748438150764,
           1.033735943356934,
           0.9704289879216985,
           0.9104539775093703,
           0.8538109121199495,
           0.8004997917534353,
           0.7505206164098286,
           0.7038733860891289,
           0.6605581007913361,
           0.6205747605164509,
           0.5839233652644724,
           0.5506039150354014,
           0.5206164098292372,
           0.4939608496459802,
           0.47063723448563044,
           0.4506455643481875,
           0.43398583923365197,
           0.4206580591420235,
           0.4106622240733022,
           0.40399833402748775,
           0.40066638900458074,
           0.40066638900458074,
           0.40399833402748775,
           0.410662224073302,
           0.4206580591420235,
           0.43398583923365197,
           0.4506455643481875,
           0.4706372344856302,
           0.49396084964597997,
           0.5206164098292372,
           0.5506039150354012,
           0.5839233652644722,
           0.6205747605164507,
           0.6605581007913361,
           0.7038733860891289,
           0.7505206164098284,
           0.8004997917534351,
           0.8538109121199491,
           0.9104539775093703,
           0.9704289879216985,
           1.0337359433569335,
           1.100374843815076,
           1.1703456892961257,
           1.2436484798000826,
           1.3202832153269464,
           1.4002498958767173
          ],
          [
           1.5401915868388167,
           1.4602249062890458,
           1.383590170762182,
           1.310287380258225,
           1.2403165347771758,
           1.1736776343190334,
           1.1103706788837977,
           1.0503956684714697,
           0.9937526030820489,
           0.9404414827155347,
           0.890462307371928,
           0.8438150770512283,
           0.8004997917534356,
           0.7605164514785503,
           0.7238650562265718,
           0.6905456059975008,
           0.6605581007913366,
           0.6339025406080796,
           0.6105789254477298,
           0.5905872553102869,
           0.5739275301957514,
           0.5605997501041229,
           0.5506039150354016,
           0.5439400249895872,
           0.5406080799666801,
           0.5406080799666801,
           0.5439400249895872,
           0.5506039150354014,
           0.5605997501041229,
           0.5739275301957514,
           0.5905872553102869,
           0.6105789254477296,
           0.6339025406080794,
           0.6605581007913366,
           0.6905456059975006,
           0.7238650562265716,
           0.7605164514785501,
           0.8004997917534356,
           0.8438150770512283,
           0.8904623073719278,
           0.9404414827155345,
           0.9937526030820485,
           1.0503956684714697,
           1.1103706788837977,
           1.173677634319033,
           1.2403165347771754,
           1.310287380258225,
           1.383590170762182,
           1.4602249062890458,
           1.5401915868388167
          ],
          [
           1.6867971678467302,
           1.6068304872969592,
           1.5301957517700955,
           1.4568929612661385,
           1.3869221157850893,
           1.3202832153269468,
           1.2569762598917116,
           1.1970012494793831,
           1.1403581840899624,
           1.0870470637234484,
           1.0370678883798412,
           0.9904206580591417,
           0.947105372761349,
           0.9071220324864637,
           0.8704706372344853,
           0.8371511870054142,
           0.80716368179925,
           0.780508121615993,
           0.7571845064556433,
           0.7371928363182003,
           0.7205331112036648,
           0.7072053311120363,
           0.6972094960433151,
           0.6905456059975006,
           0.6872136609745936,
           0.6872136609745936,
           0.6905456059975006,
           0.6972094960433148,
           0.7072053311120363,
           0.7205331112036648,
           0.7371928363182003,
           0.7571845064556431,
           0.7805081216159928,
           0.80716368179925,
           0.837151187005414,
           0.870470637234485,
           0.9071220324864635,
           0.947105372761349,
           0.9904206580591417,
           1.0370678883798412,
           1.087047063723448,
           1.140358184089962,
           1.1970012494793831,
           1.2569762598917116,
           1.3202832153269464,
           1.3869221157850888,
           1.4568929612661385,
           1.530195751770095,
           1.6068304872969592,
           1.6867971678467302
          ],
          [
           1.840066638900458,
           1.760099958350687,
           1.6834652228238234,
           1.6101624323198664,
           1.5401915868388172,
           1.4735526863806747,
           1.410245730945439,
           1.350270720533111,
           1.2936276551436903,
           1.2403165347771763,
           1.190337359433569,
           1.1436901291128696,
           1.1003748438150769,
           1.0603915035401914,
           1.0237401082882132,
           0.9904206580591421,
           0.9604331528529779,
           0.9337775926697209,
           0.9104539775093712,
           0.8904623073719282,
           0.8738025822573927,
           0.8604748021657642,
           0.850478967097043,
           0.8438150770512285,
           0.8404831320283215,
           0.8404831320283215,
           0.8438150770512285,
           0.8504789670970427,
           0.8604748021657642,
           0.8738025822573927,
           0.8904623073719282,
           0.910453977509371,
           0.9337775926697207,
           0.9604331528529779,
           0.9904206580591419,
           1.0237401082882132,
           1.0603915035401914,
           1.1003748438150769,
           1.1436901291128696,
           1.190337359433569,
           1.2403165347771758,
           1.2936276551436898,
           1.350270720533111,
           1.410245730945439,
           1.4735526863806743,
           1.5401915868388167,
           1.6101624323198664,
           1.6834652228238234,
           1.760099958350687,
           1.840066638900458
          ],
          [
           2,
           1.920033319450229,
           1.8433985839233653,
           1.7700957934194084,
           1.700124947938359,
           1.6334860474802166,
           1.570179092044981,
           1.510204081632653,
           1.4535610162432322,
           1.4002498958767182,
           1.350270720533111,
           1.3036234902124115,
           1.2603082049146188,
           1.2203248646397333,
           1.183673469387755,
           1.150354019158684,
           1.1203665139525198,
           1.0937109537692629,
           1.070387338608913,
           1.0503956684714701,
           1.0337359433569349,
           1.020408163265306,
           1.0104123281965847,
           1.0037484381507706,
           1.0004164931278634,
           1.0004164931278634,
           1.0037484381507706,
           1.0104123281965847,
           1.020408163265306,
           1.0337359433569344,
           1.0503956684714701,
           1.0703873386089127,
           1.0937109537692629,
           1.1203665139525198,
           1.150354019158684,
           1.183673469387755,
           1.2203248646397333,
           1.2603082049146188,
           1.3036234902124115,
           1.350270720533111,
           1.4002498958767178,
           1.4535610162432318,
           1.510204081632653,
           1.570179092044981,
           1.6334860474802162,
           1.7001249479383587,
           1.7700957934194084,
           1.8433985839233653,
           1.920033319450229,
           2
          ]
         ]
        }
       ],
       "layout": {
        "template": {
         "data": {
          "bar": [
           {
            "error_x": {
             "color": "#2a3f5f"
            },
            "error_y": {
             "color": "#2a3f5f"
            },
            "marker": {
             "line": {
              "color": "#E5ECF6",
              "width": 0.5
             }
            },
            "type": "bar"
           }
          ],
          "barpolar": [
           {
            "marker": {
             "line": {
              "color": "#E5ECF6",
              "width": 0.5
             }
            },
            "type": "barpolar"
           }
          ],
          "carpet": [
           {
            "aaxis": {
             "endlinecolor": "#2a3f5f",
             "gridcolor": "white",
             "linecolor": "white",
             "minorgridcolor": "white",
             "startlinecolor": "#2a3f5f"
            },
            "baxis": {
             "endlinecolor": "#2a3f5f",
             "gridcolor": "white",
             "linecolor": "white",
             "minorgridcolor": "white",
             "startlinecolor": "#2a3f5f"
            },
            "type": "carpet"
           }
          ],
          "choropleth": [
           {
            "colorbar": {
             "outlinewidth": 0,
             "ticks": ""
            },
            "type": "choropleth"
           }
          ],
          "contour": [
           {
            "colorbar": {
             "outlinewidth": 0,
             "ticks": ""
            },
            "colorscale": [
             [
              0,
              "#0d0887"
             ],
             [
              0.1111111111111111,
              "#46039f"
             ],
             [
              0.2222222222222222,
              "#7201a8"
             ],
             [
              0.3333333333333333,
              "#9c179e"
             ],
             [
              0.4444444444444444,
              "#bd3786"
             ],
             [
              0.5555555555555556,
              "#d8576b"
             ],
             [
              0.6666666666666666,
              "#ed7953"
             ],
             [
              0.7777777777777778,
              "#fb9f3a"
             ],
             [
              0.8888888888888888,
              "#fdca26"
             ],
             [
              1,
              "#f0f921"
             ]
            ],
            "type": "contour"
           }
          ],
          "contourcarpet": [
           {
            "colorbar": {
             "outlinewidth": 0,
             "ticks": ""
            },
            "type": "contourcarpet"
           }
          ],
          "heatmap": [
           {
            "colorbar": {
             "outlinewidth": 0,
             "ticks": ""
            },
            "colorscale": [
             [
              0,
              "#0d0887"
             ],
             [
              0.1111111111111111,
              "#46039f"
             ],
             [
              0.2222222222222222,
              "#7201a8"
             ],
             [
              0.3333333333333333,
              "#9c179e"
             ],
             [
              0.4444444444444444,
              "#bd3786"
             ],
             [
              0.5555555555555556,
              "#d8576b"
             ],
             [
              0.6666666666666666,
              "#ed7953"
             ],
             [
              0.7777777777777778,
              "#fb9f3a"
             ],
             [
              0.8888888888888888,
              "#fdca26"
             ],
             [
              1,
              "#f0f921"
             ]
            ],
            "type": "heatmap"
           }
          ],
          "heatmapgl": [
           {
            "colorbar": {
             "outlinewidth": 0,
             "ticks": ""
            },
            "colorscale": [
             [
              0,
              "#0d0887"
             ],
             [
              0.1111111111111111,
              "#46039f"
             ],
             [
              0.2222222222222222,
              "#7201a8"
             ],
             [
              0.3333333333333333,
              "#9c179e"
             ],
             [
              0.4444444444444444,
              "#bd3786"
             ],
             [
              0.5555555555555556,
              "#d8576b"
             ],
             [
              0.6666666666666666,
              "#ed7953"
             ],
             [
              0.7777777777777778,
              "#fb9f3a"
             ],
             [
              0.8888888888888888,
              "#fdca26"
             ],
             [
              1,
              "#f0f921"
             ]
            ],
            "type": "heatmapgl"
           }
          ],
          "histogram": [
           {
            "marker": {
             "colorbar": {
              "outlinewidth": 0,
              "ticks": ""
             }
            },
            "type": "histogram"
           }
          ],
          "histogram2d": [
           {
            "colorbar": {
             "outlinewidth": 0,
             "ticks": ""
            },
            "colorscale": [
             [
              0,
              "#0d0887"
             ],
             [
              0.1111111111111111,
              "#46039f"
             ],
             [
              0.2222222222222222,
              "#7201a8"
             ],
             [
              0.3333333333333333,
              "#9c179e"
             ],
             [
              0.4444444444444444,
              "#bd3786"
             ],
             [
              0.5555555555555556,
              "#d8576b"
             ],
             [
              0.6666666666666666,
              "#ed7953"
             ],
             [
              0.7777777777777778,
              "#fb9f3a"
             ],
             [
              0.8888888888888888,
              "#fdca26"
             ],
             [
              1,
              "#f0f921"
             ]
            ],
            "type": "histogram2d"
           }
          ],
          "histogram2dcontour": [
           {
            "colorbar": {
             "outlinewidth": 0,
             "ticks": ""
            },
            "colorscale": [
             [
              0,
              "#0d0887"
             ],
             [
              0.1111111111111111,
              "#46039f"
             ],
             [
              0.2222222222222222,
              "#7201a8"
             ],
             [
              0.3333333333333333,
              "#9c179e"
             ],
             [
              0.4444444444444444,
              "#bd3786"
             ],
             [
              0.5555555555555556,
              "#d8576b"
             ],
             [
              0.6666666666666666,
              "#ed7953"
             ],
             [
              0.7777777777777778,
              "#fb9f3a"
             ],
             [
              0.8888888888888888,
              "#fdca26"
             ],
             [
              1,
              "#f0f921"
             ]
            ],
            "type": "histogram2dcontour"
           }
          ],
          "mesh3d": [
           {
            "colorbar": {
             "outlinewidth": 0,
             "ticks": ""
            },
            "type": "mesh3d"
           }
          ],
          "parcoords": [
           {
            "line": {
             "colorbar": {
              "outlinewidth": 0,
              "ticks": ""
             }
            },
            "type": "parcoords"
           }
          ],
          "pie": [
           {
            "automargin": true,
            "type": "pie"
           }
          ],
          "scatter": [
           {
            "marker": {
             "colorbar": {
              "outlinewidth": 0,
              "ticks": ""
             }
            },
            "type": "scatter"
           }
          ],
          "scatter3d": [
           {
            "line": {
             "colorbar": {
              "outlinewidth": 0,
              "ticks": ""
             }
            },
            "marker": {
             "colorbar": {
              "outlinewidth": 0,
              "ticks": ""
             }
            },
            "type": "scatter3d"
           }
          ],
          "scattercarpet": [
           {
            "marker": {
             "colorbar": {
              "outlinewidth": 0,
              "ticks": ""
             }
            },
            "type": "scattercarpet"
           }
          ],
          "scattergeo": [
           {
            "marker": {
             "colorbar": {
              "outlinewidth": 0,
              "ticks": ""
             }
            },
            "type": "scattergeo"
           }
          ],
          "scattergl": [
           {
            "marker": {
             "colorbar": {
              "outlinewidth": 0,
              "ticks": ""
             }
            },
            "type": "scattergl"
           }
          ],
          "scattermapbox": [
           {
            "marker": {
             "colorbar": {
              "outlinewidth": 0,
              "ticks": ""
             }
            },
            "type": "scattermapbox"
           }
          ],
          "scatterpolar": [
           {
            "marker": {
             "colorbar": {
              "outlinewidth": 0,
              "ticks": ""
             }
            },
            "type": "scatterpolar"
           }
          ],
          "scatterpolargl": [
           {
            "marker": {
             "colorbar": {
              "outlinewidth": 0,
              "ticks": ""
             }
            },
            "type": "scatterpolargl"
           }
          ],
          "scatterternary": [
           {
            "marker": {
             "colorbar": {
              "outlinewidth": 0,
              "ticks": ""
             }
            },
            "type": "scatterternary"
           }
          ],
          "surface": [
           {
            "colorbar": {
             "outlinewidth": 0,
             "ticks": ""
            },
            "colorscale": [
             [
              0,
              "#0d0887"
             ],
             [
              0.1111111111111111,
              "#46039f"
             ],
             [
              0.2222222222222222,
              "#7201a8"
             ],
             [
              0.3333333333333333,
              "#9c179e"
             ],
             [
              0.4444444444444444,
              "#bd3786"
             ],
             [
              0.5555555555555556,
              "#d8576b"
             ],
             [
              0.6666666666666666,
              "#ed7953"
             ],
             [
              0.7777777777777778,
              "#fb9f3a"
             ],
             [
              0.8888888888888888,
              "#fdca26"
             ],
             [
              1,
              "#f0f921"
             ]
            ],
            "type": "surface"
           }
          ],
          "table": [
           {
            "cells": {
             "fill": {
              "color": "#EBF0F8"
             },
             "line": {
              "color": "white"
             }
            },
            "header": {
             "fill": {
              "color": "#C8D4E3"
             },
             "line": {
              "color": "white"
             }
            },
            "type": "table"
           }
          ]
         },
         "layout": {
          "annotationdefaults": {
           "arrowcolor": "#2a3f5f",
           "arrowhead": 0,
           "arrowwidth": 1
          },
          "coloraxis": {
           "colorbar": {
            "outlinewidth": 0,
            "ticks": ""
           }
          },
          "colorscale": {
           "diverging": [
            [
             0,
             "#8e0152"
            ],
            [
             0.1,
             "#c51b7d"
            ],
            [
             0.2,
             "#de77ae"
            ],
            [
             0.3,
             "#f1b6da"
            ],
            [
             0.4,
             "#fde0ef"
            ],
            [
             0.5,
             "#f7f7f7"
            ],
            [
             0.6,
             "#e6f5d0"
            ],
            [
             0.7,
             "#b8e186"
            ],
            [
             0.8,
             "#7fbc41"
            ],
            [
             0.9,
             "#4d9221"
            ],
            [
             1,
             "#276419"
            ]
           ],
           "sequential": [
            [
             0,
             "#0d0887"
            ],
            [
             0.1111111111111111,
             "#46039f"
            ],
            [
             0.2222222222222222,
             "#7201a8"
            ],
            [
             0.3333333333333333,
             "#9c179e"
            ],
            [
             0.4444444444444444,
             "#bd3786"
            ],
            [
             0.5555555555555556,
             "#d8576b"
            ],
            [
             0.6666666666666666,
             "#ed7953"
            ],
            [
             0.7777777777777778,
             "#fb9f3a"
            ],
            [
             0.8888888888888888,
             "#fdca26"
            ],
            [
             1,
             "#f0f921"
            ]
           ],
           "sequentialminus": [
            [
             0,
             "#0d0887"
            ],
            [
             0.1111111111111111,
             "#46039f"
            ],
            [
             0.2222222222222222,
             "#7201a8"
            ],
            [
             0.3333333333333333,
             "#9c179e"
            ],
            [
             0.4444444444444444,
             "#bd3786"
            ],
            [
             0.5555555555555556,
             "#d8576b"
            ],
            [
             0.6666666666666666,
             "#ed7953"
            ],
            [
             0.7777777777777778,
             "#fb9f3a"
            ],
            [
             0.8888888888888888,
             "#fdca26"
            ],
            [
             1,
             "#f0f921"
            ]
           ]
          },
          "colorway": [
           "#636efa",
           "#EF553B",
           "#00cc96",
           "#ab63fa",
           "#FFA15A",
           "#19d3f3",
           "#FF6692",
           "#B6E880",
           "#FF97FF",
           "#FECB52"
          ],
          "font": {
           "color": "#2a3f5f"
          },
          "geo": {
           "bgcolor": "white",
           "lakecolor": "white",
           "landcolor": "#E5ECF6",
           "showlakes": true,
           "showland": true,
           "subunitcolor": "white"
          },
          "hoverlabel": {
           "align": "left"
          },
          "hovermode": "closest",
          "mapbox": {
           "style": "light"
          },
          "paper_bgcolor": "white",
          "plot_bgcolor": "#E5ECF6",
          "polar": {
           "angularaxis": {
            "gridcolor": "white",
            "linecolor": "white",
            "ticks": ""
           },
           "bgcolor": "#E5ECF6",
           "radialaxis": {
            "gridcolor": "white",
            "linecolor": "white",
            "ticks": ""
           }
          },
          "scene": {
           "xaxis": {
            "backgroundcolor": "#E5ECF6",
            "gridcolor": "white",
            "gridwidth": 2,
            "linecolor": "white",
            "showbackground": true,
            "ticks": "",
            "zerolinecolor": "white"
           },
           "yaxis": {
            "backgroundcolor": "#E5ECF6",
            "gridcolor": "white",
            "gridwidth": 2,
            "linecolor": "white",
            "showbackground": true,
            "ticks": "",
            "zerolinecolor": "white"
           },
           "zaxis": {
            "backgroundcolor": "#E5ECF6",
            "gridcolor": "white",
            "gridwidth": 2,
            "linecolor": "white",
            "showbackground": true,
            "ticks": "",
            "zerolinecolor": "white"
           }
          },
          "shapedefaults": {
           "line": {
            "color": "#2a3f5f"
           }
          },
          "ternary": {
           "aaxis": {
            "gridcolor": "white",
            "linecolor": "white",
            "ticks": ""
           },
           "baxis": {
            "gridcolor": "white",
            "linecolor": "white",
            "ticks": ""
           },
           "bgcolor": "#E5ECF6",
           "caxis": {
            "gridcolor": "white",
            "linecolor": "white",
            "ticks": ""
           }
          },
          "title": {
           "x": 0.05
          },
          "xaxis": {
           "automargin": true,
           "gridcolor": "white",
           "linecolor": "white",
           "ticks": "",
           "title": {
            "standoff": 15
           },
           "zerolinecolor": "white",
           "zerolinewidth": 2
          },
          "yaxis": {
           "automargin": true,
           "gridcolor": "white",
           "linecolor": "white",
           "ticks": "",
           "title": {
            "standoff": 15
           },
           "zerolinecolor": "white",
           "zerolinewidth": 2
          }
         }
        },
        "title": {
         "text": "Eq(x**2/4 + y**2/2, 1)"
        },
        "xaxis": {
         "title": {
          "text": "X"
         }
        },
        "yaxis": {
         "scaleanchor": "x",
         "scaleratio": 1,
         "title": {
          "text": "Y"
         }
        }
       }
      }
     },
     "metadata": {}
    }
   ],
   "source": [
    "av.plot_implicit(eq, (x,-2,2), (y,-2,2))"
   ]
  },
  {
   "cell_type": "code",
   "execution_count": 2,
   "metadata": {},
   "outputs": [],
   "source": [
    "def elipse(t, a=1, b=2):\n",
    "    return a*sp.cos(t)*R.i + b*sp.sin(t)*R.j"
   ]
  },
  {
   "cell_type": "code",
   "execution_count": 5,
   "metadata": {},
   "outputs": [
    {
     "output_type": "execute_result",
     "data": {
      "text/plain": [
       "(cos(t)) i_R + (2⋅sin(t)) j_R"
      ],
      "image/png": "[encoded data removed]",
      "text/latex": "$\\displaystyle (\\cos{\\left(t \\right)})\\mathbf{\\hat{i}_{R}} + (2 \\sin{\\left(t \\right)})\\mathbf{\\hat{j}_{R}}$"
     },
     "metadata": {},
     "execution_count": 5
    }
   ],
   "source": [
    "elipse(t)"
   ]
  },
  {
   "cell_type": "code",
   "execution_count": 8,
   "metadata": {},
   "outputs": [
    {
     "output_type": "stream",
     "name": "stderr",
     "text": [
      "/home/vahid/miniconda3/lib/python3.8/site-packages/IPython/lib/latextools.py:126: MatplotlibDeprecationWarning: \nThe to_png function was deprecated in Matplotlib 3.4 and will be removed two minor releases later. Use mathtext.math_to_image instead.\n  mt.to_png(f, s, fontsize=12, dpi=dpi, color=color)\n/home/vahid/miniconda3/lib/python3.8/site-packages/IPython/lib/latextools.py:126: MatplotlibDeprecationWarning: \nThe to_rgba function was deprecated in Matplotlib 3.4 and will be removed two minor releases later. Use mathtext.math_to_image instead.\n  mt.to_png(f, s, fontsize=12, dpi=dpi, color=color)\n/home/vahid/miniconda3/lib/python3.8/site-packages/IPython/lib/latextools.py:126: MatplotlibDeprecationWarning: \nThe to_mask function was deprecated in Matplotlib 3.4 and will be removed two minor releases later. Use mathtext.math_to_image instead.\n  mt.to_png(f, s, fontsize=12, dpi=dpi, color=color)\n/home/vahid/miniconda3/lib/python3.8/site-packages/IPython/lib/latextools.py:126: MatplotlibDeprecationWarning: \nThe MathtextBackendBitmap class was deprecated in Matplotlib 3.4 and will be removed two minor releases later. Use mathtext.math_to_image instead.\n  mt.to_png(f, s, fontsize=12, dpi=dpi, color=color)\n"
     ]
    },
    {
     "output_type": "execute_result",
     "data": {
      "text/plain": [
       "x"
      ],
      "image/png": "[encoded data removed]",
      "text/latex": "$\\displaystyle x$"
     },
     "metadata": {},
     "execution_count": 8
    }
   ],
   "source": [
    "x"
   ]
  },
  {
   "cell_type": "code",
   "execution_count": null,
   "metadata": {},
   "outputs": [],
   "source": []
  }
 ]
}